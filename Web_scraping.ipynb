{
 "cells": [
  {
   "cell_type": "code",
   "execution_count": 1,
   "metadata": {},
   "outputs": [],
   "source": [
    "from bs4 import BeautifulSoup\n",
    "import requests\n",
    "import json"
   ]
  },
  {
   "cell_type": "code",
   "execution_count": 2,
   "metadata": {},
   "outputs": [
    {
     "data": {
      "text/html": [
       "<!DOCTYPE html>\n",
       "<html>\n",
       "<head>\n",
       "<title>page Title</title>\n",
       "</head>\n",
       "<body>\n",
       "<h3><b id='boldest'>Lebron James</b></h3>\n",
       "<p> Salary: $ 92,000,000 </p>\n",
       "<h3> Stephen Curry</h3>\n",
       "<p> Salary: $85,000, 000 </p>\n",
       "<h3> Kevin Durant </h3>\n",
       "<p> Salary: $73,200, 000</p>\n",
       "</body>\n",
       "</html>\n"
      ],
      "text/plain": [
       "<IPython.core.display.HTML object>"
      ]
     },
     "metadata": {},
     "output_type": "display_data"
    }
   ],
   "source": [
    "%%html\n",
    "<!DOCTYPE html>\n",
    "<html>\n",
    "<head>\n",
    "<title>page Title</title>\n",
    "</head>\n",
    "<body>\n",
    "<h3><b id='boldest'>Lebron James</b></h3>\n",
    "<p> Salary: $ 92,000,000 </p>\n",
    "<h3> Stephen Curry</h3>\n",
    "<p> Salary: $85,000, 000 </p>\n",
    "<h3> Kevin Durant </h3>\n",
    "<p> Salary: $73,200, 000</p>\n",
    "</body>\n",
    "</html>"
   ]
  },
  {
   "cell_type": "code",
   "execution_count": 3,
   "metadata": {},
   "outputs": [],
   "source": [
    "html=\"<!DOCTYPE html><html><head><title>Page Title</title></head><body><h3><b id='boldest'>Lebron James</b></h3><p> Salary: $ 92,000,000 </p><h3> Stephen Curry</h3><p> Salary: $85,000, 000 </p><h3> Kevin Durant </h3><p> Salary: $73,200, 000</p></body></html>\""
   ]
  },
  {
   "cell_type": "code",
   "execution_count": 4,
   "metadata": {},
   "outputs": [],
   "source": [
    "soup = BeautifulSoup(html, 'html5lib')"
   ]
  },
  {
   "cell_type": "code",
   "execution_count": 5,
   "metadata": {},
   "outputs": [
    {
     "name": "stdout",
     "output_type": "stream",
     "text": [
      "<!DOCTYPE html>\n",
      "<html>\n",
      " <head>\n",
      "  <title>\n",
      "   Page Title\n",
      "  </title>\n",
      " </head>\n",
      " <body>\n",
      "  <h3>\n",
      "   <b id=\"boldest\">\n",
      "    Lebron James\n",
      "   </b>\n",
      "  </h3>\n",
      "  <p>\n",
      "   Salary: $ 92,000,000\n",
      "  </p>\n",
      "  <h3>\n",
      "   Stephen Curry\n",
      "  </h3>\n",
      "  <p>\n",
      "   Salary: $85,000, 000\n",
      "  </p>\n",
      "  <h3>\n",
      "   Kevin Durant\n",
      "  </h3>\n",
      "  <p>\n",
      "   Salary: $73,200, 000\n",
      "  </p>\n",
      " </body>\n",
      "</html>\n"
     ]
    }
   ],
   "source": [
    "print(soup.prettify())"
   ]
  },
  {
   "cell_type": "code",
   "execution_count": 6,
   "metadata": {},
   "outputs": [
    {
     "name": "stdout",
     "output_type": "stream",
     "text": [
      "tag_object: <title>Page Title</title>\n"
     ]
    }
   ],
   "source": [
    "tag_object = soup.title\n",
    "print('tag_object:', tag_object)"
   ]
  },
  {
   "cell_type": "code",
   "execution_count": 7,
   "metadata": {},
   "outputs": [
    {
     "name": "stdout",
     "output_type": "stream",
     "text": [
      "<class 'bs4.element.Tag'>\n"
     ]
    }
   ],
   "source": [
    "print(type(tag_object))"
   ]
  },
  {
   "cell_type": "markdown",
   "metadata": {},
   "source": [
    "### Tag_object"
   ]
  },
  {
   "cell_type": "code",
   "execution_count": 8,
   "metadata": {},
   "outputs": [
    {
     "data": {
      "text/plain": [
       "<h3><b id=\"boldest\">Lebron James</b></h3>"
      ]
     },
     "execution_count": 8,
     "metadata": {},
     "output_type": "execute_result"
    }
   ],
   "source": [
    "tag_object = soup.h3\n",
    "tag_object"
   ]
  },
  {
   "cell_type": "markdown",
   "metadata": {},
   "source": [
    "# Children, Parents, and Siblings\n",
    "\n",
    "### Tag_child"
   ]
  },
  {
   "cell_type": "code",
   "execution_count": 9,
   "metadata": {},
   "outputs": [
    {
     "data": {
      "text/plain": [
       "<b id=\"boldest\">Lebron James</b>"
      ]
     },
     "execution_count": 9,
     "metadata": {},
     "output_type": "execute_result"
    }
   ],
   "source": [
    "tag_child = tag_object.b\n",
    "tag_child"
   ]
  },
  {
   "cell_type": "markdown",
   "metadata": {},
   "source": [
    "### Parent_tag"
   ]
  },
  {
   "cell_type": "code",
   "execution_count": 10,
   "metadata": {},
   "outputs": [
    {
     "data": {
      "text/plain": [
       "<h3><b id=\"boldest\">Lebron James</b></h3>"
      ]
     },
     "execution_count": 10,
     "metadata": {},
     "output_type": "execute_result"
    }
   ],
   "source": [
    "parent_tag = tag_child.parent\n",
    "parent_tag"
   ]
  },
  {
   "cell_type": "code",
   "execution_count": 11,
   "metadata": {},
   "outputs": [
    {
     "data": {
      "text/plain": [
       "<body><h3><b id=\"boldest\">Lebron James</b></h3><p> Salary: $ 92,000,000 </p><h3> Stephen Curry</h3><p> Salary: $85,000, 000 </p><h3> Kevin Durant </h3><p> Salary: $73,200, 000</p></body>"
      ]
     },
     "execution_count": 11,
     "metadata": {},
     "output_type": "execute_result"
    }
   ],
   "source": [
    "tag_object.parent"
   ]
  },
  {
   "cell_type": "markdown",
   "metadata": {},
   "source": [
    "### Siblings"
   ]
  },
  {
   "cell_type": "code",
   "execution_count": 12,
   "metadata": {},
   "outputs": [
    {
     "data": {
      "text/plain": [
       "<p> Salary: $ 92,000,000 </p>"
      ]
     },
     "execution_count": 12,
     "metadata": {},
     "output_type": "execute_result"
    }
   ],
   "source": [
    "sibling_1 = tag_object.next_sibling\n",
    "sibling_1"
   ]
  },
  {
   "cell_type": "code",
   "execution_count": 13,
   "metadata": {},
   "outputs": [
    {
     "data": {
      "text/plain": [
       "<h3> Stephen Curry</h3>"
      ]
     },
     "execution_count": 13,
     "metadata": {},
     "output_type": "execute_result"
    }
   ],
   "source": [
    "sibling_2 = sibling_1.next_sibling\n",
    "sibling_2"
   ]
  },
  {
   "cell_type": "code",
   "execution_count": 14,
   "metadata": {},
   "outputs": [
    {
     "data": {
      "text/plain": [
       "<p> Salary: $85,000, 000 </p>"
      ]
     },
     "execution_count": 14,
     "metadata": {},
     "output_type": "execute_result"
    }
   ],
   "source": [
    "sibling_3 = sibling_2.next_sibling\n",
    "sibling_3"
   ]
  },
  {
   "cell_type": "markdown",
   "metadata": {},
   "source": [
    "# HTML Attributes"
   ]
  },
  {
   "cell_type": "code",
   "execution_count": 15,
   "metadata": {
    "scrolled": true
   },
   "outputs": [
    {
     "data": {
      "text/plain": [
       "'boldest'"
      ]
     },
     "execution_count": 15,
     "metadata": {},
     "output_type": "execute_result"
    }
   ],
   "source": [
    "tag_child['id']"
   ]
  },
  {
   "cell_type": "code",
   "execution_count": 16,
   "metadata": {},
   "outputs": [
    {
     "data": {
      "text/plain": [
       "'boldest'"
      ]
     },
     "execution_count": 16,
     "metadata": {},
     "output_type": "execute_result"
    }
   ],
   "source": [
    "tag_child.get('id')"
   ]
  },
  {
   "cell_type": "code",
   "execution_count": 17,
   "metadata": {},
   "outputs": [
    {
     "data": {
      "text/plain": [
       "{'id': 'boldest'}"
      ]
     },
     "execution_count": 17,
     "metadata": {},
     "output_type": "execute_result"
    }
   ],
   "source": [
    "tag_child.attrs"
   ]
  },
  {
   "cell_type": "markdown",
   "metadata": {},
   "source": [
    "# Navigable string"
   ]
  },
  {
   "cell_type": "code",
   "execution_count": 18,
   "metadata": {},
   "outputs": [
    {
     "data": {
      "text/plain": [
       "'Lebron James'"
      ]
     },
     "execution_count": 18,
     "metadata": {},
     "output_type": "execute_result"
    }
   ],
   "source": [
    "tag_string = tag_child.string\n",
    "tag_string"
   ]
  },
  {
   "cell_type": "code",
   "execution_count": 19,
   "metadata": {},
   "outputs": [
    {
     "data": {
      "text/plain": [
       "bs4.element.NavigableString"
      ]
     },
     "execution_count": 19,
     "metadata": {},
     "output_type": "execute_result"
    }
   ],
   "source": [
    "type(tag_string)"
   ]
  },
  {
   "cell_type": "code",
   "execution_count": 20,
   "metadata": {
    "scrolled": true
   },
   "outputs": [
    {
     "data": {
      "text/plain": [
       "str"
      ]
     },
     "execution_count": 20,
     "metadata": {},
     "output_type": "execute_result"
    }
   ],
   "source": [
    "# converting Navigablestring into string object in python\n",
    "unicode_string = str(tag_string)\n",
    "type(unicode_string)"
   ]
  },
  {
   "cell_type": "markdown",
   "metadata": {},
   "source": [
    "# Filter\n",
    "- Filters allow you to find complex patterns, the simplest filter is a string. In this section we will pass a string to a different filter method and Beautiful Soup will perform a match against that exact string. Consider the following HTML of rocket launchs:"
   ]
  },
  {
   "cell_type": "code",
   "execution_count": 21,
   "metadata": {},
   "outputs": [
    {
     "data": {
      "text/html": [
       "<table>\n",
       "  <tr>\n",
       "    <td id='flight' >Flight No</td>\n",
       "    <td>Launch site</td> \n",
       "    <td>Payload mass</td>\n",
       "   </tr>\n",
       "  <tr> \n",
       "    <td>1</td>\n",
       "    <td><a href='https://en.wikipedia.org/wiki/Florida'>Florida</a></td>\n",
       "    <td>300 kg</td>\n",
       "  </tr>\n",
       "  <tr>\n",
       "    <td>2</td>\n",
       "    <td><a href='https://en.wikipedia.org/wiki/Texas'>Texas</a></td>\n",
       "    <td>94 kg</td>\n",
       "  </tr>\n",
       "  <tr>\n",
       "    <td>3</td>\n",
       "    <td><a href='https://en.wikipedia.org/wiki/Florida'>Florida<a> </td>\n",
       "    <td>80 kg</td>\n",
       "  </tr>\n",
       "</table>\n"
      ],
      "text/plain": [
       "<IPython.core.display.HTML object>"
      ]
     },
     "metadata": {},
     "output_type": "display_data"
    }
   ],
   "source": [
    "%%html\n",
    "<table>\n",
    "  <tr>\n",
    "    <td id='flight' >Flight No</td>\n",
    "    <td>Launch site</td> \n",
    "    <td>Payload mass</td>\n",
    "   </tr>\n",
    "  <tr> \n",
    "    <td>1</td>\n",
    "    <td><a href='https://en.wikipedia.org/wiki/Florida'>Florida</a></td>\n",
    "    <td>300 kg</td>\n",
    "  </tr>\n",
    "  <tr>\n",
    "    <td>2</td>\n",
    "    <td><a href='https://en.wikipedia.org/wiki/Texas'>Texas</a></td>\n",
    "    <td>94 kg</td>\n",
    "  </tr>\n",
    "  <tr>\n",
    "    <td>3</td>\n",
    "    <td><a href='https://en.wikipedia.org/wiki/Florida'>Florida<a> </td>\n",
    "    <td>80 kg</td>\n",
    "  </tr>\n",
    "</table>"
   ]
  },
  {
   "cell_type": "code",
   "execution_count": 22,
   "metadata": {},
   "outputs": [],
   "source": [
    "table=\"<table><tr><td id='flight'>Flight No</td><td>Launch site</td> <td>Payload mass</td></tr><tr> <td>1</td><td><a href='https://en.wikipedia.org/wiki/Florida'>Florida<a></td><td>300 kg</td></tr><tr><td>2</td><td><a href='https://en.wikipedia.org/wiki/Texas'>Texas</a></td><td>94 kg</td></tr><tr><td>3</td><td><a href='https://en.wikipedia.org/wiki/Florida'>Florida<a> </td><td>80 kg</td></tr></table>\""
   ]
  },
  {
   "cell_type": "code",
   "execution_count": 23,
   "metadata": {},
   "outputs": [],
   "source": [
    "table_bs= BeautifulSoup(table, 'html5lib')"
   ]
  },
  {
   "cell_type": "markdown",
   "metadata": {},
   "source": [
    "# Find All\n",
    "- The find_all() method looks through a tag’s descendants and retrieves all descendants that match your filters.\n",
    "\n",
    "- The Method signature for find_all(name, attrs, recursive, string, limit, **kwargs)"
   ]
  },
  {
   "cell_type": "markdown",
   "metadata": {},
   "source": [
    "### Name"
   ]
  },
  {
   "cell_type": "code",
   "execution_count": 24,
   "metadata": {},
   "outputs": [
    {
     "data": {
      "text/plain": [
       "[<tr><td id=\"flight\">Flight No</td><td>Launch site</td> <td>Payload mass</td></tr>,\n",
       " <tr> <td>1</td><td><a href=\"https://en.wikipedia.org/wiki/Florida\">Florida</a><a></a></td><td>300 kg</td></tr>,\n",
       " <tr><td>2</td><td><a href=\"https://en.wikipedia.org/wiki/Texas\">Texas</a></td><td>94 kg</td></tr>,\n",
       " <tr><td>3</td><td><a href=\"https://en.wikipedia.org/wiki/Florida\">Florida</a><a> </a></td><td>80 kg</td></tr>]"
      ]
     },
     "execution_count": 24,
     "metadata": {},
     "output_type": "execute_result"
    }
   ],
   "source": [
    "table_rows = table_bs.find_all('tr')\n",
    "table_rows"
   ]
  },
  {
   "cell_type": "code",
   "execution_count": 25,
   "metadata": {},
   "outputs": [],
   "source": [
    "first_row=table_rows[0]"
   ]
  },
  {
   "cell_type": "code",
   "execution_count": 26,
   "metadata": {},
   "outputs": [
    {
     "data": {
      "text/plain": [
       "bs4.element.Tag"
      ]
     },
     "execution_count": 26,
     "metadata": {},
     "output_type": "execute_result"
    }
   ],
   "source": [
    "type(first_row)"
   ]
  },
  {
   "cell_type": "code",
   "execution_count": 27,
   "metadata": {},
   "outputs": [
    {
     "data": {
      "text/plain": [
       "<td id=\"flight\">Flight No</td>"
      ]
     },
     "execution_count": 27,
     "metadata": {},
     "output_type": "execute_result"
    }
   ],
   "source": [
    "first_row.td"
   ]
  },
  {
   "cell_type": "code",
   "execution_count": 28,
   "metadata": {},
   "outputs": [
    {
     "name": "stdout",
     "output_type": "stream",
     "text": [
      "row 0 is <tr><td id=\"flight\">Flight No</td><td>Launch site</td> <td>Payload mass</td></tr>\n",
      "row 1 is <tr> <td>1</td><td><a href=\"https://en.wikipedia.org/wiki/Florida\">Florida</a><a></a></td><td>300 kg</td></tr>\n",
      "row 2 is <tr><td>2</td><td><a href=\"https://en.wikipedia.org/wiki/Texas\">Texas</a></td><td>94 kg</td></tr>\n",
      "row 3 is <tr><td>3</td><td><a href=\"https://en.wikipedia.org/wiki/Florida\">Florida</a><a> </a></td><td>80 kg</td></tr>\n"
     ]
    }
   ],
   "source": [
    "for i, row in enumerate(table_rows):\n",
    "    print('row', i, 'is', row)"
   ]
  },
  {
   "cell_type": "code",
   "execution_count": 29,
   "metadata": {},
   "outputs": [
    {
     "name": "stdout",
     "output_type": "stream",
     "text": [
      "row 0\n",
      "column 0 cell <td id=\"flight\">Flight No</td>\n",
      "column 1 cell <td>Launch site</td>\n",
      "column 2 cell <td>Payload mass</td>\n",
      "row 1\n",
      "column 0 cell <td>1</td>\n",
      "column 1 cell <td><a href=\"https://en.wikipedia.org/wiki/Florida\">Florida</a><a></a></td>\n",
      "column 2 cell <td>300 kg</td>\n",
      "row 2\n",
      "column 0 cell <td>2</td>\n",
      "column 1 cell <td><a href=\"https://en.wikipedia.org/wiki/Texas\">Texas</a></td>\n",
      "column 2 cell <td>94 kg</td>\n",
      "row 3\n",
      "column 0 cell <td>3</td>\n",
      "column 1 cell <td><a href=\"https://en.wikipedia.org/wiki/Florida\">Florida</a><a> </a></td>\n",
      "column 2 cell <td>80 kg</td>\n"
     ]
    }
   ],
   "source": [
    "for i, row in enumerate(table_rows):\n",
    "    print('row', i)\n",
    "    cells = row.find_all('td')\n",
    "    for j, cell in enumerate(cells):\n",
    "        print('column',j, 'cell', cell)"
   ]
  },
  {
   "cell_type": "code",
   "execution_count": 30,
   "metadata": {},
   "outputs": [
    {
     "data": {
      "text/plain": [
       "[<tr><td id=\"flight\">Flight No</td><td>Launch site</td> <td>Payload mass</td></tr>,\n",
       " <td id=\"flight\">Flight No</td>,\n",
       " <td>Launch site</td>,\n",
       " <td>Payload mass</td>,\n",
       " <tr> <td>1</td><td><a href=\"https://en.wikipedia.org/wiki/Florida\">Florida</a><a></a></td><td>300 kg</td></tr>,\n",
       " <td>1</td>,\n",
       " <td><a href=\"https://en.wikipedia.org/wiki/Florida\">Florida</a><a></a></td>,\n",
       " <td>300 kg</td>,\n",
       " <tr><td>2</td><td><a href=\"https://en.wikipedia.org/wiki/Texas\">Texas</a></td><td>94 kg</td></tr>,\n",
       " <td>2</td>,\n",
       " <td><a href=\"https://en.wikipedia.org/wiki/Texas\">Texas</a></td>,\n",
       " <td>94 kg</td>,\n",
       " <tr><td>3</td><td><a href=\"https://en.wikipedia.org/wiki/Florida\">Florida</a><a> </a></td><td>80 kg</td></tr>,\n",
       " <td>3</td>,\n",
       " <td><a href=\"https://en.wikipedia.org/wiki/Florida\">Florida</a><a> </a></td>,\n",
       " <td>80 kg</td>]"
      ]
     },
     "execution_count": 30,
     "metadata": {},
     "output_type": "execute_result"
    }
   ],
   "source": [
    "list_input = table_bs.find_all(name=['tr', 'td'])\n",
    "list_input"
   ]
  },
  {
   "cell_type": "markdown",
   "metadata": {},
   "source": [
    "## Attributes"
   ]
  },
  {
   "cell_type": "code",
   "execution_count": 31,
   "metadata": {},
   "outputs": [
    {
     "data": {
      "text/plain": [
       "[<td id=\"flight\">Flight No</td>]"
      ]
     },
     "execution_count": 31,
     "metadata": {},
     "output_type": "execute_result"
    }
   ],
   "source": [
    "table_bs.find_all(id='flight')"
   ]
  },
  {
   "cell_type": "code",
   "execution_count": 32,
   "metadata": {
    "scrolled": true
   },
   "outputs": [
    {
     "data": {
      "text/plain": [
       "[<a href=\"https://en.wikipedia.org/wiki/Florida\">Florida</a>,\n",
       " <a href=\"https://en.wikipedia.org/wiki/Florida\">Florida</a>]"
      ]
     },
     "execution_count": 32,
     "metadata": {},
     "output_type": "execute_result"
    }
   ],
   "source": [
    "list_input = table_bs.find_all(href='https://en.wikipedia.org/wiki/Florida')\n",
    "list_input"
   ]
  },
  {
   "cell_type": "code",
   "execution_count": 33,
   "metadata": {},
   "outputs": [
    {
     "data": {
      "text/plain": [
       "[<a href=\"https://en.wikipedia.org/wiki/Florida\">Florida</a>,\n",
       " <a href=\"https://en.wikipedia.org/wiki/Texas\">Texas</a>,\n",
       " <a href=\"https://en.wikipedia.org/wiki/Florida\">Florida</a>]"
      ]
     },
     "execution_count": 33,
     "metadata": {},
     "output_type": "execute_result"
    }
   ],
   "source": [
    "table_bs.find_all(href=True)"
   ]
  },
  {
   "cell_type": "code",
   "execution_count": 34,
   "metadata": {},
   "outputs": [
    {
     "data": {
      "text/plain": [
       "[<html><head></head><body><table><tbody><tr><td id=\"flight\">Flight No</td><td>Launch site</td> <td>Payload mass</td></tr><tr> <td>1</td><td><a href=\"https://en.wikipedia.org/wiki/Florida\">Florida</a><a></a></td><td>300 kg</td></tr><tr><td>2</td><td><a href=\"https://en.wikipedia.org/wiki/Texas\">Texas</a></td><td>94 kg</td></tr><tr><td>3</td><td><a href=\"https://en.wikipedia.org/wiki/Florida\">Florida</a><a> </a></td><td>80 kg</td></tr></tbody></table></body></html>,\n",
       " <head></head>,\n",
       " <body><table><tbody><tr><td id=\"flight\">Flight No</td><td>Launch site</td> <td>Payload mass</td></tr><tr> <td>1</td><td><a href=\"https://en.wikipedia.org/wiki/Florida\">Florida</a><a></a></td><td>300 kg</td></tr><tr><td>2</td><td><a href=\"https://en.wikipedia.org/wiki/Texas\">Texas</a></td><td>94 kg</td></tr><tr><td>3</td><td><a href=\"https://en.wikipedia.org/wiki/Florida\">Florida</a><a> </a></td><td>80 kg</td></tr></tbody></table></body>,\n",
       " <table><tbody><tr><td id=\"flight\">Flight No</td><td>Launch site</td> <td>Payload mass</td></tr><tr> <td>1</td><td><a href=\"https://en.wikipedia.org/wiki/Florida\">Florida</a><a></a></td><td>300 kg</td></tr><tr><td>2</td><td><a href=\"https://en.wikipedia.org/wiki/Texas\">Texas</a></td><td>94 kg</td></tr><tr><td>3</td><td><a href=\"https://en.wikipedia.org/wiki/Florida\">Florida</a><a> </a></td><td>80 kg</td></tr></tbody></table>,\n",
       " <tbody><tr><td id=\"flight\">Flight No</td><td>Launch site</td> <td>Payload mass</td></tr><tr> <td>1</td><td><a href=\"https://en.wikipedia.org/wiki/Florida\">Florida</a><a></a></td><td>300 kg</td></tr><tr><td>2</td><td><a href=\"https://en.wikipedia.org/wiki/Texas\">Texas</a></td><td>94 kg</td></tr><tr><td>3</td><td><a href=\"https://en.wikipedia.org/wiki/Florida\">Florida</a><a> </a></td><td>80 kg</td></tr></tbody>,\n",
       " <tr><td id=\"flight\">Flight No</td><td>Launch site</td> <td>Payload mass</td></tr>,\n",
       " <td id=\"flight\">Flight No</td>,\n",
       " <td>Launch site</td>,\n",
       " <td>Payload mass</td>,\n",
       " <tr> <td>1</td><td><a href=\"https://en.wikipedia.org/wiki/Florida\">Florida</a><a></a></td><td>300 kg</td></tr>,\n",
       " <td>1</td>,\n",
       " <td><a href=\"https://en.wikipedia.org/wiki/Florida\">Florida</a><a></a></td>,\n",
       " <a></a>,\n",
       " <td>300 kg</td>,\n",
       " <tr><td>2</td><td><a href=\"https://en.wikipedia.org/wiki/Texas\">Texas</a></td><td>94 kg</td></tr>,\n",
       " <td>2</td>,\n",
       " <td><a href=\"https://en.wikipedia.org/wiki/Texas\">Texas</a></td>,\n",
       " <td>94 kg</td>,\n",
       " <tr><td>3</td><td><a href=\"https://en.wikipedia.org/wiki/Florida\">Florida</a><a> </a></td><td>80 kg</td></tr>,\n",
       " <td>3</td>,\n",
       " <td><a href=\"https://en.wikipedia.org/wiki/Florida\">Florida</a><a> </a></td>,\n",
       " <a> </a>,\n",
       " <td>80 kg</td>]"
      ]
     },
     "execution_count": 34,
     "metadata": {},
     "output_type": "execute_result"
    }
   ],
   "source": [
    "table_bs.find_all(href=False)"
   ]
  },
  {
   "cell_type": "code",
   "execution_count": 35,
   "metadata": {},
   "outputs": [
    {
     "data": {
      "text/plain": [
       "[<b id=\"boldest\">Lebron James</b>]"
      ]
     },
     "execution_count": 35,
     "metadata": {},
     "output_type": "execute_result"
    }
   ],
   "source": [
    "soup.find_all(id='boldest')"
   ]
  },
  {
   "cell_type": "markdown",
   "metadata": {},
   "source": [
    "## Find"
   ]
  },
  {
   "cell_type": "code",
   "execution_count": 36,
   "metadata": {},
   "outputs": [
    {
     "data": {
      "text/html": [
       "<h3>Rocket Launch </h3>\n",
       "\n",
       "<p>\n",
       "<table class ='rocket'>\n",
       "  <tr>\n",
       "    <td>Flight No</td>\n",
       "    <td>Launch site</td> \n",
       "    <td>Payload mass</td>\n",
       "  </tr>\n",
       "  <tr>\n",
       "    <td>1</td>\n",
       "    <td>Florida</td>\n",
       "    <td>300 kg</td>\n",
       "  </tr>\n",
       "  <tr>\n",
       "    <td>2</td>\n",
       "    <td>Texas</td>\n",
       "    <td>94 kg</td>\n",
       "  </tr>\n",
       "  <tr>\n",
       "    <td>3</td>\n",
       "    <td>Florida </td>\n",
       "    <td>80 kg</td>\n",
       "  </tr>\n",
       "</table>\n",
       "</p>\n",
       "<p>\n",
       "\n",
       "<h3>Pizza Party  </h3>\n",
       "  \n",
       "    \n",
       "<table class ='pizza'>\n",
       "  <tr>\n",
       "    <td>Pizza Place</td>\n",
       "    <td>Orders</td> \n",
       "    <td>Slices </td>\n",
       "   </tr>\n",
       "  <tr>\n",
       "    <td>Domino's Pizza</td>\n",
       "    <td>10</td>\n",
       "    <td>100</td>\n",
       "  </tr>\n",
       "  <tr>\n",
       "    <td>Little Caesars</td>\n",
       "    <td>12</td>\n",
       "    <td >144 </td>\n",
       "  </tr>\n",
       "  <tr>\n",
       "    <td>Papa John's </td>\n",
       "    <td>15 </td>\n",
       "    <td>165</td>\n",
       "  </tr>\n"
      ],
      "text/plain": [
       "<IPython.core.display.HTML object>"
      ]
     },
     "metadata": {},
     "output_type": "display_data"
    }
   ],
   "source": [
    "%%html\n",
    "<h3>Rocket Launch </h3>\n",
    "\n",
    "<p>\n",
    "<table class ='rocket'>\n",
    "  <tr>\n",
    "    <td>Flight No</td>\n",
    "    <td>Launch site</td> \n",
    "    <td>Payload mass</td>\n",
    "  </tr>\n",
    "  <tr>\n",
    "    <td>1</td>\n",
    "    <td>Florida</td>\n",
    "    <td>300 kg</td>\n",
    "  </tr>\n",
    "  <tr>\n",
    "    <td>2</td>\n",
    "    <td>Texas</td>\n",
    "    <td>94 kg</td>\n",
    "  </tr>\n",
    "  <tr>\n",
    "    <td>3</td>\n",
    "    <td>Florida </td>\n",
    "    <td>80 kg</td>\n",
    "  </tr>\n",
    "</table>\n",
    "</p>\n",
    "<p>\n",
    "\n",
    "<h3>Pizza Party  </h3>\n",
    "  \n",
    "    \n",
    "<table class ='pizza'>\n",
    "  <tr>\n",
    "    <td>Pizza Place</td>\n",
    "    <td>Orders</td> \n",
    "    <td>Slices </td>\n",
    "   </tr>\n",
    "  <tr>\n",
    "    <td>Domino's Pizza</td>\n",
    "    <td>10</td>\n",
    "    <td>100</td>\n",
    "  </tr>\n",
    "  <tr>\n",
    "    <td>Little Caesars</td>\n",
    "    <td>12</td>\n",
    "    <td >144 </td>\n",
    "  </tr>\n",
    "  <tr>\n",
    "    <td>Papa John's </td>\n",
    "    <td>15 </td>\n",
    "    <td>165</td>\n",
    "  </tr>\n"
   ]
  },
  {
   "cell_type": "code",
   "execution_count": 37,
   "metadata": {},
   "outputs": [],
   "source": [
    "two_tables=\"<h3>Rocket Launch </h3><p><table class='rocket'><tr><td>Flight No</td><td>Launch site</td> <td>Payload mass</td></tr><tr><td>1</td><td>Florida</td><td>300 kg</td></tr><tr><td>2</td><td>Texas</td><td>94 kg</td></tr><tr><td>3</td><td>Florida </td><td>80 kg</td></tr></table></p><p><h3>Pizza Party  </h3><table class='pizza'><tr><td>Pizza Place</td><td>Orders</td> <td>Slices </td></tr><tr><td>Domino's Pizza</td><td>10</td><td>100</td></tr><tr><td>Little Caesars</td><td>12</td><td >144 </td></tr><tr><td>Papa John's </td><td>15 </td><td>165</td></tr>\""
   ]
  },
  {
   "cell_type": "code",
   "execution_count": 38,
   "metadata": {},
   "outputs": [],
   "source": [
    "two_tables_bs = BeautifulSoup(two_tables, 'html.parser')"
   ]
  },
  {
   "cell_type": "code",
   "execution_count": 39,
   "metadata": {},
   "outputs": [
    {
     "data": {
      "text/plain": [
       "<table class=\"rocket\"><tr><td>Flight No</td><td>Launch site</td> <td>Payload mass</td></tr><tr><td>1</td><td>Florida</td><td>300 kg</td></tr><tr><td>2</td><td>Texas</td><td>94 kg</td></tr><tr><td>3</td><td>Florida </td><td>80 kg</td></tr></table>"
      ]
     },
     "execution_count": 39,
     "metadata": {},
     "output_type": "execute_result"
    }
   ],
   "source": [
    "two_tables_bs.find('table',class_ ='rocket')"
   ]
  },
  {
   "cell_type": "code",
   "execution_count": null,
   "metadata": {},
   "outputs": [],
   "source": []
  },
  {
   "cell_type": "markdown",
   "metadata": {},
   "source": [
    "# Downloading And Scraping The Contents Of A Web Page"
   ]
  },
  {
   "cell_type": "code",
   "execution_count": 40,
   "metadata": {},
   "outputs": [],
   "source": [
    "# we download the contents of the url\n",
    "url = \"http://www.ibm.com\""
   ]
  },
  {
   "cell_type": "code",
   "execution_count": 41,
   "metadata": {},
   "outputs": [],
   "source": [
    "# we use get to download the contents of the webpage in text format and store in a variable called data\n",
    "data = requests.get(url).text"
   ]
  },
  {
   "cell_type": "code",
   "execution_count": 42,
   "metadata": {},
   "outputs": [],
   "source": [
    "#we create BeautifulSoup object using the BeautifulSoup constructor\n",
    "soup= BeautifulSoup(data, 'html5lib')"
   ]
  },
  {
   "cell_type": "markdown",
   "metadata": {},
   "source": [
    "- scrape all links"
   ]
  },
  {
   "cell_type": "code",
   "execution_count": 43,
   "metadata": {},
   "outputs": [
    {
     "name": "stdout",
     "output_type": "stream",
     "text": [
      "#main-content\n",
      "http://www.ibm.com\n",
      "https://www.ibm.com/cloud/cloud-pak-for-business-automation?lnk=ushpv18l1\n",
      "https://www.ibm.com/blogs/systems/red-hat-openshift-momentum-on-ibm-z-linuxone/?lnk=ushpv18f1\n",
      "https://www.ibm.com/cloud/watson-assistant?lnk=ushpv18f2\n",
      "https://www.ibm.com/thought-leadership/institute-business-value/report/open-hybrid-multicloud-government?lnk=ushpv18f3\n",
      "https://www.ibm.com/blogs/blockchain/2021/07/brewing-a-more-traceable-and-sustainable-beer-industry-with-blockchain/?lnk=ushpv18f4\n",
      "https://www.ibm.com/products/offers-and-discounts?link=ushpv18t5&lnk2=trial_mktpl_MPDISC\n",
      "https://www.ibm.com/cloud/watson-discovery?lnk=ushpv18t1&lnk2=trial_WatDiscovery&psrc=none&pexp=def\n",
      "https://www.ibm.com/products/planning-analytics?lnk=ushpv18t2&lnk2=trial_PlanningAnalytics&psrc=none&pexp=def\n",
      "https://www.ibm.com/cloud/aspera?lnk=ushpv18t3&lnk2=trial_AsperaCloud&psrc=none&pexp=def\n",
      "https://www.ibm.com/cloud/watson-studio?lnk=ushpv18t4&lnk2=trial_WatStudio&psrc=none&pexp=def\n",
      "https://www.ibm.com/search?lnk=ushpv18srch&locale=en-us&q=\n",
      "https://www.ibm.com/products?lnk=ushpv18p1&lnk2=trial_mktpl&psrc=none&pexp=def\n",
      "https://www.ibm.com/cloud/hybrid?lnk=ushpv18pt14\n",
      "https://www.ibm.com/watson?lnk=ushpv18pt17\n",
      "https://www.ibm.com/it-infrastructure?lnk=ushpv18pt19\n",
      "https://www.ibm.com/us-en/products/categories?technologyTopics%5B0%5D%5B0%5D=cat.topic:Blockchain&isIBMOffering%5B0%5D=true&lnk=ushpv18pt4\n",
      "https://www.ibm.com/us-en/products/category/technology/security?lnk=ushpv18pt9\n",
      "https://www.ibm.com/us-en/products/category/technology/analytics?lnk=ushpv18pt1\n",
      "https://www.ibm.com/cloud/automation?lnk=ushpv18ct21\n",
      "https://www.ibm.com/quantum-computing?lnk=ushpv18pt16\n",
      "https://www.ibm.com/support/home/?lnk=ushpv18ct11\n",
      "https://www.ibm.com/training/?lnk=ushpv18ct15\n",
      "https://developer.ibm.com/?lnk=ushpv18ct9\n",
      "https://www.ibm.com/garage?lnk=ushpv18pt18\n",
      "https://www.ibm.com/docs/en?lnk=ushpv18ct14\n",
      "https://www.redbooks.ibm.com/?lnk=ushpv18ct10\n",
      "https://www-03.ibm.com/employment/technicaltalent/developer/?lnk=ushpv18ct2\n",
      "https://www.ibm.com/\n"
     ]
    }
   ],
   "source": [
    "for link in soup.find_all('a', href=True): # in html anchor/link is represented by the tag <a>\n",
    "    print(link.get('href'))\n",
    "    "
   ]
  },
  {
   "cell_type": "markdown",
   "metadata": {},
   "source": [
    "- scrape all images Tags"
   ]
  },
  {
   "cell_type": "code",
   "execution_count": 44,
   "metadata": {},
   "outputs": [
    {
     "name": "stdout",
     "output_type": "stream",
     "text": [
      "<img alt=\"\" aria-hidden=\"true\" role=\"presentation\" src=\"data:image/svg+xml;base64,PHN2ZyB3aWR0aD0iMTA1NSIgaGVpZ2h0PSI1MjcuNSIgeG1sbnM9Imh0dHA6Ly93d3cudzMub3JnLzIwMDAvc3ZnIiB2ZXJzaW9uPSIxLjEiLz4=\" style=\"max-width:100%;display:block;margin:0;border:none;padding:0\"/>\n",
      "data:image/svg+xml;base64,PHN2ZyB3aWR0aD0iMTA1NSIgaGVpZ2h0PSI1MjcuNSIgeG1sbnM9Imh0dHA6Ly93d3cudzMub3JnLzIwMDAvc3ZnIiB2ZXJzaW9uPSIxLjEiLz4=\n",
      "<img alt=\"leadspace mobile image\" class=\"ibm-resize\" decoding=\"async\" src=\"https://1.dam.s81c.com/public/content/dam/worldwide-content/homepage/ul/g/94/0f/202100705-AI-Automation-Cloud-Pak-mobile-720x360.jpg\" style=\"position:absolute;top:0;left:0;bottom:0;right:0;box-sizing:border-box;padding:0;border:none;margin:auto;display:block;width:0;height:0;min-width:100%;max-width:100%;min-height:100%;max-height:100%\"/>\n",
      "https://1.dam.s81c.com/public/content/dam/worldwide-content/homepage/ul/g/94/0f/202100705-AI-Automation-Cloud-Pak-mobile-720x360.jpg\n",
      "<img alt=\"\" aria-hidden=\"true\" role=\"presentation\" src=\"data:image/svg+xml;base64,PHN2ZyB3aWR0aD0iNDQwIiBoZWlnaHQ9IjMyMCIgeG1sbnM9Imh0dHA6Ly93d3cudzMub3JnLzIwMDAvc3ZnIiB2ZXJzaW9uPSIxLjEiLz4=\" style=\"max-width:100%;display:block;margin:0;border:none;padding:0\"/>\n",
      "data:image/svg+xml;base64,PHN2ZyB3aWR0aD0iNDQwIiBoZWlnaHQ9IjMyMCIgeG1sbnM9Imh0dHA6Ly93d3cudzMub3JnLzIwMDAvc3ZnIiB2ZXJzaW9uPSIxLjEiLz4=\n",
      "<img alt=\"Expand your workload possibilities\" class=\"ibm-resize ibm-ab-image featured-image\" decoding=\"async\" src=\"https://1.dam.s81c.com/public/content/dam/worldwide-content/homepage/ul/g/0b/75/20210809-LinuxOne-IBMZ-c-444x320.jpg\" style=\"position:absolute;top:0;left:0;bottom:0;right:0;box-sizing:border-box;padding:0;border:none;margin:auto;display:block;width:0;height:0;min-width:100%;max-width:100%;min-height:100%;max-height:100%\"/>\n",
      "https://1.dam.s81c.com/public/content/dam/worldwide-content/homepage/ul/g/0b/75/20210809-LinuxOne-IBMZ-c-444x320.jpg\n",
      "<img alt=\"\" aria-hidden=\"true\" role=\"presentation\" src=\"data:image/svg+xml;base64,PHN2ZyB3aWR0aD0iNDQwIiBoZWlnaHQ9IjMyMCIgeG1sbnM9Imh0dHA6Ly93d3cudzMub3JnLzIwMDAvc3ZnIiB2ZXJzaW9uPSIxLjEiLz4=\" style=\"max-width:100%;display:block;margin:0;border:none;padding:0\"/>\n",
      "data:image/svg+xml;base64,PHN2ZyB3aWR0aD0iNDQwIiBoZWlnaHQ9IjMyMCIgeG1sbnM9Imh0dHA6Ly93d3cudzMub3JnLzIwMDAvc3ZnIiB2ZXJzaW9uPSIxLjEiLz4=\n",
      "<img alt=\"The best customer service starts with&amp;nbsp;AI\" class=\"ibm-resize ibm-ab-image featured-image\" decoding=\"async\" src=\"https://1.dam.s81c.com/public/content/dam/worldwide-content/homepage/ul/g/48/85/20210809-f-watson-assistant-26057.png\" style=\"position:absolute;top:0;left:0;bottom:0;right:0;box-sizing:border-box;padding:0;border:none;margin:auto;display:block;width:0;height:0;min-width:100%;max-width:100%;min-height:100%;max-height:100%\"/>\n",
      "https://1.dam.s81c.com/public/content/dam/worldwide-content/homepage/ul/g/48/85/20210809-f-watson-assistant-26057.png\n",
      "<img alt=\"\" aria-hidden=\"true\" role=\"presentation\" src=\"data:image/svg+xml;base64,PHN2ZyB3aWR0aD0iNDQwIiBoZWlnaHQ9IjMyMCIgeG1sbnM9Imh0dHA6Ly93d3cudzMub3JnLzIwMDAvc3ZnIiB2ZXJzaW9uPSIxLjEiLz4=\" style=\"max-width:100%;display:block;margin:0;border:none;padding:0\"/>\n",
      "data:image/svg+xml;base64,PHN2ZyB3aWR0aD0iNDQwIiBoZWlnaHQ9IjMyMCIgeG1sbnM9Imh0dHA6Ly93d3cudzMub3JnLzIwMDAvc3ZnIiB2ZXJzaW9uPSIxLjEiLz4=\n",
      "<img alt=\"Citizens deserve agile government\" class=\"ibm-resize ibm-ab-image featured-image\" decoding=\"async\" src=\"https://1.dam.s81c.com/public/content/dam/worldwide-content/homepage/ul/g/ca/89/20210809-f-ibv-government-open-multicloud-26021.jpg\" style=\"position:absolute;top:0;left:0;bottom:0;right:0;box-sizing:border-box;padding:0;border:none;margin:auto;display:block;width:0;height:0;min-width:100%;max-width:100%;min-height:100%;max-height:100%\"/>\n",
      "https://1.dam.s81c.com/public/content/dam/worldwide-content/homepage/ul/g/ca/89/20210809-f-ibv-government-open-multicloud-26021.jpg\n",
      "<img alt=\"\" aria-hidden=\"true\" role=\"presentation\" src=\"data:image/svg+xml;base64,PHN2ZyB3aWR0aD0iNDQwIiBoZWlnaHQ9IjMyMCIgeG1sbnM9Imh0dHA6Ly93d3cudzMub3JnLzIwMDAvc3ZnIiB2ZXJzaW9uPSIxLjEiLz4=\" style=\"max-width:100%;display:block;margin:0;border:none;padding:0\"/>\n",
      "data:image/svg+xml;base64,PHN2ZyB3aWR0aD0iNDQwIiBoZWlnaHQ9IjMyMCIgeG1sbnM9Imh0dHA6Ly93d3cudzMub3JnLzIwMDAvc3ZnIiB2ZXJzaW9uPSIxLjEiLz4=\n",
      "<img alt=\"Do you know where your beer was born?\" class=\"ibm-resize ibm-ab-image featured-image\" decoding=\"async\" src=\"https://1.dam.s81c.com/public/content/dam/worldwide-content/homepage/ul/g/e0/76/20210809-Blockchain-traced-beer-26048-444x320.jpg\" style=\"position:absolute;top:0;left:0;bottom:0;right:0;box-sizing:border-box;padding:0;border:none;margin:auto;display:block;width:0;height:0;min-width:100%;max-width:100%;min-height:100%;max-height:100%\"/>\n",
      "https://1.dam.s81c.com/public/content/dam/worldwide-content/homepage/ul/g/e0/76/20210809-Blockchain-traced-beer-26048-444x320.jpg\n",
      "<img alt=\"\" aria-hidden=\"true\" role=\"presentation\" src=\"data:image/svg+xml;base64,PHN2ZyB3aWR0aD0iNDQwIiBoZWlnaHQ9IjI2MCIgeG1sbnM9Imh0dHA6Ly93d3cudzMub3JnLzIwMDAvc3ZnIiB2ZXJzaW9uPSIxLjEiLz4=\" style=\"max-width:100%;display:block;margin:0;border:none;padding:0\"/>\n",
      "data:image/svg+xml;base64,PHN2ZyB3aWR0aD0iNDQwIiBoZWlnaHQ9IjI2MCIgeG1sbnM9Imh0dHA6Ly93d3cudzMub3JnLzIwMDAvc3ZnIiB2ZXJzaW9uPSIxLjEiLz4=\n",
      "<img alt=\"Watson Discovery\" class=\"ibm-resize ibm-ab-image trials-image\" decoding=\"async\" src=\"https://1.dam.s81c.com/public/content/dam/worldwide-content/homepage/ul/g/9f/86/watson-discovery-trial_700x420.png\" style=\"position:absolute;top:0;left:0;bottom:0;right:0;box-sizing:border-box;padding:0;border:none;margin:auto;display:block;width:0;height:0;min-width:100%;max-width:100%;min-height:100%;max-height:100%\"/>\n",
      "https://1.dam.s81c.com/public/content/dam/worldwide-content/homepage/ul/g/9f/86/watson-discovery-trial_700x420.png\n",
      "<img alt=\"Watson Discovery\" class=\"ibm-resize ibm-ab-image trials-image\" decoding=\"async\" src=\"data:image/gif;base64,R0lGODlhAQABAIAAAAAAAP///yH5BAEAAAAALAAAAAABAAEAAAIBRAA7\" style=\"position:absolute;top:0;left:0;bottom:0;right:0;box-sizing:border-box;padding:0;border:none;margin:auto;display:block;width:0;height:0;min-width:100%;max-width:100%;min-height:100%;max-height:100%\"/>\n",
      "data:image/gif;base64,R0lGODlhAQABAIAAAAAAAP///yH5BAEAAAAALAAAAAABAAEAAAIBRAA7\n",
      "<img alt=\"\" aria-hidden=\"true\" role=\"presentation\" src=\"data:image/svg+xml;base64,PHN2ZyB3aWR0aD0iNDQwIiBoZWlnaHQ9IjI2MCIgeG1sbnM9Imh0dHA6Ly93d3cudzMub3JnLzIwMDAvc3ZnIiB2ZXJzaW9uPSIxLjEiLz4=\" style=\"max-width:100%;display:block;margin:0;border:none;padding:0\"/>\n",
      "data:image/svg+xml;base64,PHN2ZyB3aWR0aD0iNDQwIiBoZWlnaHQ9IjI2MCIgeG1sbnM9Imh0dHA6Ly93d3cudzMub3JnLzIwMDAvc3ZnIiB2ZXJzaW9uPSIxLjEiLz4=\n",
      "<img alt=\"IBM Planning Analytics with Watson\" class=\"ibm-resize ibm-ab-image trials-image\" decoding=\"async\" src=\"https://1.dam.s81c.com/public/content/dam/worldwide-content/homepage/ul/g/22/af/Planning-Analytics-22201-700x420.png\" style=\"position:absolute;top:0;left:0;bottom:0;right:0;box-sizing:border-box;padding:0;border:none;margin:auto;display:block;width:0;height:0;min-width:100%;max-width:100%;min-height:100%;max-height:100%\"/>\n",
      "https://1.dam.s81c.com/public/content/dam/worldwide-content/homepage/ul/g/22/af/Planning-Analytics-22201-700x420.png\n",
      "<img alt=\"IBM Planning Analytics with Watson\" class=\"ibm-resize ibm-ab-image trials-image\" decoding=\"async\" src=\"data:image/gif;base64,R0lGODlhAQABAIAAAAAAAP///yH5BAEAAAAALAAAAAABAAEAAAIBRAA7\" style=\"position:absolute;top:0;left:0;bottom:0;right:0;box-sizing:border-box;padding:0;border:none;margin:auto;display:block;width:0;height:0;min-width:100%;max-width:100%;min-height:100%;max-height:100%\"/>\n",
      "data:image/gif;base64,R0lGODlhAQABAIAAAAAAAP///yH5BAEAAAAALAAAAAABAAEAAAIBRAA7\n",
      "<img alt=\"\" aria-hidden=\"true\" role=\"presentation\" src=\"data:image/svg+xml;base64,PHN2ZyB3aWR0aD0iNDQwIiBoZWlnaHQ9IjI2MCIgeG1sbnM9Imh0dHA6Ly93d3cudzMub3JnLzIwMDAvc3ZnIiB2ZXJzaW9uPSIxLjEiLz4=\" style=\"max-width:100%;display:block;margin:0;border:none;padding:0\"/>\n",
      "data:image/svg+xml;base64,PHN2ZyB3aWR0aD0iNDQwIiBoZWlnaHQ9IjI2MCIgeG1sbnM9Imh0dHA6Ly93d3cudzMub3JnLzIwMDAvc3ZnIiB2ZXJzaW9uPSIxLjEiLz4=\n",
      "<img alt=\"IBM Aspera on Cloud\" class=\"ibm-resize ibm-ab-image trials-image\" decoding=\"async\" src=\"https://1.dam.s81c.com/public/content/dam/worldwide-content/homepage/ul/g/e5/32/Aspera-on-Cloud-19783-700x420.png\" style=\"position:absolute;top:0;left:0;bottom:0;right:0;box-sizing:border-box;padding:0;border:none;margin:auto;display:block;width:0;height:0;min-width:100%;max-width:100%;min-height:100%;max-height:100%\"/>\n",
      "https://1.dam.s81c.com/public/content/dam/worldwide-content/homepage/ul/g/e5/32/Aspera-on-Cloud-19783-700x420.png\n",
      "<img alt=\"IBM Aspera on Cloud\" class=\"ibm-resize ibm-ab-image trials-image\" decoding=\"async\" src=\"data:image/gif;base64,R0lGODlhAQABAIAAAAAAAP///yH5BAEAAAAALAAAAAABAAEAAAIBRAA7\" style=\"position:absolute;top:0;left:0;bottom:0;right:0;box-sizing:border-box;padding:0;border:none;margin:auto;display:block;width:0;height:0;min-width:100%;max-width:100%;min-height:100%;max-height:100%\"/>\n",
      "data:image/gif;base64,R0lGODlhAQABAIAAAAAAAP///yH5BAEAAAAALAAAAAABAAEAAAIBRAA7\n",
      "<img alt=\"\" aria-hidden=\"true\" role=\"presentation\" src=\"data:image/svg+xml;base64,PHN2ZyB3aWR0aD0iNDQwIiBoZWlnaHQ9IjI2MCIgeG1sbnM9Imh0dHA6Ly93d3cudzMub3JnLzIwMDAvc3ZnIiB2ZXJzaW9uPSIxLjEiLz4=\" style=\"max-width:100%;display:block;margin:0;border:none;padding:0\"/>\n",
      "data:image/svg+xml;base64,PHN2ZyB3aWR0aD0iNDQwIiBoZWlnaHQ9IjI2MCIgeG1sbnM9Imh0dHA6Ly93d3cudzMub3JnLzIwMDAvc3ZnIiB2ZXJzaW9uPSIxLjEiLz4=\n",
      "<img alt=\"IBM Watson Studio\" class=\"ibm-resize ibm-ab-image trials-image\" decoding=\"async\" src=\"https://1.dam.s81c.com/public/content/dam/worldwide-content/homepage/ul/g/58/44/Watson-Studio-Desktop-21039-700x420.png\" style=\"position:absolute;top:0;left:0;bottom:0;right:0;box-sizing:border-box;padding:0;border:none;margin:auto;display:block;width:0;height:0;min-width:100%;max-width:100%;min-height:100%;max-height:100%\"/>\n",
      "https://1.dam.s81c.com/public/content/dam/worldwide-content/homepage/ul/g/58/44/Watson-Studio-Desktop-21039-700x420.png\n",
      "<img alt=\"IBM Watson Studio\" class=\"ibm-resize ibm-ab-image trials-image\" decoding=\"async\" src=\"data:image/gif;base64,R0lGODlhAQABAIAAAAAAAP///yH5BAEAAAAALAAAAAABAAEAAAIBRAA7\" style=\"position:absolute;top:0;left:0;bottom:0;right:0;box-sizing:border-box;padding:0;border:none;margin:auto;display:block;width:0;height:0;min-width:100%;max-width:100%;min-height:100%;max-height:100%\"/>\n",
      "data:image/gif;base64,R0lGODlhAQABAIAAAAAAAP///yH5BAEAAAAALAAAAAABAAEAAAIBRAA7\n"
     ]
    }
   ],
   "source": [
    "link_img = soup.find_all('img')\n",
    "for link in link_img:\n",
    "    print(link)\n",
    "    print(link.get('src'))"
   ]
  },
  {
   "cell_type": "code",
   "execution_count": 45,
   "metadata": {},
   "outputs": [],
   "source": [
    "url = \"https://cf-courses-data.s3.us.cloud-object-storage.appdomain.cloud/IBM-DA0321EN-SkillsNetwork/labs/datasets/HTMLColorCodes.html\""
   ]
  },
  {
   "cell_type": "code",
   "execution_count": 46,
   "metadata": {},
   "outputs": [],
   "source": [
    "data = requests.get(url).text"
   ]
  },
  {
   "cell_type": "code",
   "execution_count": 47,
   "metadata": {},
   "outputs": [],
   "source": [
    "soup = BeautifulSoup(data, 'html5lib')"
   ]
  },
  {
   "cell_type": "code",
   "execution_count": 48,
   "metadata": {},
   "outputs": [],
   "source": [
    "table = soup.find('table') # in html, table is represented by <table>"
   ]
  },
  {
   "cell_type": "code",
   "execution_count": 49,
   "metadata": {},
   "outputs": [
    {
     "name": "stdout",
     "output_type": "stream",
     "text": [
      "Color Name--->None\n",
      "lightsalmon--->#FFA07A\n",
      "salmon--->#FA8072\n",
      "darksalmon--->#E9967A\n",
      "lightcoral--->#F08080\n",
      "coral--->#FF7F50\n",
      "tomato--->#FF6347\n",
      "orangered--->#FF4500\n",
      "gold--->#FFD700\n",
      "orange--->#FFA500\n",
      "darkorange--->#FF8C00\n",
      "lightyellow--->#FFFFE0\n",
      "lemonchiffon--->#FFFACD\n",
      "papayawhip--->#FFEFD5\n",
      "moccasin--->#FFE4B5\n",
      "peachpuff--->#FFDAB9\n",
      "palegoldenrod--->#EEE8AA\n",
      "khaki--->#F0E68C\n",
      "darkkhaki--->#BDB76B\n",
      "yellow--->#FFFF00\n",
      "lawngreen--->#7CFC00\n",
      "chartreuse--->#7FFF00\n",
      "limegreen--->#32CD32\n",
      "lime--->#00FF00\n",
      "forestgreen--->#228B22\n",
      "green--->#008000\n",
      "powderblue--->#B0E0E6\n",
      "lightblue--->#ADD8E6\n",
      "lightskyblue--->#87CEFA\n",
      "skyblue--->#87CEEB\n",
      "deepskyblue--->#00BFFF\n",
      "lightsteelblue--->#B0C4DE\n",
      "dodgerblue--->#1E90FF\n"
     ]
    }
   ],
   "source": [
    "#Get all rows from the table\n",
    "for row in table.find_all('tr'): # in html table row is represented by the tag <tr>\n",
    "    # Get all columns in each row.\n",
    "    cols = row.find_all('td') # in html a column is represented by the tag <td>\n",
    "    color_name = cols[2].string # store the value in column 3 as color_name\n",
    "    color_code = cols[3].string # store the value in column 4 as color_code\n",
    "    print(\"{}--->{}\".format(color_name,color_code))"
   ]
  },
  {
   "cell_type": "markdown",
   "metadata": {},
   "source": [
    "# Scrape data from html tables into a DataFrame using BeautifulSoup and Pandas "
   ]
  },
  {
   "cell_type": "code",
   "execution_count": 61,
   "metadata": {},
   "outputs": [],
   "source": [
    "import pandas as pd\n",
    "from bs4 import BeautifulSoup\n",
    "import requests"
   ]
  },
  {
   "cell_type": "code",
   "execution_count": 62,
   "metadata": {},
   "outputs": [],
   "source": [
    "url = 'https://en.wikipedia.org/wiki/World_population'"
   ]
  },
  {
   "cell_type": "code",
   "execution_count": 63,
   "metadata": {},
   "outputs": [],
   "source": [
    "data = requests.get(url).text"
   ]
  },
  {
   "cell_type": "code",
   "execution_count": 64,
   "metadata": {},
   "outputs": [],
   "source": [
    "soup = BeautifulSoup(data, 'html5lib')"
   ]
  },
  {
   "cell_type": "code",
   "execution_count": 65,
   "metadata": {},
   "outputs": [],
   "source": [
    "# find all html tables in the web page\n",
    "\n",
    "tables = soup.find_all('table')"
   ]
  },
  {
   "cell_type": "code",
   "execution_count": 66,
   "metadata": {},
   "outputs": [
    {
     "data": {
      "text/plain": [
       "26"
      ]
     },
     "execution_count": 66,
     "metadata": {},
     "output_type": "execute_result"
    }
   ],
   "source": [
    "len(tables)"
   ]
  },
  {
   "cell_type": "markdown",
   "metadata": {},
   "source": [
    "Assume that we are looking for the 10 most densly populated countries table, we can look through the tables list and find the right one we are look for based on the data in each table or we can search for the table name if it is in the table but this option might not always work."
   ]
  },
  {
   "cell_type": "code",
   "execution_count": 67,
   "metadata": {},
   "outputs": [
    {
     "name": "stdout",
     "output_type": "stream",
     "text": [
      "6\n"
     ]
    }
   ],
   "source": [
    "for index,table in enumerate(tables):\n",
    "    if (\"Countries ranking highly in both total population\" in str(table)):\n",
    "        table_index = index\n",
    "print(table_index)"
   ]
  },
  {
   "cell_type": "code",
   "execution_count": 68,
   "metadata": {
    "scrolled": true
   },
   "outputs": [
    {
     "name": "stdout",
     "output_type": "stream",
     "text": [
      "<table class=\"wikitable sortable\" style=\"text-align:right\">\n",
      " <caption>\n",
      "  Countries ranking highly in both total population\n",
      "  <small>\n",
      "   (more than 20 million people)\n",
      "  </small>\n",
      "  and population density\n",
      "  <small>\n",
      "   (more than 250 people per square kilometer)\n",
      "  </small>\n",
      "  :\n",
      " </caption>\n",
      " <tbody>\n",
      "  <tr>\n",
      "   <th>\n",
      "    Rank\n",
      "   </th>\n",
      "   <th>\n",
      "    Country\n",
      "   </th>\n",
      "   <th>\n",
      "    Population\n",
      "   </th>\n",
      "   <th>\n",
      "    Area\n",
      "    <br/>\n",
      "    <small>\n",
      "     (km\n",
      "     <sup>\n",
      "      2\n",
      "     </sup>\n",
      "     )\n",
      "    </small>\n",
      "   </th>\n",
      "   <th>\n",
      "    Density\n",
      "    <br/>\n",
      "    <small>\n",
      "     (pop/km\n",
      "     <sup>\n",
      "      2\n",
      "     </sup>\n",
      "     )\n",
      "    </small>\n",
      "   </th>\n",
      "   <th>\n",
      "    Population trend\n",
      "   </th>\n",
      "  </tr>\n",
      "  <tr>\n",
      "   <td>\n",
      "    1\n",
      "   </td>\n",
      "   <td align=\"left\">\n",
      "    <span class=\"flagicon\">\n",
      "     <img alt=\"\" class=\"thumbborder\" data-file-height=\"900\" data-file-width=\"1350\" decoding=\"async\" height=\"15\" src=\"//upload.wikimedia.org/wikipedia/en/thumb/4/41/Flag_of_India.svg/23px-Flag_of_India.svg.png\" srcset=\"//upload.wikimedia.org/wikipedia/en/thumb/4/41/Flag_of_India.svg/35px-Flag_of_India.svg.png 1.5x, //upload.wikimedia.org/wikipedia/en/thumb/4/41/Flag_of_India.svg/45px-Flag_of_India.svg.png 2x\" width=\"23\"/>\n",
      "    </span>\n",
      "    <a href=\"/wiki/India\" title=\"India\">\n",
      "     India\n",
      "    </a>\n",
      "   </td>\n",
      "   <td>\n",
      "    1,380,420,000\n",
      "   </td>\n",
      "   <td>\n",
      "    3,287,240\n",
      "   </td>\n",
      "   <td>\n",
      "    420\n",
      "   </td>\n",
      "   <td>\n",
      "    Growing\n",
      "   </td>\n",
      "  </tr>\n",
      "  <tr>\n",
      "   <td>\n",
      "    2\n",
      "   </td>\n",
      "   <td align=\"left\">\n",
      "    <span class=\"flagicon\">\n",
      "     <img alt=\"\" class=\"thumbborder\" data-file-height=\"600\" data-file-width=\"900\" decoding=\"async\" height=\"15\" src=\"//upload.wikimedia.org/wikipedia/commons/thumb/3/32/Flag_of_Pakistan.svg/23px-Flag_of_Pakistan.svg.png\" srcset=\"//upload.wikimedia.org/wikipedia/commons/thumb/3/32/Flag_of_Pakistan.svg/35px-Flag_of_Pakistan.svg.png 1.5x, //upload.wikimedia.org/wikipedia/commons/thumb/3/32/Flag_of_Pakistan.svg/45px-Flag_of_Pakistan.svg.png 2x\" width=\"23\"/>\n",
      "    </span>\n",
      "    <a href=\"/wiki/Pakistan\" title=\"Pakistan\">\n",
      "     Pakistan\n",
      "    </a>\n",
      "   </td>\n",
      "   <td>\n",
      "    224,580,000\n",
      "   </td>\n",
      "   <td>\n",
      "    803,940\n",
      "   </td>\n",
      "   <td>\n",
      "    279\n",
      "   </td>\n",
      "   <td>\n",
      "    Rapidly growing\n",
      "   </td>\n",
      "  </tr>\n",
      "  <tr>\n",
      "   <td>\n",
      "    3\n",
      "   </td>\n",
      "   <td align=\"left\">\n",
      "    <span class=\"flagicon\">\n",
      "     <img alt=\"\" class=\"thumbborder\" data-file-height=\"600\" data-file-width=\"1000\" decoding=\"async\" height=\"14\" src=\"//upload.wikimedia.org/wikipedia/commons/thumb/f/f9/Flag_of_Bangladesh.svg/23px-Flag_of_Bangladesh.svg.png\" srcset=\"//upload.wikimedia.org/wikipedia/commons/thumb/f/f9/Flag_of_Bangladesh.svg/35px-Flag_of_Bangladesh.svg.png 1.5x, //upload.wikimedia.org/wikipedia/commons/thumb/f/f9/Flag_of_Bangladesh.svg/46px-Flag_of_Bangladesh.svg.png 2x\" width=\"23\"/>\n",
      "    </span>\n",
      "    <a href=\"/wiki/Bangladesh\" title=\"Bangladesh\">\n",
      "     Bangladesh\n",
      "    </a>\n",
      "   </td>\n",
      "   <td>\n",
      "    171,150,000\n",
      "   </td>\n",
      "   <td>\n",
      "    143,998\n",
      "   </td>\n",
      "   <td>\n",
      "    1,189\n",
      "   </td>\n",
      "   <td>\n",
      "    Rapidly growing\n",
      "   </td>\n",
      "  </tr>\n",
      "  <tr>\n",
      "   <td>\n",
      "    4\n",
      "   </td>\n",
      "   <td align=\"left\">\n",
      "    <span class=\"flagicon\">\n",
      "     <img alt=\"\" class=\"thumbborder\" data-file-height=\"600\" data-file-width=\"900\" decoding=\"async\" height=\"15\" src=\"//upload.wikimedia.org/wikipedia/en/thumb/9/9e/Flag_of_Japan.svg/23px-Flag_of_Japan.svg.png\" srcset=\"//upload.wikimedia.org/wikipedia/en/thumb/9/9e/Flag_of_Japan.svg/35px-Flag_of_Japan.svg.png 1.5x, //upload.wikimedia.org/wikipedia/en/thumb/9/9e/Flag_of_Japan.svg/45px-Flag_of_Japan.svg.png 2x\" width=\"23\"/>\n",
      "    </span>\n",
      "    <a href=\"/wiki/Japan\" title=\"Japan\">\n",
      "     Japan\n",
      "    </a>\n",
      "   </td>\n",
      "   <td>\n",
      "    126,010,000\n",
      "   </td>\n",
      "   <td>\n",
      "    377,873\n",
      "   </td>\n",
      "   <td>\n",
      "    333\n",
      "   </td>\n",
      "   <td>\n",
      "    Declining\n",
      "    <sup class=\"reference\" id=\"cite_ref-BigDecline_103-0\">\n",
      "     <a href=\"#cite_note-BigDecline-103\">\n",
      "      [98]\n",
      "     </a>\n",
      "    </sup>\n",
      "   </td>\n",
      "  </tr>\n",
      "  <tr>\n",
      "   <td>\n",
      "    5\n",
      "   </td>\n",
      "   <td align=\"left\">\n",
      "    <span class=\"flagicon\">\n",
      "     <img alt=\"\" class=\"thumbborder\" data-file-height=\"600\" data-file-width=\"1200\" decoding=\"async\" height=\"12\" src=\"//upload.wikimedia.org/wikipedia/commons/thumb/9/99/Flag_of_the_Philippines.svg/23px-Flag_of_the_Philippines.svg.png\" srcset=\"//upload.wikimedia.org/wikipedia/commons/thumb/9/99/Flag_of_the_Philippines.svg/35px-Flag_of_the_Philippines.svg.png 1.5x, //upload.wikimedia.org/wikipedia/commons/thumb/9/99/Flag_of_the_Philippines.svg/46px-Flag_of_the_Philippines.svg.png 2x\" width=\"23\"/>\n",
      "    </span>\n",
      "    <a href=\"/wiki/Philippines\" title=\"Philippines\">\n",
      "     Philippines\n",
      "    </a>\n",
      "   </td>\n",
      "   <td>\n",
      "    110,600,000\n",
      "   </td>\n",
      "   <td>\n",
      "    300,000\n",
      "   </td>\n",
      "   <td>\n",
      "    369\n",
      "   </td>\n",
      "   <td>\n",
      "    Growing\n",
      "   </td>\n",
      "  </tr>\n",
      "  <tr>\n",
      "   <td>\n",
      "    6\n",
      "   </td>\n",
      "   <td align=\"left\">\n",
      "    <span class=\"flagicon\">\n",
      "     <img alt=\"\" class=\"thumbborder\" data-file-height=\"600\" data-file-width=\"900\" decoding=\"async\" height=\"15\" src=\"//upload.wikimedia.org/wikipedia/commons/thumb/2/21/Flag_of_Vietnam.svg/23px-Flag_of_Vietnam.svg.png\" srcset=\"//upload.wikimedia.org/wikipedia/commons/thumb/2/21/Flag_of_Vietnam.svg/35px-Flag_of_Vietnam.svg.png 1.5x, //upload.wikimedia.org/wikipedia/commons/thumb/2/21/Flag_of_Vietnam.svg/45px-Flag_of_Vietnam.svg.png 2x\" width=\"23\"/>\n",
      "    </span>\n",
      "    <a href=\"/wiki/Vietnam\" title=\"Vietnam\">\n",
      "     Vietnam\n",
      "    </a>\n",
      "   </td>\n",
      "   <td>\n",
      "    96,209,000\n",
      "   </td>\n",
      "   <td>\n",
      "    331,689\n",
      "   </td>\n",
      "   <td>\n",
      "    290\n",
      "   </td>\n",
      "   <td>\n",
      "    Growing\n",
      "   </td>\n",
      "  </tr>\n",
      "  <tr>\n",
      "   <td>\n",
      "    7\n",
      "   </td>\n",
      "   <td align=\"left\">\n",
      "    <span class=\"flagicon\">\n",
      "     <img alt=\"\" class=\"thumbborder\" data-file-height=\"600\" data-file-width=\"1200\" decoding=\"async\" height=\"12\" src=\"//upload.wikimedia.org/wikipedia/en/thumb/a/ae/Flag_of_the_United_Kingdom.svg/23px-Flag_of_the_United_Kingdom.svg.png\" srcset=\"//upload.wikimedia.org/wikipedia/en/thumb/a/ae/Flag_of_the_United_Kingdom.svg/35px-Flag_of_the_United_Kingdom.svg.png 1.5x, //upload.wikimedia.org/wikipedia/en/thumb/a/ae/Flag_of_the_United_Kingdom.svg/46px-Flag_of_the_United_Kingdom.svg.png 2x\" width=\"23\"/>\n",
      "    </span>\n",
      "    <a href=\"/wiki/United_Kingdom\" title=\"United Kingdom\">\n",
      "     United Kingdom\n",
      "    </a>\n",
      "   </td>\n",
      "   <td>\n",
      "    66,436,000\n",
      "   </td>\n",
      "   <td>\n",
      "    243,610\n",
      "   </td>\n",
      "   <td>\n",
      "    273\n",
      "   </td>\n",
      "   <td>\n",
      "    Growing\n",
      "   </td>\n",
      "  </tr>\n",
      "  <tr>\n",
      "   <td>\n",
      "    8\n",
      "   </td>\n",
      "   <td align=\"left\">\n",
      "    <span class=\"flagicon\">\n",
      "     <img alt=\"\" class=\"thumbborder\" data-file-height=\"600\" data-file-width=\"900\" decoding=\"async\" height=\"15\" src=\"//upload.wikimedia.org/wikipedia/commons/thumb/0/09/Flag_of_South_Korea.svg/23px-Flag_of_South_Korea.svg.png\" srcset=\"//upload.wikimedia.org/wikipedia/commons/thumb/0/09/Flag_of_South_Korea.svg/35px-Flag_of_South_Korea.svg.png 1.5x, //upload.wikimedia.org/wikipedia/commons/thumb/0/09/Flag_of_South_Korea.svg/45px-Flag_of_South_Korea.svg.png 2x\" width=\"23\"/>\n",
      "    </span>\n",
      "    <a href=\"/wiki/South_Korea\" title=\"South Korea\">\n",
      "     South Korea\n",
      "    </a>\n",
      "   </td>\n",
      "   <td>\n",
      "    51,781,000\n",
      "   </td>\n",
      "   <td>\n",
      "    99,538\n",
      "   </td>\n",
      "   <td>\n",
      "    520\n",
      "   </td>\n",
      "   <td>\n",
      "    Steady\n",
      "   </td>\n",
      "  </tr>\n",
      "  <tr>\n",
      "   <td>\n",
      "    9\n",
      "   </td>\n",
      "   <td align=\"left\">\n",
      "    <span class=\"flagicon\">\n",
      "     <img alt=\"\" class=\"thumbborder\" data-file-height=\"600\" data-file-width=\"900\" decoding=\"async\" height=\"15\" src=\"//upload.wikimedia.org/wikipedia/commons/thumb/7/72/Flag_of_the_Republic_of_China.svg/23px-Flag_of_the_Republic_of_China.svg.png\" srcset=\"//upload.wikimedia.org/wikipedia/commons/thumb/7/72/Flag_of_the_Republic_of_China.svg/35px-Flag_of_the_Republic_of_China.svg.png 1.5x, //upload.wikimedia.org/wikipedia/commons/thumb/7/72/Flag_of_the_Republic_of_China.svg/45px-Flag_of_the_Republic_of_China.svg.png 2x\" width=\"23\"/>\n",
      "    </span>\n",
      "    <a href=\"/wiki/Taiwan\" title=\"Taiwan\">\n",
      "     Taiwan\n",
      "    </a>\n",
      "   </td>\n",
      "   <td>\n",
      "    23,604,000\n",
      "   </td>\n",
      "   <td>\n",
      "    36,193\n",
      "   </td>\n",
      "   <td>\n",
      "    652\n",
      "   </td>\n",
      "   <td>\n",
      "    Steady\n",
      "   </td>\n",
      "  </tr>\n",
      "  <tr>\n",
      "   <td>\n",
      "    10\n",
      "   </td>\n",
      "   <td align=\"left\">\n",
      "    <span class=\"flagicon\">\n",
      "     <img alt=\"\" class=\"thumbborder\" data-file-height=\"600\" data-file-width=\"1200\" decoding=\"async\" height=\"12\" src=\"//upload.wikimedia.org/wikipedia/commons/thumb/1/11/Flag_of_Sri_Lanka.svg/23px-Flag_of_Sri_Lanka.svg.png\" srcset=\"//upload.wikimedia.org/wikipedia/commons/thumb/1/11/Flag_of_Sri_Lanka.svg/35px-Flag_of_Sri_Lanka.svg.png 1.5x, //upload.wikimedia.org/wikipedia/commons/thumb/1/11/Flag_of_Sri_Lanka.svg/46px-Flag_of_Sri_Lanka.svg.png 2x\" width=\"23\"/>\n",
      "    </span>\n",
      "    <a href=\"/wiki/Sri_Lanka\" title=\"Sri Lanka\">\n",
      "     Sri Lanka\n",
      "    </a>\n",
      "   </td>\n",
      "   <td>\n",
      "    21,803,000\n",
      "   </td>\n",
      "   <td>\n",
      "    65,610\n",
      "   </td>\n",
      "   <td>\n",
      "    332\n",
      "   </td>\n",
      "   <td>\n",
      "    Growing\n",
      "   </td>\n",
      "  </tr>\n",
      " </tbody>\n",
      "</table>\n",
      "\n"
     ]
    }
   ],
   "source": [
    "print(tables[table_index].prettify())"
   ]
  },
  {
   "cell_type": "code",
   "execution_count": 69,
   "metadata": {},
   "outputs": [
    {
     "name": "stdout",
     "output_type": "stream",
     "text": [
      "\n",
      "1\n",
      " India\n",
      "1,380,420,000\n",
      "\n",
      "3,287,240\n",
      "\n",
      "420\n",
      "Growing\n",
      "\n"
     ]
    }
   ],
   "source": [
    "print(tables[6].tbody.find_all('tr')[1].text)"
   ]
  },
  {
   "cell_type": "code",
   "execution_count": 76,
   "metadata": {},
   "outputs": [
    {
     "data": {
      "text/html": [
       "<div>\n",
       "<style scoped>\n",
       "    .dataframe tbody tr th:only-of-type {\n",
       "        vertical-align: middle;\n",
       "    }\n",
       "\n",
       "    .dataframe tbody tr th {\n",
       "        vertical-align: top;\n",
       "    }\n",
       "\n",
       "    .dataframe thead th {\n",
       "        text-align: right;\n",
       "    }\n",
       "</style>\n",
       "<table border=\"1\" class=\"dataframe\">\n",
       "  <thead>\n",
       "    <tr style=\"text-align: right;\">\n",
       "      <th></th>\n",
       "      <th>Rank</th>\n",
       "      <th>Country</th>\n",
       "      <th>Population</th>\n",
       "      <th>Area</th>\n",
       "      <th>Density</th>\n",
       "      <th>Population trend</th>\n",
       "    </tr>\n",
       "  </thead>\n",
       "  <tbody>\n",
       "    <tr>\n",
       "      <th>0</th>\n",
       "      <td>1</td>\n",
       "      <td>India</td>\n",
       "      <td>1,380,420,000</td>\n",
       "      <td>3,287,240</td>\n",
       "      <td>420</td>\n",
       "      <td>Growing\\n</td>\n",
       "    </tr>\n",
       "    <tr>\n",
       "      <th>1</th>\n",
       "      <td>2</td>\n",
       "      <td>Pakistan</td>\n",
       "      <td>224,580,000</td>\n",
       "      <td>803,940</td>\n",
       "      <td>279</td>\n",
       "      <td>Rapidly growing\\n</td>\n",
       "    </tr>\n",
       "    <tr>\n",
       "      <th>2</th>\n",
       "      <td>3</td>\n",
       "      <td>Bangladesh</td>\n",
       "      <td>171,150,000</td>\n",
       "      <td>143,998</td>\n",
       "      <td>1,189</td>\n",
       "      <td>Rapidly growing\\n</td>\n",
       "    </tr>\n",
       "    <tr>\n",
       "      <th>3</th>\n",
       "      <td>4</td>\n",
       "      <td>Japan</td>\n",
       "      <td>126,010,000</td>\n",
       "      <td>377,873</td>\n",
       "      <td>333</td>\n",
       "      <td>Declining[98]\\n</td>\n",
       "    </tr>\n",
       "    <tr>\n",
       "      <th>4</th>\n",
       "      <td>5</td>\n",
       "      <td>Philippines</td>\n",
       "      <td>110,600,000</td>\n",
       "      <td>300,000</td>\n",
       "      <td>369</td>\n",
       "      <td>Growing\\n</td>\n",
       "    </tr>\n",
       "    <tr>\n",
       "      <th>5</th>\n",
       "      <td>6</td>\n",
       "      <td>Vietnam</td>\n",
       "      <td>96,209,000</td>\n",
       "      <td>331,689</td>\n",
       "      <td>290</td>\n",
       "      <td>Growing\\n</td>\n",
       "    </tr>\n",
       "    <tr>\n",
       "      <th>6</th>\n",
       "      <td>7</td>\n",
       "      <td>United Kingdom</td>\n",
       "      <td>66,436,000</td>\n",
       "      <td>243,610</td>\n",
       "      <td>273</td>\n",
       "      <td>Growing\\n</td>\n",
       "    </tr>\n",
       "    <tr>\n",
       "      <th>7</th>\n",
       "      <td>8</td>\n",
       "      <td>South Korea</td>\n",
       "      <td>51,781,000</td>\n",
       "      <td>99,538</td>\n",
       "      <td>520</td>\n",
       "      <td>Steady\\n</td>\n",
       "    </tr>\n",
       "    <tr>\n",
       "      <th>8</th>\n",
       "      <td>9</td>\n",
       "      <td>Taiwan</td>\n",
       "      <td>23,604,000</td>\n",
       "      <td>36,193</td>\n",
       "      <td>652</td>\n",
       "      <td>Steady\\n</td>\n",
       "    </tr>\n",
       "    <tr>\n",
       "      <th>9</th>\n",
       "      <td>10</td>\n",
       "      <td>Sri Lanka</td>\n",
       "      <td>21,803,000</td>\n",
       "      <td>65,610</td>\n",
       "      <td>332</td>\n",
       "      <td>Growing\\n</td>\n",
       "    </tr>\n",
       "  </tbody>\n",
       "</table>\n",
       "</div>"
      ],
      "text/plain": [
       "  Rank          Country     Population       Area Density   Population trend\n",
       "0    1            India  1,380,420,000  3,287,240     420          Growing\\n\n",
       "1    2         Pakistan    224,580,000    803,940     279  Rapidly growing\\n\n",
       "2    3       Bangladesh    171,150,000    143,998   1,189  Rapidly growing\\n\n",
       "3    4            Japan    126,010,000    377,873     333    Declining[98]\\n\n",
       "4    5      Philippines    110,600,000    300,000     369          Growing\\n\n",
       "5    6          Vietnam     96,209,000    331,689     290          Growing\\n\n",
       "6    7   United Kingdom     66,436,000    243,610     273          Growing\\n\n",
       "7    8      South Korea     51,781,000     99,538     520           Steady\\n\n",
       "8    9           Taiwan     23,604,000     36,193     652           Steady\\n\n",
       "9   10        Sri Lanka     21,803,000     65,610     332          Growing\\n"
      ]
     },
     "execution_count": 76,
     "metadata": {},
     "output_type": "execute_result"
    }
   ],
   "source": [
    "population_data = pd.DataFrame(columns =['Rank', 'Country', 'Population', 'Area', 'Density', 'Population trend'])\n",
    "for row in tables[6].tbody.find_all('tr'):\n",
    "    col = row.find_all('td')\n",
    "    if col!=[]:\n",
    "        rank = col[0].text\n",
    "        Country = col[1].text\n",
    "        population = col[2].text.strip()\n",
    "        area = col[3].text.strip()\n",
    "        density = col[4].text.strip()\n",
    "        population_trend = col[5].text\n",
    "        population_data = population_data.append({'Rank':rank,'Country': Country, 'Population':population,\n",
    "                                             'Area':area,'Density':density, 'Population trend':population_trend}, ignore_index=True)\n",
    "population_data    "
   ]
  },
  {
   "cell_type": "code",
   "execution_count": 77,
   "metadata": {},
   "outputs": [
    {
     "data": {
      "text/html": [
       "<div>\n",
       "<style scoped>\n",
       "    .dataframe tbody tr th:only-of-type {\n",
       "        vertical-align: middle;\n",
       "    }\n",
       "\n",
       "    .dataframe tbody tr th {\n",
       "        vertical-align: top;\n",
       "    }\n",
       "\n",
       "    .dataframe thead th {\n",
       "        text-align: right;\n",
       "    }\n",
       "</style>\n",
       "<table border=\"1\" class=\"dataframe\">\n",
       "  <thead>\n",
       "    <tr style=\"text-align: right;\">\n",
       "      <th></th>\n",
       "      <th>Rank</th>\n",
       "      <th>Country</th>\n",
       "      <th>Population</th>\n",
       "      <th>Area</th>\n",
       "      <th>Density</th>\n",
       "    </tr>\n",
       "  </thead>\n",
       "  <tbody>\n",
       "    <tr>\n",
       "      <th>0</th>\n",
       "      <td>1</td>\n",
       "      <td>Singapore</td>\n",
       "      <td>5,704,000</td>\n",
       "      <td>710</td>\n",
       "      <td>8,033</td>\n",
       "    </tr>\n",
       "    <tr>\n",
       "      <th>1</th>\n",
       "      <td>2</td>\n",
       "      <td>Bangladesh</td>\n",
       "      <td>171,150,000</td>\n",
       "      <td>143,998</td>\n",
       "      <td>1,189</td>\n",
       "    </tr>\n",
       "    <tr>\n",
       "      <th>2</th>\n",
       "      <td>3</td>\n",
       "      <td>Lebanon</td>\n",
       "      <td>6,856,000</td>\n",
       "      <td>10,452</td>\n",
       "      <td>656</td>\n",
       "    </tr>\n",
       "    <tr>\n",
       "      <th>3</th>\n",
       "      <td>4</td>\n",
       "      <td>Taiwan</td>\n",
       "      <td>23,604,000</td>\n",
       "      <td>36,193</td>\n",
       "      <td>652</td>\n",
       "    </tr>\n",
       "    <tr>\n",
       "      <th>4</th>\n",
       "      <td>5</td>\n",
       "      <td>South Korea</td>\n",
       "      <td>51,781,000</td>\n",
       "      <td>99,538</td>\n",
       "      <td>520</td>\n",
       "    </tr>\n",
       "    <tr>\n",
       "      <th>5</th>\n",
       "      <td>6</td>\n",
       "      <td>Rwanda</td>\n",
       "      <td>12,374,000</td>\n",
       "      <td>26,338</td>\n",
       "      <td>470</td>\n",
       "    </tr>\n",
       "    <tr>\n",
       "      <th>6</th>\n",
       "      <td>7</td>\n",
       "      <td>Haiti</td>\n",
       "      <td>11,578,000</td>\n",
       "      <td>27,065</td>\n",
       "      <td>428</td>\n",
       "    </tr>\n",
       "    <tr>\n",
       "      <th>7</th>\n",
       "      <td>8</td>\n",
       "      <td>Netherlands</td>\n",
       "      <td>17,620,000</td>\n",
       "      <td>41,526</td>\n",
       "      <td>424</td>\n",
       "    </tr>\n",
       "    <tr>\n",
       "      <th>8</th>\n",
       "      <td>9</td>\n",
       "      <td>Israel</td>\n",
       "      <td>9,380,000</td>\n",
       "      <td>22,072</td>\n",
       "      <td>425</td>\n",
       "    </tr>\n",
       "    <tr>\n",
       "      <th>9</th>\n",
       "      <td>10</td>\n",
       "      <td>India</td>\n",
       "      <td>1,380,420,000</td>\n",
       "      <td>3,287,240</td>\n",
       "      <td>420</td>\n",
       "    </tr>\n",
       "  </tbody>\n",
       "</table>\n",
       "</div>"
      ],
      "text/plain": [
       "  Rank       Country     Population       Area Density\n",
       "0    1     Singapore      5,704,000        710   8,033\n",
       "1    2    Bangladesh    171,150,000    143,998   1,189\n",
       "2    3       Lebanon      6,856,000     10,452     656\n",
       "3    4        Taiwan     23,604,000     36,193     652\n",
       "4    5   South Korea     51,781,000     99,538     520\n",
       "5    6        Rwanda     12,374,000     26,338     470\n",
       "6    7         Haiti     11,578,000     27,065     428\n",
       "7    8   Netherlands     17,620,000     41,526     424\n",
       "8    9        Israel      9,380,000     22,072     425\n",
       "9   10         India  1,380,420,000  3,287,240     420"
      ]
     },
     "execution_count": 77,
     "metadata": {},
     "output_type": "execute_result"
    }
   ],
   "source": [
    "population_data = pd.DataFrame(columns=[\"Rank\", \"Country\", \"Population\", \"Area\", \"Density\"])\n",
    "\n",
    "for row in tables[5].tbody.find_all(\"tr\"):\n",
    "    col = row.find_all(\"td\")\n",
    "    if (col != []):\n",
    "        rank = col[0].text\n",
    "        country = col[1].text\n",
    "        population = col[2].text.strip()\n",
    "        area = col[3].text.strip()\n",
    "        density = col[4].text.strip()\n",
    "        population_data = population_data.append({\"Rank\":rank, \"Country\":country, \"Population\":population, \"Area\":area, \"Density\":density, }, ignore_index=True)\n",
    "\n",
    "population_data"
   ]
  },
  {
   "cell_type": "code",
   "execution_count": 176,
   "metadata": {},
   "outputs": [
    {
     "data": {
      "text/html": [
       "<div>\n",
       "<style scoped>\n",
       "    .dataframe tbody tr th:only-of-type {\n",
       "        vertical-align: middle;\n",
       "    }\n",
       "\n",
       "    .dataframe tbody tr th {\n",
       "        vertical-align: top;\n",
       "    }\n",
       "\n",
       "    .dataframe thead th {\n",
       "        text-align: right;\n",
       "    }\n",
       "</style>\n",
       "<table border=\"1\" class=\"dataframe\">\n",
       "  <thead>\n",
       "    <tr style=\"text-align: right;\">\n",
       "      <th></th>\n",
       "      <th>Year</th>\n",
       "      <th>Population</th>\n",
       "      <th>y_grosth_%</th>\n",
       "      <th>y_growth_num</th>\n",
       "      <th>density</th>\n",
       "      <th>urban_po_num</th>\n",
       "      <th>urban_po_%</th>\n",
       "    </tr>\n",
       "  </thead>\n",
       "  <tbody>\n",
       "    <tr>\n",
       "      <th>0</th>\n",
       "      <td>2,584,034,261\\n</td>\n",
       "      <td>1.88%</td>\n",
       "      <td>47,603,112</td>\n",
       "      <td>17</td>\n",
       "      <td>775,067,697</td>\n",
       "      <td>30%</td>\n",
       "      <td>NaN</td>\n",
       "    </tr>\n",
       "    <tr>\n",
       "      <th>1</th>\n",
       "      <td>2,630,861,562\\n</td>\n",
       "      <td>1.81%</td>\n",
       "      <td>46,827,301</td>\n",
       "      <td>18</td>\n",
       "      <td>799,282,533</td>\n",
       "      <td>30%</td>\n",
       "      <td>NaN</td>\n",
       "    </tr>\n",
       "    <tr>\n",
       "      <th>2</th>\n",
       "      <td>2,677,608,960\\n</td>\n",
       "      <td>1.78%</td>\n",
       "      <td>46,747,398</td>\n",
       "      <td>18</td>\n",
       "      <td>824,289,989</td>\n",
       "      <td>31%</td>\n",
       "      <td>NaN</td>\n",
       "    </tr>\n",
       "    <tr>\n",
       "      <th>3</th>\n",
       "      <td>2,724,846,741\\n</td>\n",
       "      <td>1.76%</td>\n",
       "      <td>47,237,781</td>\n",
       "      <td>18</td>\n",
       "      <td>850,179,106</td>\n",
       "      <td>31%</td>\n",
       "      <td>NaN</td>\n",
       "    </tr>\n",
       "    <tr>\n",
       "      <th>4</th>\n",
       "      <td>2,773,019,936\\n</td>\n",
       "      <td>1.77%</td>\n",
       "      <td>48,173,195</td>\n",
       "      <td>19</td>\n",
       "      <td>877,008,842</td>\n",
       "      <td>32%</td>\n",
       "      <td>NaN</td>\n",
       "    </tr>\n",
       "    <tr>\n",
       "      <th>...</th>\n",
       "      <td>...</td>\n",
       "      <td>...</td>\n",
       "      <td>...</td>\n",
       "      <td>...</td>\n",
       "      <td>...</td>\n",
       "      <td>...</td>\n",
       "      <td>...</td>\n",
       "    </tr>\n",
       "    <tr>\n",
       "      <th>65</th>\n",
       "      <td>7,464,022,000\\n</td>\n",
       "      <td>1.14%</td>\n",
       "      <td>84,225,000</td>\n",
       "      <td>50</td>\n",
       "      <td>4,060,653,000</td>\n",
       "      <td>54%</td>\n",
       "      <td>NaN</td>\n",
       "    </tr>\n",
       "    <tr>\n",
       "      <th>66</th>\n",
       "      <td>7,547,859,000\\n</td>\n",
       "      <td>1.12%</td>\n",
       "      <td>83,837,000</td>\n",
       "      <td>51</td>\n",
       "      <td>4,140,189,000</td>\n",
       "      <td>55%</td>\n",
       "      <td>NaN</td>\n",
       "    </tr>\n",
       "    <tr>\n",
       "      <th>67</th>\n",
       "      <td>7,631,091,000\\n</td>\n",
       "      <td>1.10%</td>\n",
       "      <td>83,232,000</td>\n",
       "      <td>51</td>\n",
       "      <td>4,219,817,000</td>\n",
       "      <td>55%</td>\n",
       "      <td>NaN</td>\n",
       "    </tr>\n",
       "    <tr>\n",
       "      <th>68</th>\n",
       "      <td>7,713,468,000\\n</td>\n",
       "      <td>1.08%</td>\n",
       "      <td>82,377,000</td>\n",
       "      <td>52</td>\n",
       "      <td>4,299,439,000</td>\n",
       "      <td>56%</td>\n",
       "      <td>NaN</td>\n",
       "    </tr>\n",
       "    <tr>\n",
       "      <th>69</th>\n",
       "      <td>7,795,000,000\\n</td>\n",
       "      <td>1.05%</td>\n",
       "      <td>81,331,000</td>\n",
       "      <td>52</td>\n",
       "      <td>4,378,900,000</td>\n",
       "      <td>56%</td>\n",
       "      <td>NaN</td>\n",
       "    </tr>\n",
       "  </tbody>\n",
       "</table>\n",
       "<p>70 rows × 7 columns</p>\n",
       "</div>"
      ],
      "text/plain": [
       "               Year Population  y_grosth_% y_growth_num        density  \\\n",
       "0   2,584,034,261\\n      1.88%  47,603,112           17    775,067,697   \n",
       "1   2,630,861,562\\n      1.81%  46,827,301           18    799,282,533   \n",
       "2   2,677,608,960\\n      1.78%  46,747,398           18    824,289,989   \n",
       "3   2,724,846,741\\n      1.76%  47,237,781           18    850,179,106   \n",
       "4   2,773,019,936\\n      1.77%  48,173,195           19    877,008,842   \n",
       "..              ...        ...         ...          ...            ...   \n",
       "65  7,464,022,000\\n      1.14%  84,225,000           50  4,060,653,000   \n",
       "66  7,547,859,000\\n      1.12%  83,837,000           51  4,140,189,000   \n",
       "67  7,631,091,000\\n      1.10%  83,232,000           51  4,219,817,000   \n",
       "68  7,713,468,000\\n      1.08%  82,377,000           52  4,299,439,000   \n",
       "69  7,795,000,000\\n      1.05%  81,331,000           52  4,378,900,000   \n",
       "\n",
       "   urban_po_num urban_po_%  \n",
       "0           30%        NaN  \n",
       "1           30%        NaN  \n",
       "2           31%        NaN  \n",
       "3           31%        NaN  \n",
       "4           32%        NaN  \n",
       "..          ...        ...  \n",
       "65          54%        NaN  \n",
       "66          55%        NaN  \n",
       "67          55%        NaN  \n",
       "68          56%        NaN  \n",
       "69          56%        NaN  \n",
       "\n",
       "[70 rows x 7 columns]"
      ]
     },
     "execution_count": 176,
     "metadata": {},
     "output_type": "execute_result"
    }
   ],
   "source": [
    "\n",
    "df = pd.DataFrame(columns = ['Year', 'Population', 'y_grosth_%', 'y_growth_num', 'density', 'urban_po_num', 'urban_po_%'])\n",
    "for row in tables[7].tbody.find_all('tr'):\n",
    "    cols = row.find_all('td')\n",
    "    if cols!=[]:\n",
    "        Year = cols[0].text\n",
    "        population = cols[1].text.strip()\n",
    "        y_growth_per = cols[2].text.strip()\n",
    "        y_growth_num = cols[3].text.strip()\n",
    "        density = cols[4].text.strip()\n",
    "        urban_po_num = cols[5].text.strip()\n",
    "        df = df.append({'Year':Year, 'Population':population, 'y_grosth_%':y_growth_per,\n",
    "                        'y_growth_num':y_growth_num, 'density':density,\n",
    "                        'urban_po_num':urban_po_num}, ignore_index=True)\n",
    "df      "
   ]
  },
  {
   "cell_type": "code",
   "execution_count": 177,
   "metadata": {},
   "outputs": [
    {
     "data": {
      "text/html": [
       "<div>\n",
       "<style scoped>\n",
       "    .dataframe tbody tr th:only-of-type {\n",
       "        vertical-align: middle;\n",
       "    }\n",
       "\n",
       "    .dataframe tbody tr th {\n",
       "        vertical-align: top;\n",
       "    }\n",
       "\n",
       "    .dataframe thead th {\n",
       "        text-align: right;\n",
       "    }\n",
       "</style>\n",
       "<table border=\"1\" class=\"dataframe\">\n",
       "  <thead>\n",
       "    <tr style=\"text-align: right;\">\n",
       "      <th></th>\n",
       "      <th>Year</th>\n",
       "      <th>Population</th>\n",
       "      <th>y_grosth_%</th>\n",
       "      <th>y_growth_num</th>\n",
       "      <th>density</th>\n",
       "      <th>urban_po_num</th>\n",
       "      <th>urban_po_%</th>\n",
       "    </tr>\n",
       "  </thead>\n",
       "  <tbody>\n",
       "    <tr>\n",
       "      <th>0</th>\n",
       "      <td>2,584,034,261\\n</td>\n",
       "      <td>1.88%</td>\n",
       "      <td>47,603,112</td>\n",
       "      <td>17</td>\n",
       "      <td>775,067,697</td>\n",
       "      <td>30%</td>\n",
       "      <td>NaN</td>\n",
       "    </tr>\n",
       "    <tr>\n",
       "      <th>1</th>\n",
       "      <td>2,630,861,562\\n</td>\n",
       "      <td>1.81%</td>\n",
       "      <td>46,827,301</td>\n",
       "      <td>18</td>\n",
       "      <td>799,282,533</td>\n",
       "      <td>30%</td>\n",
       "      <td>NaN</td>\n",
       "    </tr>\n",
       "    <tr>\n",
       "      <th>2</th>\n",
       "      <td>2,677,608,960\\n</td>\n",
       "      <td>1.78%</td>\n",
       "      <td>46,747,398</td>\n",
       "      <td>18</td>\n",
       "      <td>824,289,989</td>\n",
       "      <td>31%</td>\n",
       "      <td>NaN</td>\n",
       "    </tr>\n",
       "    <tr>\n",
       "      <th>3</th>\n",
       "      <td>2,724,846,741\\n</td>\n",
       "      <td>1.76%</td>\n",
       "      <td>47,237,781</td>\n",
       "      <td>18</td>\n",
       "      <td>850,179,106</td>\n",
       "      <td>31%</td>\n",
       "      <td>NaN</td>\n",
       "    </tr>\n",
       "    <tr>\n",
       "      <th>4</th>\n",
       "      <td>2,773,019,936\\n</td>\n",
       "      <td>1.77%</td>\n",
       "      <td>48,173,195</td>\n",
       "      <td>19</td>\n",
       "      <td>877,008,842</td>\n",
       "      <td>32%</td>\n",
       "      <td>NaN</td>\n",
       "    </tr>\n",
       "  </tbody>\n",
       "</table>\n",
       "</div>"
      ],
      "text/plain": [
       "              Year Population  y_grosth_% y_growth_num      density  \\\n",
       "0  2,584,034,261\\n      1.88%  47,603,112           17  775,067,697   \n",
       "1  2,630,861,562\\n      1.81%  46,827,301           18  799,282,533   \n",
       "2  2,677,608,960\\n      1.78%  46,747,398           18  824,289,989   \n",
       "3  2,724,846,741\\n      1.76%  47,237,781           18  850,179,106   \n",
       "4  2,773,019,936\\n      1.77%  48,173,195           19  877,008,842   \n",
       "\n",
       "  urban_po_num urban_po_%  \n",
       "0          30%        NaN  \n",
       "1          30%        NaN  \n",
       "2          31%        NaN  \n",
       "3          31%        NaN  \n",
       "4          32%        NaN  "
      ]
     },
     "execution_count": 177,
     "metadata": {},
     "output_type": "execute_result"
    }
   ],
   "source": [
    "df.head()"
   ]
  },
  {
   "cell_type": "code",
   "execution_count": null,
   "metadata": {},
   "outputs": [],
   "source": []
  },
  {
   "cell_type": "code",
   "execution_count": 178,
   "metadata": {},
   "outputs": [
    {
     "data": {
      "text/plain": [
       "[    Year  Population Yearly growth           Density(pop/km2)  \\\n",
       "     Year  Population             %    Number Density(pop/km2)   \n",
       " 0   1951  2584034261         1.88%  47603112               17   \n",
       " 1   1952  2630861562         1.81%  46827301               18   \n",
       " 2   1953  2677608960         1.78%  46747398               18   \n",
       " 3   1954  2724846741         1.76%  47237781               18   \n",
       " 4   1955  2773019936         1.77%  48173195               19   \n",
       " ..   ...         ...           ...       ...              ...   \n",
       " 65  2016  7464022000         1.14%  84225000               50   \n",
       " 66  2017  7547859000         1.12%  83837000               51   \n",
       " 67  2018  7631091000         1.10%  83232000               51   \n",
       " 68  2019  7713468000         1.08%  82377000               52   \n",
       " 69  2020  7795000000         1.05%  81331000               52   \n",
       " \n",
       "    Urban population       \n",
       "              Number    %  \n",
       " 0         775067697  30%  \n",
       " 1         799282533  30%  \n",
       " 2         824289989  31%  \n",
       " 3         850179106  31%  \n",
       " 4         877008842  32%  \n",
       " ..              ...  ...  \n",
       " 65       4060653000  54%  \n",
       " 66       4140189000  55%  \n",
       " 67       4219817000  55%  \n",
       " 68       4299439000  56%  \n",
       " 69       4378900000  56%  \n",
       " \n",
       " [70 rows x 7 columns]]"
      ]
     },
     "execution_count": 178,
     "metadata": {},
     "output_type": "execute_result"
    }
   ],
   "source": [
    "pd.read_html(str(tables[7]), flavor='bs4')"
   ]
  },
  {
   "cell_type": "code",
   "execution_count": 179,
   "metadata": {},
   "outputs": [
    {
     "data": {
      "text/html": [
       "<div>\n",
       "<style scoped>\n",
       "    .dataframe tbody tr th:only-of-type {\n",
       "        vertical-align: middle;\n",
       "    }\n",
       "\n",
       "    .dataframe tbody tr th {\n",
       "        vertical-align: top;\n",
       "    }\n",
       "\n",
       "    .dataframe thead tr th {\n",
       "        text-align: left;\n",
       "    }\n",
       "</style>\n",
       "<table border=\"1\" class=\"dataframe\">\n",
       "  <thead>\n",
       "    <tr>\n",
       "      <th></th>\n",
       "      <th>Year</th>\n",
       "      <th>Population</th>\n",
       "      <th colspan=\"2\" halign=\"left\">Yearly growth</th>\n",
       "      <th>Density(pop/km2)</th>\n",
       "      <th colspan=\"2\" halign=\"left\">Urban population</th>\n",
       "    </tr>\n",
       "    <tr>\n",
       "      <th></th>\n",
       "      <th>Year</th>\n",
       "      <th>Population</th>\n",
       "      <th>%</th>\n",
       "      <th>Number</th>\n",
       "      <th>Density(pop/km2)</th>\n",
       "      <th>Number</th>\n",
       "      <th>%</th>\n",
       "    </tr>\n",
       "  </thead>\n",
       "  <tbody>\n",
       "    <tr>\n",
       "      <th>0</th>\n",
       "      <td>1951</td>\n",
       "      <td>2584034261</td>\n",
       "      <td>1.88%</td>\n",
       "      <td>47603112</td>\n",
       "      <td>17</td>\n",
       "      <td>775067697</td>\n",
       "      <td>30%</td>\n",
       "    </tr>\n",
       "    <tr>\n",
       "      <th>1</th>\n",
       "      <td>1952</td>\n",
       "      <td>2630861562</td>\n",
       "      <td>1.81%</td>\n",
       "      <td>46827301</td>\n",
       "      <td>18</td>\n",
       "      <td>799282533</td>\n",
       "      <td>30%</td>\n",
       "    </tr>\n",
       "    <tr>\n",
       "      <th>2</th>\n",
       "      <td>1953</td>\n",
       "      <td>2677608960</td>\n",
       "      <td>1.78%</td>\n",
       "      <td>46747398</td>\n",
       "      <td>18</td>\n",
       "      <td>824289989</td>\n",
       "      <td>31%</td>\n",
       "    </tr>\n",
       "    <tr>\n",
       "      <th>3</th>\n",
       "      <td>1954</td>\n",
       "      <td>2724846741</td>\n",
       "      <td>1.76%</td>\n",
       "      <td>47237781</td>\n",
       "      <td>18</td>\n",
       "      <td>850179106</td>\n",
       "      <td>31%</td>\n",
       "    </tr>\n",
       "    <tr>\n",
       "      <th>4</th>\n",
       "      <td>1955</td>\n",
       "      <td>2773019936</td>\n",
       "      <td>1.77%</td>\n",
       "      <td>48173195</td>\n",
       "      <td>19</td>\n",
       "      <td>877008842</td>\n",
       "      <td>32%</td>\n",
       "    </tr>\n",
       "    <tr>\n",
       "      <th>...</th>\n",
       "      <td>...</td>\n",
       "      <td>...</td>\n",
       "      <td>...</td>\n",
       "      <td>...</td>\n",
       "      <td>...</td>\n",
       "      <td>...</td>\n",
       "      <td>...</td>\n",
       "    </tr>\n",
       "    <tr>\n",
       "      <th>65</th>\n",
       "      <td>2016</td>\n",
       "      <td>7464022000</td>\n",
       "      <td>1.14%</td>\n",
       "      <td>84225000</td>\n",
       "      <td>50</td>\n",
       "      <td>4060653000</td>\n",
       "      <td>54%</td>\n",
       "    </tr>\n",
       "    <tr>\n",
       "      <th>66</th>\n",
       "      <td>2017</td>\n",
       "      <td>7547859000</td>\n",
       "      <td>1.12%</td>\n",
       "      <td>83837000</td>\n",
       "      <td>51</td>\n",
       "      <td>4140189000</td>\n",
       "      <td>55%</td>\n",
       "    </tr>\n",
       "    <tr>\n",
       "      <th>67</th>\n",
       "      <td>2018</td>\n",
       "      <td>7631091000</td>\n",
       "      <td>1.10%</td>\n",
       "      <td>83232000</td>\n",
       "      <td>51</td>\n",
       "      <td>4219817000</td>\n",
       "      <td>55%</td>\n",
       "    </tr>\n",
       "    <tr>\n",
       "      <th>68</th>\n",
       "      <td>2019</td>\n",
       "      <td>7713468000</td>\n",
       "      <td>1.08%</td>\n",
       "      <td>82377000</td>\n",
       "      <td>52</td>\n",
       "      <td>4299439000</td>\n",
       "      <td>56%</td>\n",
       "    </tr>\n",
       "    <tr>\n",
       "      <th>69</th>\n",
       "      <td>2020</td>\n",
       "      <td>7795000000</td>\n",
       "      <td>1.05%</td>\n",
       "      <td>81331000</td>\n",
       "      <td>52</td>\n",
       "      <td>4378900000</td>\n",
       "      <td>56%</td>\n",
       "    </tr>\n",
       "  </tbody>\n",
       "</table>\n",
       "<p>70 rows × 7 columns</p>\n",
       "</div>"
      ],
      "text/plain": [
       "    Year  Population Yearly growth           Density(pop/km2)  \\\n",
       "    Year  Population             %    Number Density(pop/km2)   \n",
       "0   1951  2584034261         1.88%  47603112               17   \n",
       "1   1952  2630861562         1.81%  46827301               18   \n",
       "2   1953  2677608960         1.78%  46747398               18   \n",
       "3   1954  2724846741         1.76%  47237781               18   \n",
       "4   1955  2773019936         1.77%  48173195               19   \n",
       "..   ...         ...           ...       ...              ...   \n",
       "65  2016  7464022000         1.14%  84225000               50   \n",
       "66  2017  7547859000         1.12%  83837000               51   \n",
       "67  2018  7631091000         1.10%  83232000               51   \n",
       "68  2019  7713468000         1.08%  82377000               52   \n",
       "69  2020  7795000000         1.05%  81331000               52   \n",
       "\n",
       "   Urban population       \n",
       "             Number    %  \n",
       "0         775067697  30%  \n",
       "1         799282533  30%  \n",
       "2         824289989  31%  \n",
       "3         850179106  31%  \n",
       "4         877008842  32%  \n",
       "..              ...  ...  \n",
       "65       4060653000  54%  \n",
       "66       4140189000  55%  \n",
       "67       4219817000  55%  \n",
       "68       4299439000  56%  \n",
       "69       4378900000  56%  \n",
       "\n",
       "[70 rows x 7 columns]"
      ]
     },
     "execution_count": 179,
     "metadata": {},
     "output_type": "execute_result"
    }
   ],
   "source": [
    "population_data_read_html = pd.read_html(str(tables[7]), flavor='bs4')[0]\n",
    "population_data_read_html"
   ]
  },
  {
   "cell_type": "code",
   "execution_count": 180,
   "metadata": {},
   "outputs": [
    {
     "data": {
      "text/plain": [
       "MultiIndex([(            'Year',             'Year'),\n",
       "            (      'Population',       'Population'),\n",
       "            (   'Yearly growth',                '%'),\n",
       "            (   'Yearly growth',           'Number'),\n",
       "            ('Density(pop/km2)', 'Density(pop/km2)'),\n",
       "            ('Urban population',           'Number'),\n",
       "            ('Urban population',                '%')],\n",
       "           )"
      ]
     },
     "execution_count": 180,
     "metadata": {},
     "output_type": "execute_result"
    }
   ],
   "source": [
    "population_data_read_html.columns"
   ]
  },
  {
   "cell_type": "code",
   "execution_count": 181,
   "metadata": {},
   "outputs": [],
   "source": [
    "population_data_read_html.columns = ['Year', 'Population','Yearly growth %', 'Yearly growth num', 'Density(pop/km2)', 'Urban population num', 'Urban population %']"
   ]
  },
  {
   "cell_type": "code",
   "execution_count": 182,
   "metadata": {},
   "outputs": [
    {
     "data": {
      "text/html": [
       "<div>\n",
       "<style scoped>\n",
       "    .dataframe tbody tr th:only-of-type {\n",
       "        vertical-align: middle;\n",
       "    }\n",
       "\n",
       "    .dataframe tbody tr th {\n",
       "        vertical-align: top;\n",
       "    }\n",
       "\n",
       "    .dataframe thead th {\n",
       "        text-align: right;\n",
       "    }\n",
       "</style>\n",
       "<table border=\"1\" class=\"dataframe\">\n",
       "  <thead>\n",
       "    <tr style=\"text-align: right;\">\n",
       "      <th></th>\n",
       "      <th>Year</th>\n",
       "      <th>Population</th>\n",
       "      <th>Yearly growth %</th>\n",
       "      <th>Yearly growth num</th>\n",
       "      <th>Density(pop/km2)</th>\n",
       "      <th>Urban population num</th>\n",
       "      <th>Urban population %</th>\n",
       "    </tr>\n",
       "  </thead>\n",
       "  <tbody>\n",
       "    <tr>\n",
       "      <th>0</th>\n",
       "      <td>1951</td>\n",
       "      <td>2584034261</td>\n",
       "      <td>1.88%</td>\n",
       "      <td>47603112</td>\n",
       "      <td>17</td>\n",
       "      <td>775067697</td>\n",
       "      <td>30%</td>\n",
       "    </tr>\n",
       "    <tr>\n",
       "      <th>1</th>\n",
       "      <td>1952</td>\n",
       "      <td>2630861562</td>\n",
       "      <td>1.81%</td>\n",
       "      <td>46827301</td>\n",
       "      <td>18</td>\n",
       "      <td>799282533</td>\n",
       "      <td>30%</td>\n",
       "    </tr>\n",
       "    <tr>\n",
       "      <th>2</th>\n",
       "      <td>1953</td>\n",
       "      <td>2677608960</td>\n",
       "      <td>1.78%</td>\n",
       "      <td>46747398</td>\n",
       "      <td>18</td>\n",
       "      <td>824289989</td>\n",
       "      <td>31%</td>\n",
       "    </tr>\n",
       "    <tr>\n",
       "      <th>3</th>\n",
       "      <td>1954</td>\n",
       "      <td>2724846741</td>\n",
       "      <td>1.76%</td>\n",
       "      <td>47237781</td>\n",
       "      <td>18</td>\n",
       "      <td>850179106</td>\n",
       "      <td>31%</td>\n",
       "    </tr>\n",
       "    <tr>\n",
       "      <th>4</th>\n",
       "      <td>1955</td>\n",
       "      <td>2773019936</td>\n",
       "      <td>1.77%</td>\n",
       "      <td>48173195</td>\n",
       "      <td>19</td>\n",
       "      <td>877008842</td>\n",
       "      <td>32%</td>\n",
       "    </tr>\n",
       "    <tr>\n",
       "      <th>...</th>\n",
       "      <td>...</td>\n",
       "      <td>...</td>\n",
       "      <td>...</td>\n",
       "      <td>...</td>\n",
       "      <td>...</td>\n",
       "      <td>...</td>\n",
       "      <td>...</td>\n",
       "    </tr>\n",
       "    <tr>\n",
       "      <th>65</th>\n",
       "      <td>2016</td>\n",
       "      <td>7464022000</td>\n",
       "      <td>1.14%</td>\n",
       "      <td>84225000</td>\n",
       "      <td>50</td>\n",
       "      <td>4060653000</td>\n",
       "      <td>54%</td>\n",
       "    </tr>\n",
       "    <tr>\n",
       "      <th>66</th>\n",
       "      <td>2017</td>\n",
       "      <td>7547859000</td>\n",
       "      <td>1.12%</td>\n",
       "      <td>83837000</td>\n",
       "      <td>51</td>\n",
       "      <td>4140189000</td>\n",
       "      <td>55%</td>\n",
       "    </tr>\n",
       "    <tr>\n",
       "      <th>67</th>\n",
       "      <td>2018</td>\n",
       "      <td>7631091000</td>\n",
       "      <td>1.10%</td>\n",
       "      <td>83232000</td>\n",
       "      <td>51</td>\n",
       "      <td>4219817000</td>\n",
       "      <td>55%</td>\n",
       "    </tr>\n",
       "    <tr>\n",
       "      <th>68</th>\n",
       "      <td>2019</td>\n",
       "      <td>7713468000</td>\n",
       "      <td>1.08%</td>\n",
       "      <td>82377000</td>\n",
       "      <td>52</td>\n",
       "      <td>4299439000</td>\n",
       "      <td>56%</td>\n",
       "    </tr>\n",
       "    <tr>\n",
       "      <th>69</th>\n",
       "      <td>2020</td>\n",
       "      <td>7795000000</td>\n",
       "      <td>1.05%</td>\n",
       "      <td>81331000</td>\n",
       "      <td>52</td>\n",
       "      <td>4378900000</td>\n",
       "      <td>56%</td>\n",
       "    </tr>\n",
       "  </tbody>\n",
       "</table>\n",
       "<p>70 rows × 7 columns</p>\n",
       "</div>"
      ],
      "text/plain": [
       "    Year  Population Yearly growth %  Yearly growth num  Density(pop/km2)  \\\n",
       "0   1951  2584034261           1.88%           47603112                17   \n",
       "1   1952  2630861562           1.81%           46827301                18   \n",
       "2   1953  2677608960           1.78%           46747398                18   \n",
       "3   1954  2724846741           1.76%           47237781                18   \n",
       "4   1955  2773019936           1.77%           48173195                19   \n",
       "..   ...         ...             ...                ...               ...   \n",
       "65  2016  7464022000           1.14%           84225000                50   \n",
       "66  2017  7547859000           1.12%           83837000                51   \n",
       "67  2018  7631091000           1.10%           83232000                51   \n",
       "68  2019  7713468000           1.08%           82377000                52   \n",
       "69  2020  7795000000           1.05%           81331000                52   \n",
       "\n",
       "    Urban population num Urban population %  \n",
       "0              775067697                30%  \n",
       "1              799282533                30%  \n",
       "2              824289989                31%  \n",
       "3              850179106                31%  \n",
       "4              877008842                32%  \n",
       "..                   ...                ...  \n",
       "65            4060653000                54%  \n",
       "66            4140189000                55%  \n",
       "67            4219817000                55%  \n",
       "68            4299439000                56%  \n",
       "69            4378900000                56%  \n",
       "\n",
       "[70 rows x 7 columns]"
      ]
     },
     "execution_count": 182,
     "metadata": {},
     "output_type": "execute_result"
    }
   ],
   "source": [
    "population_data_read_html"
   ]
  },
  {
   "cell_type": "code",
   "execution_count": 183,
   "metadata": {},
   "outputs": [],
   "source": [
    "pdrh = population_data_read_html"
   ]
  },
  {
   "cell_type": "code",
   "execution_count": 184,
   "metadata": {},
   "outputs": [
    {
     "name": "stdout",
     "output_type": "stream",
     "text": [
      "<class 'pandas.core.frame.DataFrame'>\n",
      "RangeIndex: 70 entries, 0 to 69\n",
      "Data columns (total 7 columns):\n",
      " #   Column                Non-Null Count  Dtype \n",
      "---  ------                --------------  ----- \n",
      " 0   Year                  70 non-null     int64 \n",
      " 1   Population            70 non-null     int64 \n",
      " 2   Yearly growth %       70 non-null     object\n",
      " 3   Yearly growth num     70 non-null     int64 \n",
      " 4   Density(pop/km2)      70 non-null     int64 \n",
      " 5   Urban population num  70 non-null     int64 \n",
      " 6   Urban population %    70 non-null     object\n",
      "dtypes: int64(5), object(2)\n",
      "memory usage: 4.0+ KB\n"
     ]
    }
   ],
   "source": [
    "pdrh.info()"
   ]
  },
  {
   "cell_type": "code",
   "execution_count": 142,
   "metadata": {},
   "outputs": [
    {
     "data": {
      "text/plain": [
       "'4,299,439,000'"
      ]
     },
     "execution_count": 142,
     "metadata": {},
     "output_type": "execute_result"
    }
   ],
   "source": [
    "tables[7].tbody.find_all('tr')[70].contents[11].text[:-1]"
   ]
  },
  {
   "cell_type": "markdown",
   "metadata": {},
   "source": [
    "# Extracting stock data using python library"
   ]
  },
  {
   "cell_type": "code",
   "execution_count": 186,
   "metadata": {},
   "outputs": [
    {
     "name": "stdout",
     "output_type": "stream",
     "text": [
      "Collecting yfinance\n",
      "  Downloading yfinance-0.1.63.tar.gz (26 kB)\n",
      "Requirement already satisfied: pandas>=0.24 in c:\\users\\belma\\anaconda3\\lib\\site-packages (from yfinance) (1.0.5)\n",
      "Requirement already satisfied: numpy>=1.15 in c:\\users\\belma\\anaconda3\\lib\\site-packages (from yfinance) (1.18.5)\n",
      "Requirement already satisfied: requests>=2.20 in c:\\users\\belma\\anaconda3\\lib\\site-packages (from yfinance) (2.24.0)\n",
      "Collecting multitasking>=0.0.7\n",
      "  Downloading multitasking-0.0.9.tar.gz (8.1 kB)\n",
      "Requirement already satisfied: lxml>=4.5.1 in c:\\users\\belma\\anaconda3\\lib\\site-packages (from yfinance) (4.5.2)\n",
      "Requirement already satisfied: pytz>=2017.2 in c:\\users\\belma\\anaconda3\\lib\\site-packages (from pandas>=0.24->yfinance) (2020.1)\n",
      "Requirement already satisfied: python-dateutil>=2.6.1 in c:\\users\\belma\\anaconda3\\lib\\site-packages (from pandas>=0.24->yfinance) (2.8.1)\n",
      "Requirement already satisfied: urllib3!=1.25.0,!=1.25.1,<1.26,>=1.21.1 in c:\\users\\belma\\anaconda3\\lib\\site-packages (from requests>=2.20->yfinance) (1.25.9)\n",
      "Requirement already satisfied: certifi>=2017.4.17 in c:\\users\\belma\\anaconda3\\lib\\site-packages (from requests>=2.20->yfinance) (2020.6.20)\n",
      "Requirement already satisfied: idna<3,>=2.5 in c:\\users\\belma\\anaconda3\\lib\\site-packages (from requests>=2.20->yfinance) (2.10)\n",
      "Requirement already satisfied: chardet<4,>=3.0.2 in c:\\users\\belma\\anaconda3\\lib\\site-packages (from requests>=2.20->yfinance) (3.0.4)\n",
      "Requirement already satisfied: six>=1.5 in c:\\users\\belma\\anaconda3\\lib\\site-packages (from python-dateutil>=2.6.1->pandas>=0.24->yfinance) (1.15.0)\n",
      "Building wheels for collected packages: yfinance, multitasking\n",
      "  Building wheel for yfinance (setup.py): started\n",
      "  Building wheel for yfinance (setup.py): finished with status 'done'\n",
      "  Created wheel for yfinance: filename=yfinance-0.1.63-py2.py3-none-any.whl size=23914 sha256=0873619b1fc62557c7b2de1ff79200c3d54f012abb24eb24ed47a97e48f56485\n",
      "  Stored in directory: c:\\users\\belma\\appdata\\local\\pip\\cache\\wheels\\ec\\cc\\c1\\32da8ee853d742d5d7cbd11ee04421222eb354672020b57297\n",
      "  Building wheel for multitasking (setup.py): started\n",
      "  Building wheel for multitasking (setup.py): finished with status 'done'\n",
      "  Created wheel for multitasking: filename=multitasking-0.0.9-py3-none-any.whl size=8374 sha256=dd12a495988b2e2f3286b2e97c7f0f8a5ca991d96f30aa7fba290288a970bab8\n",
      "  Stored in directory: c:\\users\\belma\\appdata\\local\\pip\\cache\\wheels\\57\\6d\\a3\\a39b839cc75274d2acfb1c58bfead2f726c6577fe8c4723f13\n",
      "Successfully built yfinance multitasking\n",
      "Installing collected packages: multitasking, yfinance\n",
      "Successfully installed multitasking-0.0.9 yfinance-0.1.63\n"
     ]
    }
   ],
   "source": [
    "!pip install yfinance"
   ]
  },
  {
   "cell_type": "code",
   "execution_count": 187,
   "metadata": {},
   "outputs": [],
   "source": [
    "import yfinance as yf\n",
    "import pandas as pd"
   ]
  },
  {
   "cell_type": "markdown",
   "metadata": {},
   "source": [
    "### Using the Yfinance Library to Extract Stock Data\n",
    "\n",
    "Using the **Ticker** module we can create an object that will allow us to access functions to extract data. To do this we need to provide the ticker symbol for the stock, here the company is Apple and the ticker symbol is AAPL"
   ]
  },
  {
   "cell_type": "code",
   "execution_count": 188,
   "metadata": {},
   "outputs": [],
   "source": [
    "apple = yf.Ticker('AAPL')"
   ]
  },
  {
   "cell_type": "code",
   "execution_count": 191,
   "metadata": {},
   "outputs": [
    {
     "data": {
      "text/plain": [
       "{'zip': '95014',\n",
       " 'sector': 'Technology',\n",
       " 'fullTimeEmployees': 147000,\n",
       " 'longBusinessSummary': 'Apple Inc. designs, manufactures, and markets smartphones, personal computers, tablets, wearables, and accessories worldwide. It also sells various related services. The company offers iPhone, a line of smartphones; Mac, a line of personal computers; iPad, a line of multi-purpose tablets; and wearables, home, and accessories comprising AirPods, Apple TV, Apple Watch, Beats products, HomePod, iPod touch, and other Apple-branded and third-party accessories. It also provides AppleCare support services; cloud services store services; and operates various platforms, including the App Store, that allow customers to discover and download applications and digital content, such as books, music, video, games, and podcasts. In addition, the company offers various services, such as Apple Arcade, a game subscription service; Apple Music, which offers users a curated listening experience with on-demand radio stations; Apple News+, a subscription news and magazine service; Apple TV+, which offers exclusive original content; Apple Card, a co-branded credit card; and Apple Pay, a cashless payment service, as well as licenses its intellectual property. The company serves consumers, and small and mid-sized businesses; and the education, enterprise, and government markets. It sells and delivers third-party applications for its products through the App Store. The company also sells its products through its retail and online stores, and direct sales force; and third-party cellular network carriers, wholesalers, retailers, and resellers. Apple Inc. was founded in 1977 and is headquartered in Cupertino, California.',\n",
       " 'city': 'Cupertino',\n",
       " 'phone': '408-996-1010',\n",
       " 'state': 'CA',\n",
       " 'country': 'United States',\n",
       " 'companyOfficers': [],\n",
       " 'website': 'http://www.apple.com',\n",
       " 'maxAge': 1,\n",
       " 'address1': 'One Apple Park Way',\n",
       " 'industry': 'Consumer Electronics',\n",
       " 'ebitdaMargins': 0.31955,\n",
       " 'profitMargins': 0.25004000000000004,\n",
       " 'grossMargins': 0.41005,\n",
       " 'operatingCashflow': 104414003200,\n",
       " 'revenueGrowth': 0.364,\n",
       " 'operatingMargins': 0.28788,\n",
       " 'ebitda': 110934999040,\n",
       " 'targetLowPrice': 125,\n",
       " 'recommendationKey': 'buy',\n",
       " 'grossProfits': 104956000000,\n",
       " 'freeCashflow': 80625876992,\n",
       " 'targetMedianPrice': 160,\n",
       " 'currentPrice': 145.6,\n",
       " 'earningsGrowth': 1,\n",
       " 'currentRatio': 1.062,\n",
       " 'returnOnAssets': 0.19302000000000002,\n",
       " 'numberOfAnalystOpinions': 39,\n",
       " 'targetMeanPrice': 159.34,\n",
       " 'debtToEquity': 210.782,\n",
       " 'returnOnEquity': 1.27125,\n",
       " 'targetHighPrice': 185,\n",
       " 'totalCash': 61696000000,\n",
       " 'totalDebt': 135491002368,\n",
       " 'totalRevenue': 347155005440,\n",
       " 'totalCashPerShare': 3.732,\n",
       " 'financialCurrency': 'USD',\n",
       " 'revenuePerShare': 20.61,\n",
       " 'quickRatio': 0.887,\n",
       " 'recommendationMean': 2,\n",
       " 'exchange': 'NMS',\n",
       " 'shortName': 'Apple Inc.',\n",
       " 'longName': 'Apple Inc.',\n",
       " 'exchangeTimezoneName': 'America/New_York',\n",
       " 'exchangeTimezoneShortName': 'EDT',\n",
       " 'isEsgPopulated': False,\n",
       " 'gmtOffSetMilliseconds': '-14400000',\n",
       " 'quoteType': 'EQUITY',\n",
       " 'symbol': 'AAPL',\n",
       " 'messageBoardId': 'finmb_24937',\n",
       " 'market': 'us_market',\n",
       " 'annualHoldingsTurnover': None,\n",
       " 'enterpriseToRevenue': 7.169,\n",
       " 'beta3Year': None,\n",
       " 'enterpriseToEbitda': 22.434,\n",
       " '52WeekChange': 0.29271746,\n",
       " 'morningStarRiskRating': None,\n",
       " 'forwardEps': 5.34,\n",
       " 'revenueQuarterlyGrowth': None,\n",
       " 'sharesOutstanding': 16530199552,\n",
       " 'fundInceptionDate': None,\n",
       " 'annualReportExpenseRatio': None,\n",
       " 'totalAssets': None,\n",
       " 'bookValue': 3.882,\n",
       " 'sharesShort': 96355309,\n",
       " 'sharesPercentSharesOut': 0.0058000000000000005,\n",
       " 'fundFamily': None,\n",
       " 'lastFiscalYearEnd': 1601078400,\n",
       " 'heldPercentInstitutions': 0.58992,\n",
       " 'netIncomeToCommon': 86801997824,\n",
       " 'trailingEps': 5.108,\n",
       " 'lastDividendValue': 0.22,\n",
       " 'SandP52WeekChange': 0.3112104,\n",
       " 'priceToBook': 37.506443,\n",
       " 'heldPercentInsiders': 0.0006900000000000001,\n",
       " 'nextFiscalYearEnd': 1664150400,\n",
       " 'yield': None,\n",
       " 'mostRecentQuarter': 1624665600,\n",
       " 'shortRatio': 1.1400000000000001,\n",
       " 'sharesShortPreviousMonthDate': 1623715200,\n",
       " 'floatShares': 16513139929,\n",
       " 'beta': 1.202797,\n",
       " 'enterpriseValue': 2488686870528,\n",
       " 'priceHint': 2,\n",
       " 'threeYearAverageReturn': None,\n",
       " 'lastSplitDate': 1598832000,\n",
       " 'lastSplitFactor': '4:1',\n",
       " 'legalType': None,\n",
       " 'lastDividendDate': 1620345600,\n",
       " 'morningStarOverallRating': None,\n",
       " 'earningsQuarterlyGrowth': 0.932,\n",
       " 'priceToSalesTrailing12Months': 6.932918,\n",
       " 'dateShortInterest': 1626307200,\n",
       " 'pegRatio': 1.53,\n",
       " 'ytdReturn': None,\n",
       " 'forwardPE': 27.265919,\n",
       " 'lastCapGain': None,\n",
       " 'shortPercentOfFloat': 0.0058000000000000005,\n",
       " 'sharesShortPriorMonth': 108937943,\n",
       " 'impliedSharesOutstanding': None,\n",
       " 'category': None,\n",
       " 'fiveYearAverageReturn': None,\n",
       " 'previousClose': 146.09,\n",
       " 'regularMarketOpen': 146.44,\n",
       " 'twoHundredDayAverage': 132.0381,\n",
       " 'trailingAnnualDividendYield': 0.0057156547,\n",
       " 'payoutRatio': 0.16309999,\n",
       " 'volume24Hr': None,\n",
       " 'regularMarketDayHigh': 147.71,\n",
       " 'navPrice': None,\n",
       " 'averageDailyVolume10Day': 55568116,\n",
       " 'regularMarketPreviousClose': 146.09,\n",
       " 'fiftyDayAverage': 143.2153,\n",
       " 'trailingAnnualDividendRate': 0.835,\n",
       " 'open': 146.44,\n",
       " 'toCurrency': None,\n",
       " 'averageVolume10days': 55568116,\n",
       " 'expireDate': None,\n",
       " 'algorithm': None,\n",
       " 'dividendRate': 0.88,\n",
       " 'exDividendDate': 1628208000,\n",
       " 'circulatingSupply': None,\n",
       " 'startDate': None,\n",
       " 'regularMarketDayLow': 145.3,\n",
       " 'currency': 'USD',\n",
       " 'trailingPE': 28.504309,\n",
       " 'regularMarketVolume': 69023081,\n",
       " 'lastMarket': None,\n",
       " 'maxSupply': None,\n",
       " 'openInterest': None,\n",
       " 'marketCap': 2406797279232,\n",
       " 'volumeAllCurrencies': None,\n",
       " 'strikePrice': None,\n",
       " 'averageVolume': 79825977,\n",
       " 'dayLow': 145.3,\n",
       " 'ask': 0,\n",
       " 'askSize': 1800,\n",
       " 'volume': 69023081,\n",
       " 'fiftyTwoWeekHigh': 150,\n",
       " 'fromCurrency': None,\n",
       " 'fiveYearAvgDividendYield': 1.29,\n",
       " 'fiftyTwoWeekLow': 103.1,\n",
       " 'bid': 0,\n",
       " 'tradeable': False,\n",
       " 'dividendYield': 0.006,\n",
       " 'bidSize': 1000,\n",
       " 'dayHigh': 147.71,\n",
       " 'regularMarketPrice': 145.6,\n",
       " 'logo_url': 'https://logo.clearbit.com/apple.com'}"
      ]
     },
     "execution_count": 191,
     "metadata": {},
     "output_type": "execute_result"
    }
   ],
   "source": [
    "apple_info = apple.info\n",
    "apple_info"
   ]
  },
  {
   "cell_type": "code",
   "execution_count": 203,
   "metadata": {},
   "outputs": [
    {
     "data": {
      "text/plain": [
       "'United States'"
      ]
     },
     "execution_count": 203,
     "metadata": {},
     "output_type": "execute_result"
    }
   ],
   "source": [
    "apple_info[\"country\"]"
   ]
  },
  {
   "cell_type": "code",
   "execution_count": 204,
   "metadata": {},
   "outputs": [
    {
     "data": {
      "text/html": [
       "<div>\n",
       "<style scoped>\n",
       "    .dataframe tbody tr th:only-of-type {\n",
       "        vertical-align: middle;\n",
       "    }\n",
       "\n",
       "    .dataframe tbody tr th {\n",
       "        vertical-align: top;\n",
       "    }\n",
       "\n",
       "    .dataframe thead th {\n",
       "        text-align: right;\n",
       "    }\n",
       "</style>\n",
       "<table border=\"1\" class=\"dataframe\">\n",
       "  <thead>\n",
       "    <tr style=\"text-align: right;\">\n",
       "      <th></th>\n",
       "      <th>Open</th>\n",
       "      <th>High</th>\n",
       "      <th>Low</th>\n",
       "      <th>Close</th>\n",
       "      <th>Volume</th>\n",
       "      <th>Dividends</th>\n",
       "      <th>Stock Splits</th>\n",
       "    </tr>\n",
       "    <tr>\n",
       "      <th>Date</th>\n",
       "      <th></th>\n",
       "      <th></th>\n",
       "      <th></th>\n",
       "      <th></th>\n",
       "      <th></th>\n",
       "      <th></th>\n",
       "      <th></th>\n",
       "    </tr>\n",
       "  </thead>\n",
       "  <tbody>\n",
       "    <tr>\n",
       "      <th>1980-12-12</th>\n",
       "      <td>0.100600</td>\n",
       "      <td>0.101037</td>\n",
       "      <td>0.100600</td>\n",
       "      <td>0.100600</td>\n",
       "      <td>469033600</td>\n",
       "      <td>0.0</td>\n",
       "      <td>0.0</td>\n",
       "    </tr>\n",
       "    <tr>\n",
       "      <th>1980-12-15</th>\n",
       "      <td>0.095789</td>\n",
       "      <td>0.095789</td>\n",
       "      <td>0.095352</td>\n",
       "      <td>0.095352</td>\n",
       "      <td>175884800</td>\n",
       "      <td>0.0</td>\n",
       "      <td>0.0</td>\n",
       "    </tr>\n",
       "    <tr>\n",
       "      <th>1980-12-16</th>\n",
       "      <td>0.088790</td>\n",
       "      <td>0.088790</td>\n",
       "      <td>0.088353</td>\n",
       "      <td>0.088353</td>\n",
       "      <td>105728000</td>\n",
       "      <td>0.0</td>\n",
       "      <td>0.0</td>\n",
       "    </tr>\n",
       "    <tr>\n",
       "      <th>1980-12-17</th>\n",
       "      <td>0.090540</td>\n",
       "      <td>0.090977</td>\n",
       "      <td>0.090540</td>\n",
       "      <td>0.090540</td>\n",
       "      <td>86441600</td>\n",
       "      <td>0.0</td>\n",
       "      <td>0.0</td>\n",
       "    </tr>\n",
       "    <tr>\n",
       "      <th>1980-12-18</th>\n",
       "      <td>0.093165</td>\n",
       "      <td>0.093602</td>\n",
       "      <td>0.093165</td>\n",
       "      <td>0.093165</td>\n",
       "      <td>73449600</td>\n",
       "      <td>0.0</td>\n",
       "      <td>0.0</td>\n",
       "    </tr>\n",
       "  </tbody>\n",
       "</table>\n",
       "</div>"
      ],
      "text/plain": [
       "                Open      High       Low     Close     Volume  Dividends  \\\n",
       "Date                                                                       \n",
       "1980-12-12  0.100600  0.101037  0.100600  0.100600  469033600        0.0   \n",
       "1980-12-15  0.095789  0.095789  0.095352  0.095352  175884800        0.0   \n",
       "1980-12-16  0.088790  0.088790  0.088353  0.088353  105728000        0.0   \n",
       "1980-12-17  0.090540  0.090977  0.090540  0.090540   86441600        0.0   \n",
       "1980-12-18  0.093165  0.093602  0.093165  0.093165   73449600        0.0   \n",
       "\n",
       "            Stock Splits  \n",
       "Date                      \n",
       "1980-12-12           0.0  \n",
       "1980-12-15           0.0  \n",
       "1980-12-16           0.0  \n",
       "1980-12-17           0.0  \n",
       "1980-12-18           0.0  "
      ]
     },
     "execution_count": 204,
     "metadata": {},
     "output_type": "execute_result"
    }
   ],
   "source": [
    "apple_share_price_data=apple.history(period='max')\n",
    "apple_share_price_data.head()"
   ]
  },
  {
   "cell_type": "code",
   "execution_count": 207,
   "metadata": {},
   "outputs": [],
   "source": [
    "apple_share_price_data.reset_index(inplace=True)"
   ]
  },
  {
   "cell_type": "code",
   "execution_count": 208,
   "metadata": {},
   "outputs": [
    {
     "data": {
      "text/html": [
       "<div>\n",
       "<style scoped>\n",
       "    .dataframe tbody tr th:only-of-type {\n",
       "        vertical-align: middle;\n",
       "    }\n",
       "\n",
       "    .dataframe tbody tr th {\n",
       "        vertical-align: top;\n",
       "    }\n",
       "\n",
       "    .dataframe thead th {\n",
       "        text-align: right;\n",
       "    }\n",
       "</style>\n",
       "<table border=\"1\" class=\"dataframe\">\n",
       "  <thead>\n",
       "    <tr style=\"text-align: right;\">\n",
       "      <th></th>\n",
       "      <th>Date</th>\n",
       "      <th>Open</th>\n",
       "      <th>High</th>\n",
       "      <th>Low</th>\n",
       "      <th>Close</th>\n",
       "      <th>Volume</th>\n",
       "      <th>Dividends</th>\n",
       "      <th>Stock Splits</th>\n",
       "    </tr>\n",
       "  </thead>\n",
       "  <tbody>\n",
       "    <tr>\n",
       "      <th>0</th>\n",
       "      <td>1980-12-12</td>\n",
       "      <td>0.100600</td>\n",
       "      <td>0.101037</td>\n",
       "      <td>0.100600</td>\n",
       "      <td>0.100600</td>\n",
       "      <td>469033600</td>\n",
       "      <td>0.0</td>\n",
       "      <td>0.0</td>\n",
       "    </tr>\n",
       "    <tr>\n",
       "      <th>1</th>\n",
       "      <td>1980-12-15</td>\n",
       "      <td>0.095789</td>\n",
       "      <td>0.095789</td>\n",
       "      <td>0.095352</td>\n",
       "      <td>0.095352</td>\n",
       "      <td>175884800</td>\n",
       "      <td>0.0</td>\n",
       "      <td>0.0</td>\n",
       "    </tr>\n",
       "    <tr>\n",
       "      <th>2</th>\n",
       "      <td>1980-12-16</td>\n",
       "      <td>0.088790</td>\n",
       "      <td>0.088790</td>\n",
       "      <td>0.088353</td>\n",
       "      <td>0.088353</td>\n",
       "      <td>105728000</td>\n",
       "      <td>0.0</td>\n",
       "      <td>0.0</td>\n",
       "    </tr>\n",
       "    <tr>\n",
       "      <th>3</th>\n",
       "      <td>1980-12-17</td>\n",
       "      <td>0.090540</td>\n",
       "      <td>0.090977</td>\n",
       "      <td>0.090540</td>\n",
       "      <td>0.090540</td>\n",
       "      <td>86441600</td>\n",
       "      <td>0.0</td>\n",
       "      <td>0.0</td>\n",
       "    </tr>\n",
       "    <tr>\n",
       "      <th>4</th>\n",
       "      <td>1980-12-18</td>\n",
       "      <td>0.093165</td>\n",
       "      <td>0.093602</td>\n",
       "      <td>0.093165</td>\n",
       "      <td>0.093165</td>\n",
       "      <td>73449600</td>\n",
       "      <td>0.0</td>\n",
       "      <td>0.0</td>\n",
       "    </tr>\n",
       "  </tbody>\n",
       "</table>\n",
       "</div>"
      ],
      "text/plain": [
       "        Date      Open      High       Low     Close     Volume  Dividends  \\\n",
       "0 1980-12-12  0.100600  0.101037  0.100600  0.100600  469033600        0.0   \n",
       "1 1980-12-15  0.095789  0.095789  0.095352  0.095352  175884800        0.0   \n",
       "2 1980-12-16  0.088790  0.088790  0.088353  0.088353  105728000        0.0   \n",
       "3 1980-12-17  0.090540  0.090977  0.090540  0.090540   86441600        0.0   \n",
       "4 1980-12-18  0.093165  0.093602  0.093165  0.093165   73449600        0.0   \n",
       "\n",
       "   Stock Splits  \n",
       "0           0.0  \n",
       "1           0.0  \n",
       "2           0.0  \n",
       "3           0.0  \n",
       "4           0.0  "
      ]
     },
     "execution_count": 208,
     "metadata": {},
     "output_type": "execute_result"
    }
   ],
   "source": [
    "apple_share_price_data.head()"
   ]
  },
  {
   "cell_type": "code",
   "execution_count": 215,
   "metadata": {},
   "outputs": [
    {
     "data": {
      "text/plain": [
       "<matplotlib.axes._subplots.AxesSubplot at 0x1c8a1936e80>"
      ]
     },
     "execution_count": 215,
     "metadata": {},
     "output_type": "execute_result"
    },
    {
     "data": {
      "image/png": "[encoded data removed]",
      "text/plain": [
       "<Figure size 432x288 with 1 Axes>"
      ]
     },
     "metadata": {
      "needs_background": "light"
     },
     "output_type": "display_data"
    }
   ],
   "source": [
    "apple_share_price_data.plot(x='Date', y='Open')"
   ]
  },
  {
   "cell_type": "code",
   "execution_count": 221,
   "metadata": {},
   "outputs": [
    {
     "data": {
      "text/plain": [
       "Date\n",
       "1987-05-11    0.000536\n",
       "1987-08-10    0.000536\n",
       "1987-11-17    0.000714\n",
       "1988-02-12    0.000714\n",
       "1988-05-16    0.000714\n",
       "                ...   \n",
       "2020-08-07    0.205000\n",
       "2020-11-06    0.205000\n",
       "2021-02-05    0.205000\n",
       "2021-05-07    0.220000\n",
       "2021-08-06    0.220000\n",
       "Name: Dividends, Length: 72, dtype: float64"
      ]
     },
     "execution_count": 221,
     "metadata": {},
     "output_type": "execute_result"
    }
   ],
   "source": [
    "apple.dividends"
   ]
  },
  {
   "cell_type": "code",
   "execution_count": 222,
   "metadata": {},
   "outputs": [
    {
     "data": {
      "text/plain": [
       "<matplotlib.axes._subplots.AxesSubplot at 0x1c8a2e3b220>"
      ]
     },
     "execution_count": 222,
     "metadata": {},
     "output_type": "execute_result"
    },
    {
     "data": {
      "image/png": "[encoded data removed]",
      "text/plain": [
       "<Figure size 432x288 with 1 Axes>"
      ]
     },
     "metadata": {
      "needs_background": "light"
     },
     "output_type": "display_data"
    }
   ],
   "source": [
    "apple.dividends.plot()"
   ]
  },
  {
   "cell_type": "markdown",
   "metadata": {},
   "source": [
    "### Exercice"
   ]
  },
  {
   "cell_type": "markdown",
   "metadata": {},
   "source": [
    "Now using the Ticker module create an object for AMD (Advanced Micro Devices) with the ticker symbol is AMD called; name the object amd"
   ]
  },
  {
   "cell_type": "code",
   "execution_count": 223,
   "metadata": {},
   "outputs": [],
   "source": [
    "amd = yf.Ticker('AMD')"
   ]
  },
  {
   "cell_type": "markdown",
   "metadata": {},
   "source": [
    "<b>Question 1</b> Use the key  <code>'country'</code> to find the country the stock belongs to, remember it as it will be a quiz question.\n"
   ]
  },
  {
   "cell_type": "code",
   "execution_count": 225,
   "metadata": {},
   "outputs": [
    {
     "data": {
      "text/plain": [
       "{'zip': '95054',\n",
       " 'sector': 'Technology',\n",
       " 'fullTimeEmployees': 12600,\n",
       " 'longBusinessSummary': 'Advanced Micro Devices, Inc. operates as a semiconductor company worldwide. The company operates in two segments, Computing and Graphics; and Enterprise, Embedded and Semi-Custom. Its products include x86 microprocessors as an accelerated processing unit, chipsets, discrete and integrated graphics processing units (GPUs), data center and professional GPUs, and development services; and server and embedded processors, and semi-custom System-on-Chip (SoC) products, development services, and technology for game consoles. The company provides x86 microprocessors for desktop PCs under the AMD Ryzen, AMD Ryzen PRO, Ryzen, Threadripper, AMD A-Series, AMD FX, AMD Athlon, AMD Athlon PRO, and AMD Pro A-Series processors brands; microprocessors for notebook and 2-in-1s under the AMD Ryzen, AMD A-Series, AMD Athlon, AMD Ryzen PRO, AMD Athlon PRO, and AMD Pro A-Series processors brands; microprocessors for servers under the AMD EPYC and AMD Opteron brands; and chipsets under the AMD trademark. It also offers discrete GPUs for desktop and notebook PCs under the AMD Radeon graphics and AMD Embedded Radeon brands; professional graphics products under the AMD Radeon Pro and AMD FirePro graphics brands; and Radeon Instinct and AMD Instinct accelerators for servers. In addition, the company provides embedded processor solutions under the AMD Opteron, AMD Athlon, AMD Geode, AMD Ryzen, AMD EPYC, AMD R-Series, and G-Series processors brands; and customer-specific solutions based on AMD CPU, GPU, and multi-media technologies, as well as semi-custom SoC products. It serves original equipment manufacturers, public cloud service providers, original design manufacturers, system integrators, independent distributors, online retailers, and add-in-board manufacturers through its direct sales force, independent distributors, and sales representatives. Advanced Micro Devices, Inc. was founded in 1969 and is headquartered in Santa Clara, California.',\n",
       " 'city': 'Santa Clara',\n",
       " 'phone': '408 749 4000',\n",
       " 'state': 'CA',\n",
       " 'country': 'United States',\n",
       " 'companyOfficers': [],\n",
       " 'website': 'http://www.amd.com',\n",
       " 'maxAge': 1,\n",
       " 'address1': '2485 Augustine Drive',\n",
       " 'industry': 'Semiconductors',\n",
       " 'ebitdaMargins': 0.21746999,\n",
       " 'profitMargins': 0.25757,\n",
       " 'grossMargins': 0.45712003,\n",
       " 'operatingCashflow': 2743000064,\n",
       " 'revenueGrowth': 0.993,\n",
       " 'operatingMargins': 0.19018000000000002,\n",
       " 'ebitda': 2900999936,\n",
       " 'targetLowPrice': 17,\n",
       " 'recommendationKey': 'buy',\n",
       " 'grossProfits': 4347000000,\n",
       " 'freeCashflow': 1889250048,\n",
       " 'targetMedianPrice': 108.5,\n",
       " 'currentPrice': 106.48,\n",
       " 'earningsGrowth': 3.448,\n",
       " 'currentRatio': 2.7030000000000003,\n",
       " 'returnOnAssets': 0.18358000000000002,\n",
       " 'numberOfAnalystOpinions': 34,\n",
       " 'targetMeanPrice': 104.79,\n",
       " 'debtToEquity': 9.299,\n",
       " 'returnOnEquity': 0.66268,\n",
       " 'targetHighPrice': 169.7,\n",
       " 'totalCash': 3792999936,\n",
       " 'totalDebt': 657000000,\n",
       " 'totalRevenue': 13340000256,\n",
       " 'totalCashPerShare': 3.127,\n",
       " 'financialCurrency': 'USD',\n",
       " 'revenuePerShare': 11.071,\n",
       " 'quickRatio': 2.012,\n",
       " 'recommendationMean': 2.3,\n",
       " 'exchange': 'NMS',\n",
       " 'shortName': 'Advanced Micro Devices, Inc.',\n",
       " 'longName': 'Advanced Micro Devices, Inc.',\n",
       " 'exchangeTimezoneName': 'America/New_York',\n",
       " 'exchangeTimezoneShortName': 'EDT',\n",
       " 'isEsgPopulated': False,\n",
       " 'gmtOffSetMilliseconds': '-14400000',\n",
       " 'quoteType': 'EQUITY',\n",
       " 'symbol': 'AMD',\n",
       " 'messageBoardId': 'finmb_168864',\n",
       " 'market': 'us_market',\n",
       " 'annualHoldingsTurnover': None,\n",
       " 'enterpriseToRevenue': 9.547,\n",
       " 'beta3Year': None,\n",
       " 'enterpriseToEbitda': 43.9,\n",
       " '52WeekChange': 0.30226362,\n",
       " 'morningStarRiskRating': None,\n",
       " 'forwardEps': 2.71,\n",
       " 'revenueQuarterlyGrowth': None,\n",
       " 'sharesOutstanding': 1212969984,\n",
       " 'fundInceptionDate': None,\n",
       " 'annualReportExpenseRatio': None,\n",
       " 'totalAssets': None,\n",
       " 'bookValue': 5.824,\n",
       " 'sharesShort': 86903996,\n",
       " 'sharesPercentSharesOut': 0.0716,\n",
       " 'fundFamily': None,\n",
       " 'lastFiscalYearEnd': 1608940800,\n",
       " 'heldPercentInstitutions': 0.7083,\n",
       " 'netIncomeToCommon': 3436000000,\n",
       " 'trailingEps': 2.8369999999999997,\n",
       " 'lastDividendValue': None,\n",
       " 'SandP52WeekChange': 0.3112104,\n",
       " 'priceToBook': 18.282969,\n",
       " 'heldPercentInsiders': 0.0052300002,\n",
       " 'nextFiscalYearEnd': 1672012800,\n",
       " 'yield': None,\n",
       " 'mostRecentQuarter': 1624665600,\n",
       " 'shortRatio': 2.07,\n",
       " 'sharesShortPreviousMonthDate': 1623715200,\n",
       " 'floatShares': 1206306103,\n",
       " 'beta': 2.012372,\n",
       " 'enterpriseValue': 127354806272,\n",
       " 'priceHint': 2,\n",
       " 'threeYearAverageReturn': None,\n",
       " 'lastSplitDate': 966902400,\n",
       " 'lastSplitFactor': '2:1',\n",
       " 'legalType': None,\n",
       " 'lastDividendDate': None,\n",
       " 'morningStarOverallRating': None,\n",
       " 'earningsQuarterlyGrowth': 3.5220000000000002,\n",
       " 'priceToSalesTrailing12Months': 9.681937,\n",
       " 'dateShortInterest': 1626307200,\n",
       " 'pegRatio': 1.35,\n",
       " 'ytdReturn': None,\n",
       " 'forwardPE': 39.291515,\n",
       " 'lastCapGain': None,\n",
       " 'shortPercentOfFloat': 0.07200000000000001,\n",
       " 'sharesShortPriorMonth': 86883692,\n",
       " 'impliedSharesOutstanding': None,\n",
       " 'category': None,\n",
       " 'fiveYearAverageReturn': None,\n",
       " 'previousClose': 107.58,\n",
       " 'regularMarketOpen': 107.895,\n",
       " 'twoHundredDayAverage': 85.0781,\n",
       " 'trailingAnnualDividendYield': None,\n",
       " 'payoutRatio': 0,\n",
       " 'volume24Hr': None,\n",
       " 'regularMarketDayHigh': 109.16,\n",
       " 'navPrice': None,\n",
       " 'averageDailyVolume10Day': 149346216,\n",
       " 'regularMarketPreviousClose': 107.58,\n",
       " 'fiftyDayAverage': 94.48912,\n",
       " 'trailingAnnualDividendRate': None,\n",
       " 'open': 107.895,\n",
       " 'toCurrency': None,\n",
       " 'averageVolume10days': 149346216,\n",
       " 'expireDate': None,\n",
       " 'algorithm': None,\n",
       " 'dividendRate': None,\n",
       " 'exDividendDate': 798940800,\n",
       " 'circulatingSupply': None,\n",
       " 'startDate': None,\n",
       " 'regularMarketDayLow': 104.37,\n",
       " 'currency': 'USD',\n",
       " 'trailingPE': 37.532608,\n",
       " 'regularMarketVolume': 113012297,\n",
       " 'lastMarket': None,\n",
       " 'maxSupply': None,\n",
       " 'openInterest': None,\n",
       " 'marketCap': 129157046272,\n",
       " 'volumeAllCurrencies': None,\n",
       " 'strikePrice': None,\n",
       " 'averageVolume': 54771439,\n",
       " 'dayLow': 104.37,\n",
       " 'ask': 0,\n",
       " 'askSize': 800,\n",
       " 'volume': 113012297,\n",
       " 'fiftyTwoWeekHigh': 122.49,\n",
       " 'fromCurrency': None,\n",
       " 'fiveYearAvgDividendYield': None,\n",
       " 'fiftyTwoWeekLow': 72.5,\n",
       " 'bid': 0,\n",
       " 'tradeable': False,\n",
       " 'dividendYield': None,\n",
       " 'bidSize': 800,\n",
       " 'dayHigh': 109.16,\n",
       " 'regularMarketPrice': 106.48,\n",
       " 'logo_url': 'https://logo.clearbit.com/amd.com'}"
      ]
     },
     "execution_count": 225,
     "metadata": {},
     "output_type": "execute_result"
    }
   ],
   "source": [
    "amd_info = amd.info\n",
    "amd_info"
   ]
  },
  {
   "cell_type": "code",
   "execution_count": 226,
   "metadata": {},
   "outputs": [
    {
     "data": {
      "text/plain": [
       "'United States'"
      ]
     },
     "execution_count": 226,
     "metadata": {},
     "output_type": "execute_result"
    }
   ],
   "source": [
    "amd_info['country']"
   ]
  },
  {
   "cell_type": "code",
   "execution_count": 227,
   "metadata": {},
   "outputs": [
    {
     "data": {
      "text/plain": [
       "'Technology'"
      ]
     },
     "execution_count": 227,
     "metadata": {},
     "output_type": "execute_result"
    }
   ],
   "source": [
    "amd_info['sector']"
   ]
  },
  {
   "cell_type": "markdown",
   "metadata": {},
   "source": [
    "<b>Question 3</b> Obtain stock data for AMD using the `history` function, set the `period` to max. Find the `Volume` traded on the first day (first row).\n"
   ]
  },
  {
   "cell_type": "code",
   "execution_count": null,
   "metadata": {},
   "outputs": [],
   "source": [
    "amd_share_price_data = amd.history(period='max')\n",
    "amd_share_price_data.head()"
   ]
  },
  {
   "cell_type": "code",
   "execution_count": 230,
   "metadata": {},
   "outputs": [],
   "source": [
    "amd_share_price_data.reset_index(inplace=True)"
   ]
  },
  {
   "cell_type": "code",
   "execution_count": 231,
   "metadata": {},
   "outputs": [
    {
     "data": {
      "text/html": [
       "<div>\n",
       "<style scoped>\n",
       "    .dataframe tbody tr th:only-of-type {\n",
       "        vertical-align: middle;\n",
       "    }\n",
       "\n",
       "    .dataframe tbody tr th {\n",
       "        vertical-align: top;\n",
       "    }\n",
       "\n",
       "    .dataframe thead th {\n",
       "        text-align: right;\n",
       "    }\n",
       "</style>\n",
       "<table border=\"1\" class=\"dataframe\">\n",
       "  <thead>\n",
       "    <tr style=\"text-align: right;\">\n",
       "      <th></th>\n",
       "      <th>Date</th>\n",
       "      <th>Open</th>\n",
       "      <th>High</th>\n",
       "      <th>Low</th>\n",
       "      <th>Close</th>\n",
       "      <th>Volume</th>\n",
       "      <th>Dividends</th>\n",
       "      <th>Stock Splits</th>\n",
       "    </tr>\n",
       "  </thead>\n",
       "  <tbody>\n",
       "    <tr>\n",
       "      <th>0</th>\n",
       "      <td>1980-03-17</td>\n",
       "      <td>0.0</td>\n",
       "      <td>3.302083</td>\n",
       "      <td>3.125000</td>\n",
       "      <td>3.145833</td>\n",
       "      <td>219600</td>\n",
       "      <td>0</td>\n",
       "      <td>0.0</td>\n",
       "    </tr>\n",
       "    <tr>\n",
       "      <th>1</th>\n",
       "      <td>1980-03-18</td>\n",
       "      <td>0.0</td>\n",
       "      <td>3.125000</td>\n",
       "      <td>2.937500</td>\n",
       "      <td>3.031250</td>\n",
       "      <td>727200</td>\n",
       "      <td>0</td>\n",
       "      <td>0.0</td>\n",
       "    </tr>\n",
       "    <tr>\n",
       "      <th>2</th>\n",
       "      <td>1980-03-19</td>\n",
       "      <td>0.0</td>\n",
       "      <td>3.083333</td>\n",
       "      <td>3.020833</td>\n",
       "      <td>3.041667</td>\n",
       "      <td>295200</td>\n",
       "      <td>0</td>\n",
       "      <td>0.0</td>\n",
       "    </tr>\n",
       "    <tr>\n",
       "      <th>3</th>\n",
       "      <td>1980-03-20</td>\n",
       "      <td>0.0</td>\n",
       "      <td>3.062500</td>\n",
       "      <td>3.010417</td>\n",
       "      <td>3.010417</td>\n",
       "      <td>159600</td>\n",
       "      <td>0</td>\n",
       "      <td>0.0</td>\n",
       "    </tr>\n",
       "    <tr>\n",
       "      <th>4</th>\n",
       "      <td>1980-03-21</td>\n",
       "      <td>0.0</td>\n",
       "      <td>3.020833</td>\n",
       "      <td>2.906250</td>\n",
       "      <td>2.916667</td>\n",
       "      <td>130800</td>\n",
       "      <td>0</td>\n",
       "      <td>0.0</td>\n",
       "    </tr>\n",
       "  </tbody>\n",
       "</table>\n",
       "</div>"
      ],
      "text/plain": [
       "        Date  Open      High       Low     Close  Volume  Dividends  \\\n",
       "0 1980-03-17   0.0  3.302083  3.125000  3.145833  219600          0   \n",
       "1 1980-03-18   0.0  3.125000  2.937500  3.031250  727200          0   \n",
       "2 1980-03-19   0.0  3.083333  3.020833  3.041667  295200          0   \n",
       "3 1980-03-20   0.0  3.062500  3.010417  3.010417  159600          0   \n",
       "4 1980-03-21   0.0  3.020833  2.906250  2.916667  130800          0   \n",
       "\n",
       "   Stock Splits  \n",
       "0           0.0  \n",
       "1           0.0  \n",
       "2           0.0  \n",
       "3           0.0  \n",
       "4           0.0  "
      ]
     },
     "execution_count": 231,
     "metadata": {},
     "output_type": "execute_result"
    }
   ],
   "source": [
    "amd_share_price_data.head()"
   ]
  },
  {
   "cell_type": "code",
   "execution_count": 233,
   "metadata": {},
   "outputs": [
    {
     "data": {
      "text/plain": [
       "219600"
      ]
     },
     "execution_count": 233,
     "metadata": {},
     "output_type": "execute_result"
    }
   ],
   "source": [
    "amd_share_price_data.Volume[0]"
   ]
  },
  {
   "cell_type": "markdown",
   "metadata": {},
   "source": [
    "# Extracting data using web scraping"
   ]
  },
  {
   "cell_type": "markdown",
   "metadata": {},
   "source": [
    "First we must use the `request` library to downlaod the webpage, and extract the text. We will extract Netflix stock data <https://cf-courses-data.s3.us.cloud-object-storage.appdomain.cloud/IBMDeveloperSkillsNetwork-PY0220EN-SkillsNetwork/labs/project/netflix_data_webpage.html>.\n"
   ]
  },
  {
   "cell_type": "code",
   "execution_count": 240,
   "metadata": {},
   "outputs": [],
   "source": [
    "import requests\n",
    "from bs4 import BeautifulSoup\n",
    "import pandas as pd"
   ]
  },
  {
   "cell_type": "code",
   "execution_count": 241,
   "metadata": {},
   "outputs": [],
   "source": [
    "url = \"https://cf-courses-data.s3.us.cloud-object-storage.appdomain.cloud/IBMDeveloperSkillsNetwork-PY0220EN-SkillsNetwork/labs/project/netflix_data_webpage.html\""
   ]
  },
  {
   "cell_type": "markdown",
   "metadata": {},
   "source": [
    "Next we must parse the text into html using `beautiful_soup`"
   ]
  },
  {
   "cell_type": "code",
   "execution_count": 243,
   "metadata": {},
   "outputs": [],
   "source": [
    "data = requests.get(url).text\n",
    "soup = BeautifulSoup(data, 'html5lib')"
   ]
  },
  {
   "cell_type": "code",
   "execution_count": 252,
   "metadata": {},
   "outputs": [
    {
     "data": {
      "text/plain": [
       "[<tr class=\"BdT Bdc($seperatorColor) Ta(end) Fz(s) Whs(nw)\" data-reactid=\"51\"><td class=\"Py(10px) Ta(start) Pend(10px)\" data-reactid=\"52\"><span data-reactid=\"53\">Jun 01, 2021</span></td><td class=\"Py(10px) Pstart(10px)\" data-reactid=\"54\"><span data-reactid=\"55\">504.01</span></td><td class=\"Py(10px) Pstart(10px)\" data-reactid=\"56\"><span data-reactid=\"57\">536.13</span></td><td class=\"Py(10px) Pstart(10px)\" data-reactid=\"58\"><span data-reactid=\"59\">482.14</span></td><td class=\"Py(10px) Pstart(10px)\" data-reactid=\"60\"><span data-reactid=\"61\">528.21</span></td><td class=\"Py(10px) Pstart(10px)\" data-reactid=\"62\"><span data-reactid=\"63\">528.21</span></td><td class=\"Py(10px) Pstart(10px)\" data-reactid=\"64\"><span data-reactid=\"65\">78,560,600</span></td></tr>,\n",
       " <tr class=\"BdT Bdc($seperatorColor) Ta(end) Fz(s) Whs(nw)\" data-reactid=\"66\"><td class=\"Py(10px) Ta(start) Pend(10px)\" data-reactid=\"67\"><span data-reactid=\"68\">May 01, 2021</span></td><td class=\"Py(10px) Pstart(10px)\" data-reactid=\"69\"><span data-reactid=\"70\">512.65</span></td><td class=\"Py(10px) Pstart(10px)\" data-reactid=\"71\"><span data-reactid=\"72\">518.95</span></td><td class=\"Py(10px) Pstart(10px)\" data-reactid=\"73\"><span data-reactid=\"74\">478.54</span></td><td class=\"Py(10px) Pstart(10px)\" data-reactid=\"75\"><span data-reactid=\"76\">502.81</span></td><td class=\"Py(10px) Pstart(10px)\" data-reactid=\"77\"><span data-reactid=\"78\">502.81</span></td><td class=\"Py(10px) Pstart(10px)\" data-reactid=\"79\"><span data-reactid=\"80\">66,927,600</span></td></tr>,\n",
       " <tr class=\"BdT Bdc($seperatorColor) Ta(end) Fz(s) Whs(nw)\" data-reactid=\"81\"><td class=\"Py(10px) Ta(start) Pend(10px)\" data-reactid=\"82\"><span data-reactid=\"83\">Apr 01, 2021</span></td><td class=\"Py(10px) Pstart(10px)\" data-reactid=\"84\"><span data-reactid=\"85\">529.93</span></td><td class=\"Py(10px) Pstart(10px)\" data-reactid=\"86\"><span data-reactid=\"87\">563.56</span></td><td class=\"Py(10px) Pstart(10px)\" data-reactid=\"88\"><span data-reactid=\"89\">499.00</span></td><td class=\"Py(10px) Pstart(10px)\" data-reactid=\"90\"><span data-reactid=\"91\">513.47</span></td><td class=\"Py(10px) Pstart(10px)\" data-reactid=\"92\"><span data-reactid=\"93\">513.47</span></td><td class=\"Py(10px) Pstart(10px)\" data-reactid=\"94\"><span data-reactid=\"95\">111,573,300</span></td></tr>,\n",
       " <tr class=\"BdT Bdc($seperatorColor) Ta(end) Fz(s) Whs(nw)\" data-reactid=\"96\"><td class=\"Py(10px) Ta(start) Pend(10px)\" data-reactid=\"97\"><span data-reactid=\"98\">Mar 01, 2021</span></td><td class=\"Py(10px) Pstart(10px)\" data-reactid=\"99\"><span data-reactid=\"100\">545.57</span></td><td class=\"Py(10px) Pstart(10px)\" data-reactid=\"101\"><span data-reactid=\"102\">556.99</span></td><td class=\"Py(10px) Pstart(10px)\" data-reactid=\"103\"><span data-reactid=\"104\">492.85</span></td><td class=\"Py(10px) Pstart(10px)\" data-reactid=\"105\"><span data-reactid=\"106\">521.66</span></td><td class=\"Py(10px) Pstart(10px)\" data-reactid=\"107\"><span data-reactid=\"108\">521.66</span></td><td class=\"Py(10px) Pstart(10px)\" data-reactid=\"109\"><span data-reactid=\"110\">90,183,900</span></td></tr>,\n",
       " <tr class=\"BdT Bdc($seperatorColor) Ta(end) Fz(s) Whs(nw)\" data-reactid=\"111\"><td class=\"Py(10px) Ta(start) Pend(10px)\" data-reactid=\"112\"><span data-reactid=\"113\">Feb 01, 2021</span></td><td class=\"Py(10px) Pstart(10px)\" data-reactid=\"114\"><span data-reactid=\"115\">536.79</span></td><td class=\"Py(10px) Pstart(10px)\" data-reactid=\"116\"><span data-reactid=\"117\">566.65</span></td><td class=\"Py(10px) Pstart(10px)\" data-reactid=\"118\"><span data-reactid=\"119\">518.28</span></td><td class=\"Py(10px) Pstart(10px)\" data-reactid=\"120\"><span data-reactid=\"121\">538.85</span></td><td class=\"Py(10px) Pstart(10px)\" data-reactid=\"122\"><span data-reactid=\"123\">538.85</span></td><td class=\"Py(10px) Pstart(10px)\" data-reactid=\"124\"><span data-reactid=\"125\">61,902,300</span></td></tr>,\n",
       " <tr class=\"BdT Bdc($seperatorColor) Ta(end) Fz(s) Whs(nw)\" data-reactid=\"126\"><td class=\"Py(10px) Ta(start) Pend(10px)\" data-reactid=\"127\"><span data-reactid=\"128\">Jan 01, 2021</span></td><td class=\"Py(10px) Pstart(10px)\" data-reactid=\"129\"><span data-reactid=\"130\">539.00</span></td><td class=\"Py(10px) Pstart(10px)\" data-reactid=\"131\"><span data-reactid=\"132\">593.29</span></td><td class=\"Py(10px) Pstart(10px)\" data-reactid=\"133\"><span data-reactid=\"134\">485.67</span></td><td class=\"Py(10px) Pstart(10px)\" data-reactid=\"135\"><span data-reactid=\"136\">532.39</span></td><td class=\"Py(10px) Pstart(10px)\" data-reactid=\"137\"><span data-reactid=\"138\">532.39</span></td><td class=\"Py(10px) Pstart(10px)\" data-reactid=\"139\"><span data-reactid=\"140\">139,988,600</span></td></tr>,\n",
       " <tr class=\"BdT Bdc($seperatorColor) Ta(end) Fz(s) Whs(nw)\" data-reactid=\"141\"><td class=\"Py(10px) Ta(start) Pend(10px)\" data-reactid=\"142\"><span data-reactid=\"143\">Dec 01, 2020</span></td><td class=\"Py(10px) Pstart(10px)\" data-reactid=\"144\"><span data-reactid=\"145\">492.34</span></td><td class=\"Py(10px) Pstart(10px)\" data-reactid=\"146\"><span data-reactid=\"147\">545.50</span></td><td class=\"Py(10px) Pstart(10px)\" data-reactid=\"148\"><span data-reactid=\"149\">491.29</span></td><td class=\"Py(10px) Pstart(10px)\" data-reactid=\"150\"><span data-reactid=\"151\">540.73</span></td><td class=\"Py(10px) Pstart(10px)\" data-reactid=\"152\"><span data-reactid=\"153\">540.73</span></td><td class=\"Py(10px) Pstart(10px)\" data-reactid=\"154\"><span data-reactid=\"155\">77,564,100</span></td></tr>,\n",
       " <tr class=\"BdT Bdc($seperatorColor) Ta(end) Fz(s) Whs(nw)\" data-reactid=\"156\"><td class=\"Py(10px) Ta(start) Pend(10px)\" data-reactid=\"157\"><span data-reactid=\"158\">Nov 01, 2020</span></td><td class=\"Py(10px) Pstart(10px)\" data-reactid=\"159\"><span data-reactid=\"160\">478.87</span></td><td class=\"Py(10px) Pstart(10px)\" data-reactid=\"161\"><span data-reactid=\"162\">518.73</span></td><td class=\"Py(10px) Pstart(10px)\" data-reactid=\"163\"><span data-reactid=\"164\">463.41</span></td><td class=\"Py(10px) Pstart(10px)\" data-reactid=\"165\"><span data-reactid=\"166\">490.70</span></td><td class=\"Py(10px) Pstart(10px)\" data-reactid=\"167\"><span data-reactid=\"168\">490.70</span></td><td class=\"Py(10px) Pstart(10px)\" data-reactid=\"169\"><span data-reactid=\"170\">91,788,900</span></td></tr>,\n",
       " <tr class=\"BdT Bdc($seperatorColor) Ta(end) Fz(s) Whs(nw)\" data-reactid=\"171\"><td class=\"Py(10px) Ta(start) Pend(10px)\" data-reactid=\"172\"><span data-reactid=\"173\">Oct 01, 2020</span></td><td class=\"Py(10px) Pstart(10px)\" data-reactid=\"174\"><span data-reactid=\"175\">506.03</span></td><td class=\"Py(10px) Pstart(10px)\" data-reactid=\"176\"><span data-reactid=\"177\">572.49</span></td><td class=\"Py(10px) Pstart(10px)\" data-reactid=\"178\"><span data-reactid=\"179\">472.21</span></td><td class=\"Py(10px) Pstart(10px)\" data-reactid=\"180\"><span data-reactid=\"181\">475.74</span></td><td class=\"Py(10px) Pstart(10px)\" data-reactid=\"182\"><span data-reactid=\"183\">475.74</span></td><td class=\"Py(10px) Pstart(10px)\" data-reactid=\"184\"><span data-reactid=\"185\">154,302,400</span></td></tr>,\n",
       " <tr class=\"BdT Bdc($seperatorColor) Ta(end) Fz(s) Whs(nw)\" data-reactid=\"186\"><td class=\"Py(10px) Ta(start) Pend(10px)\" data-reactid=\"187\"><span data-reactid=\"188\">Sep 01, 2020</span></td><td class=\"Py(10px) Pstart(10px)\" data-reactid=\"189\"><span data-reactid=\"190\">532.60</span></td><td class=\"Py(10px) Pstart(10px)\" data-reactid=\"191\"><span data-reactid=\"192\">557.39</span></td><td class=\"Py(10px) Pstart(10px)\" data-reactid=\"193\"><span data-reactid=\"194\">458.60</span></td><td class=\"Py(10px) Pstart(10px)\" data-reactid=\"195\"><span data-reactid=\"196\">500.03</span></td><td class=\"Py(10px) Pstart(10px)\" data-reactid=\"197\"><span data-reactid=\"198\">500.03</span></td><td class=\"Py(10px) Pstart(10px)\" data-reactid=\"199\"><span data-reactid=\"200\">118,796,900</span></td></tr>,\n",
       " <tr class=\"BdT Bdc($seperatorColor) Ta(end) Fz(s) Whs(nw)\" data-reactid=\"201\"><td class=\"Py(10px) Ta(start) Pend(10px)\" data-reactid=\"202\"><span data-reactid=\"203\">Aug 01, 2020</span></td><td class=\"Py(10px) Pstart(10px)\" data-reactid=\"204\"><span data-reactid=\"205\">490.86</span></td><td class=\"Py(10px) Pstart(10px)\" data-reactid=\"206\"><span data-reactid=\"207\">549.04</span></td><td class=\"Py(10px) Pstart(10px)\" data-reactid=\"208\"><span data-reactid=\"209\">466.55</span></td><td class=\"Py(10px) Pstart(10px)\" data-reactid=\"210\"><span data-reactid=\"211\">529.56</span></td><td class=\"Py(10px) Pstart(10px)\" data-reactid=\"212\"><span data-reactid=\"213\">529.56</span></td><td class=\"Py(10px) Pstart(10px)\" data-reactid=\"214\"><span data-reactid=\"215\">116,261,900</span></td></tr>,\n",
       " <tr class=\"BdT Bdc($seperatorColor) Ta(end) Fz(s) Whs(nw)\" data-reactid=\"216\"><td class=\"Py(10px) Ta(start) Pend(10px)\" data-reactid=\"217\"><span data-reactid=\"218\">Jul 01, 2020</span></td><td class=\"Py(10px) Pstart(10px)\" data-reactid=\"219\"><span data-reactid=\"220\">454.00</span></td><td class=\"Py(10px) Pstart(10px)\" data-reactid=\"221\"><span data-reactid=\"222\">575.37</span></td><td class=\"Py(10px) Pstart(10px)\" data-reactid=\"223\"><span data-reactid=\"224\">454.00</span></td><td class=\"Py(10px) Pstart(10px)\" data-reactid=\"225\"><span data-reactid=\"226\">488.88</span></td><td class=\"Py(10px) Pstart(10px)\" data-reactid=\"227\"><span data-reactid=\"228\">488.88</span></td><td class=\"Py(10px) Pstart(10px)\" data-reactid=\"229\"><span data-reactid=\"230\">232,206,300</span></td></tr>,\n",
       " <tr class=\"BdT Bdc($seperatorColor) Ta(end) Fz(s) Whs(nw)\" data-reactid=\"231\"><td class=\"Py(10px) Ta(start) Pend(10px)\" data-reactid=\"232\"><span data-reactid=\"233\">Jun 01, 2020</span></td><td class=\"Py(10px) Pstart(10px)\" data-reactid=\"234\"><span data-reactid=\"235\">418.83</span></td><td class=\"Py(10px) Pstart(10px)\" data-reactid=\"236\"><span data-reactid=\"237\">474.01</span></td><td class=\"Py(10px) Pstart(10px)\" data-reactid=\"238\"><span data-reactid=\"239\">404.25</span></td><td class=\"Py(10px) Pstart(10px)\" data-reactid=\"240\"><span data-reactid=\"241\">455.04</span></td><td class=\"Py(10px) Pstart(10px)\" data-reactid=\"242\"><span data-reactid=\"243\">455.04</span></td><td class=\"Py(10px) Pstart(10px)\" data-reactid=\"244\"><span data-reactid=\"245\">117,279,900</span></td></tr>,\n",
       " <tr class=\"BdT Bdc($seperatorColor) Ta(end) Fz(s) Whs(nw)\" data-reactid=\"246\"><td class=\"Py(10px) Ta(start) Pend(10px)\" data-reactid=\"247\"><span data-reactid=\"248\">May 01, 2020</span></td><td class=\"Py(10px) Pstart(10px)\" data-reactid=\"249\"><span data-reactid=\"250\">415.10</span></td><td class=\"Py(10px) Pstart(10px)\" data-reactid=\"251\"><span data-reactid=\"252\">458.97</span></td><td class=\"Py(10px) Pstart(10px)\" data-reactid=\"253\"><span data-reactid=\"254\">397.86</span></td><td class=\"Py(10px) Pstart(10px)\" data-reactid=\"255\"><span data-reactid=\"256\">419.73</span></td><td class=\"Py(10px) Pstart(10px)\" data-reactid=\"257\"><span data-reactid=\"258\">419.73</span></td><td class=\"Py(10px) Pstart(10px)\" data-reactid=\"259\"><span data-reactid=\"260\">135,055,800</span></td></tr>,\n",
       " <tr class=\"BdT Bdc($seperatorColor) Ta(end) Fz(s) Whs(nw)\" data-reactid=\"261\"><td class=\"Py(10px) Ta(start) Pend(10px)\" data-reactid=\"262\"><span data-reactid=\"263\">Apr 01, 2020</span></td><td class=\"Py(10px) Pstart(10px)\" data-reactid=\"264\"><span data-reactid=\"265\">376.05</span></td><td class=\"Py(10px) Pstart(10px)\" data-reactid=\"266\"><span data-reactid=\"267\">449.52</span></td><td class=\"Py(10px) Pstart(10px)\" data-reactid=\"268\"><span data-reactid=\"269\">357.51</span></td><td class=\"Py(10px) Pstart(10px)\" data-reactid=\"270\"><span data-reactid=\"271\">419.85</span></td><td class=\"Py(10px) Pstart(10px)\" data-reactid=\"272\"><span data-reactid=\"273\">419.85</span></td><td class=\"Py(10px) Pstart(10px)\" data-reactid=\"274\"><span data-reactid=\"275\">225,111,600</span></td></tr>,\n",
       " <tr class=\"BdT Bdc($seperatorColor) Ta(end) Fz(s) Whs(nw)\" data-reactid=\"276\"><td class=\"Py(10px) Ta(start) Pend(10px)\" data-reactid=\"277\"><span data-reactid=\"278\">Mar 01, 2020</span></td><td class=\"Py(10px) Pstart(10px)\" data-reactid=\"279\"><span data-reactid=\"280\">373.11</span></td><td class=\"Py(10px) Pstart(10px)\" data-reactid=\"281\"><span data-reactid=\"282\">393.52</span></td><td class=\"Py(10px) Pstart(10px)\" data-reactid=\"283\"><span data-reactid=\"284\">290.25</span></td><td class=\"Py(10px) Pstart(10px)\" data-reactid=\"285\"><span data-reactid=\"286\">375.50</span></td><td class=\"Py(10px) Pstart(10px)\" data-reactid=\"287\"><span data-reactid=\"288\">375.50</span></td><td class=\"Py(10px) Pstart(10px)\" data-reactid=\"289\"><span data-reactid=\"290\">201,979,100</span></td></tr>,\n",
       " <tr class=\"BdT Bdc($seperatorColor) Ta(end) Fz(s) Whs(nw)\" data-reactid=\"291\"><td class=\"Py(10px) Ta(start) Pend(10px)\" data-reactid=\"292\"><span data-reactid=\"293\">Feb 01, 2020</span></td><td class=\"Py(10px) Pstart(10px)\" data-reactid=\"294\"><span data-reactid=\"295\">347.24</span></td><td class=\"Py(10px) Pstart(10px)\" data-reactid=\"296\"><span data-reactid=\"297\">392.95</span></td><td class=\"Py(10px) Pstart(10px)\" data-reactid=\"298\"><span data-reactid=\"299\">346.28</span></td><td class=\"Py(10px) Pstart(10px)\" data-reactid=\"300\"><span data-reactid=\"301\">369.03</span></td><td class=\"Py(10px) Pstart(10px)\" data-reactid=\"302\"><span data-reactid=\"303\">369.03</span></td><td class=\"Py(10px) Pstart(10px)\" data-reactid=\"304\"><span data-reactid=\"305\">114,056,000</span></td></tr>,\n",
       " <tr class=\"BdT Bdc($seperatorColor) Ta(end) Fz(s) Whs(nw)\" data-reactid=\"306\"><td class=\"Py(10px) Ta(start) Pend(10px)\" data-reactid=\"307\"><span data-reactid=\"308\">Jan 01, 2020</span></td><td class=\"Py(10px) Pstart(10px)\" data-reactid=\"309\"><span data-reactid=\"310\">326.10</span></td><td class=\"Py(10px) Pstart(10px)\" data-reactid=\"311\"><span data-reactid=\"312\">359.85</span></td><td class=\"Py(10px) Pstart(10px)\" data-reactid=\"313\"><span data-reactid=\"314\">321.20</span></td><td class=\"Py(10px) Pstart(10px)\" data-reactid=\"315\"><span data-reactid=\"316\">345.09</span></td><td class=\"Py(10px) Pstart(10px)\" data-reactid=\"317\"><span data-reactid=\"318\">345.09</span></td><td class=\"Py(10px) Pstart(10px)\" data-reactid=\"319\"><span data-reactid=\"320\">169,874,000</span></td></tr>,\n",
       " <tr class=\"BdT Bdc($seperatorColor) Ta(end) Fz(s) Whs(nw)\" data-reactid=\"321\"><td class=\"Py(10px) Ta(start) Pend(10px)\" data-reactid=\"322\"><span data-reactid=\"323\">Dec 01, 2019</span></td><td class=\"Py(10px) Pstart(10px)\" data-reactid=\"324\"><span data-reactid=\"325\">314.39</span></td><td class=\"Py(10px) Pstart(10px)\" data-reactid=\"326\"><span data-reactid=\"327\">338.00</span></td><td class=\"Py(10px) Pstart(10px)\" data-reactid=\"328\"><span data-reactid=\"329\">292.02</span></td><td class=\"Py(10px) Pstart(10px)\" data-reactid=\"330\"><span data-reactid=\"331\">323.57</span></td><td class=\"Py(10px) Pstart(10px)\" data-reactid=\"332\"><span data-reactid=\"333\">323.57</span></td><td class=\"Py(10px) Pstart(10px)\" data-reactid=\"334\"><span data-reactid=\"335\">124,723,600</span></td></tr>,\n",
       " <tr class=\"BdT Bdc($seperatorColor) Ta(end) Fz(s) Whs(nw)\" data-reactid=\"336\"><td class=\"Py(10px) Ta(start) Pend(10px)\" data-reactid=\"337\"><span data-reactid=\"338\">Nov 01, 2019</span></td><td class=\"Py(10px) Pstart(10px)\" data-reactid=\"339\"><span data-reactid=\"340\">288.70</span></td><td class=\"Py(10px) Pstart(10px)\" data-reactid=\"341\"><span data-reactid=\"342\">316.82</span></td><td class=\"Py(10px) Pstart(10px)\" data-reactid=\"343\"><span data-reactid=\"344\">281.14</span></td><td class=\"Py(10px) Pstart(10px)\" data-reactid=\"345\"><span data-reactid=\"346\">314.66</span></td><td class=\"Py(10px) Pstart(10px)\" data-reactid=\"347\"><span data-reactid=\"348\">314.66</span></td><td class=\"Py(10px) Pstart(10px)\" data-reactid=\"349\"><span data-reactid=\"350\">113,645,900</span></td></tr>,\n",
       " <tr class=\"BdT Bdc($seperatorColor) Ta(end) Fz(s) Whs(nw)\" data-reactid=\"351\"><td class=\"Py(10px) Ta(start) Pend(10px)\" data-reactid=\"352\"><span data-reactid=\"353\">Oct 01, 2019</span></td><td class=\"Py(10px) Pstart(10px)\" data-reactid=\"354\"><span data-reactid=\"355\">267.35</span></td><td class=\"Py(10px) Pstart(10px)\" data-reactid=\"356\"><span data-reactid=\"357\">308.75</span></td><td class=\"Py(10px) Pstart(10px)\" data-reactid=\"358\"><span data-reactid=\"359\">257.01</span></td><td class=\"Py(10px) Pstart(10px)\" data-reactid=\"360\"><span data-reactid=\"361\">287.41</span></td><td class=\"Py(10px) Pstart(10px)\" data-reactid=\"362\"><span data-reactid=\"363\">287.41</span></td><td class=\"Py(10px) Pstart(10px)\" data-reactid=\"364\"><span data-reactid=\"365\">231,556,400</span></td></tr>,\n",
       " <tr class=\"BdT Bdc($seperatorColor) Ta(end) Fz(s) Whs(nw)\" data-reactid=\"366\"><td class=\"Py(10px) Ta(start) Pend(10px)\" data-reactid=\"367\"><span data-reactid=\"368\">Sep 01, 2019</span></td><td class=\"Py(10px) Pstart(10px)\" data-reactid=\"369\"><span data-reactid=\"370\">290.82</span></td><td class=\"Py(10px) Pstart(10px)\" data-reactid=\"371\"><span data-reactid=\"372\">301.55</span></td><td class=\"Py(10px) Pstart(10px)\" data-reactid=\"373\"><span data-reactid=\"374\">252.28</span></td><td class=\"Py(10px) Pstart(10px)\" data-reactid=\"375\"><span data-reactid=\"376\">267.62</span></td><td class=\"Py(10px) Pstart(10px)\" data-reactid=\"377\"><span data-reactid=\"378\">267.62</span></td><td class=\"Py(10px) Pstart(10px)\" data-reactid=\"379\"><span data-reactid=\"380\">175,411,300</span></td></tr>,\n",
       " <tr class=\"BdT Bdc($seperatorColor) Ta(end) Fz(s) Whs(nw)\" data-reactid=\"381\"><td class=\"Py(10px) Ta(start) Pend(10px)\" data-reactid=\"382\"><span data-reactid=\"383\">Aug 01, 2019</span></td><td class=\"Py(10px) Pstart(10px)\" data-reactid=\"384\"><span data-reactid=\"385\">324.25</span></td><td class=\"Py(10px) Pstart(10px)\" data-reactid=\"386\"><span data-reactid=\"387\">328.58</span></td><td class=\"Py(10px) Pstart(10px)\" data-reactid=\"388\"><span data-reactid=\"389\">287.20</span></td><td class=\"Py(10px) Pstart(10px)\" data-reactid=\"390\"><span data-reactid=\"391\">293.75</span></td><td class=\"Py(10px) Pstart(10px)\" data-reactid=\"392\"><span data-reactid=\"393\">293.75</span></td><td class=\"Py(10px) Pstart(10px)\" data-reactid=\"394\"><span data-reactid=\"395\">137,076,700</span></td></tr>,\n",
       " <tr class=\"BdT Bdc($seperatorColor) Ta(end) Fz(s) Whs(nw)\" data-reactid=\"396\"><td class=\"Py(10px) Ta(start) Pend(10px)\" data-reactid=\"397\"><span data-reactid=\"398\">Jul 01, 2019</span></td><td class=\"Py(10px) Pstart(10px)\" data-reactid=\"399\"><span data-reactid=\"400\">373.50</span></td><td class=\"Py(10px) Pstart(10px)\" data-reactid=\"401\"><span data-reactid=\"402\">384.76</span></td><td class=\"Py(10px) Pstart(10px)\" data-reactid=\"403\"><span data-reactid=\"404\">305.81</span></td><td class=\"Py(10px) Pstart(10px)\" data-reactid=\"405\"><span data-reactid=\"406\">322.99</span></td><td class=\"Py(10px) Pstart(10px)\" data-reactid=\"407\"><span data-reactid=\"408\">322.99</span></td><td class=\"Py(10px) Pstart(10px)\" data-reactid=\"409\"><span data-reactid=\"410\">196,652,500</span></td></tr>,\n",
       " <tr class=\"BdT Bdc($seperatorColor) Ta(end) Fz(s) Whs(nw)\" data-reactid=\"411\"><td class=\"Py(10px) Ta(start) Pend(10px)\" data-reactid=\"412\"><span data-reactid=\"413\">Jun 01, 2019</span></td><td class=\"Py(10px) Pstart(10px)\" data-reactid=\"414\"><span data-reactid=\"415\">343.56</span></td><td class=\"Py(10px) Pstart(10px)\" data-reactid=\"416\"><span data-reactid=\"417\">375.00</span></td><td class=\"Py(10px) Pstart(10px)\" data-reactid=\"418\"><span data-reactid=\"419\">332.65</span></td><td class=\"Py(10px) Pstart(10px)\" data-reactid=\"420\"><span data-reactid=\"421\">367.32</span></td><td class=\"Py(10px) Pstart(10px)\" data-reactid=\"422\"><span data-reactid=\"423\">367.32</span></td><td class=\"Py(10px) Pstart(10px)\" data-reactid=\"424\"><span data-reactid=\"425\">111,052,000</span></td></tr>,\n",
       " <tr class=\"BdT Bdc($seperatorColor) Ta(end) Fz(s) Whs(nw)\" data-reactid=\"426\"><td class=\"Py(10px) Ta(start) Pend(10px)\" data-reactid=\"427\"><span data-reactid=\"428\">May 01, 2019</span></td><td class=\"Py(10px) Pstart(10px)\" data-reactid=\"429\"><span data-reactid=\"430\">374.00</span></td><td class=\"Py(10px) Pstart(10px)\" data-reactid=\"431\"><span data-reactid=\"432\">385.99</span></td><td class=\"Py(10px) Pstart(10px)\" data-reactid=\"433\"><span data-reactid=\"434\">341.39</span></td><td class=\"Py(10px) Pstart(10px)\" data-reactid=\"435\"><span data-reactid=\"436\">343.28</span></td><td class=\"Py(10px) Pstart(10px)\" data-reactid=\"437\"><span data-reactid=\"438\">343.28</span></td><td class=\"Py(10px) Pstart(10px)\" data-reactid=\"439\"><span data-reactid=\"440\">125,298,300</span></td></tr>,\n",
       " <tr class=\"BdT Bdc($seperatorColor) Ta(end) Fz(s) Whs(nw)\" data-reactid=\"441\"><td class=\"Py(10px) Ta(start) Pend(10px)\" data-reactid=\"442\"><span data-reactid=\"443\">Apr 01, 2019</span></td><td class=\"Py(10px) Pstart(10px)\" data-reactid=\"444\"><span data-reactid=\"445\">359.00</span></td><td class=\"Py(10px) Pstart(10px)\" data-reactid=\"446\"><span data-reactid=\"447\">384.80</span></td><td class=\"Py(10px) Pstart(10px)\" data-reactid=\"448\"><span data-reactid=\"449\">342.27</span></td><td class=\"Py(10px) Pstart(10px)\" data-reactid=\"450\"><span data-reactid=\"451\">370.54</span></td><td class=\"Py(10px) Pstart(10px)\" data-reactid=\"452\"><span data-reactid=\"453\">370.54</span></td><td class=\"Py(10px) Pstart(10px)\" data-reactid=\"454\"><span data-reactid=\"455\">165,079,400</span></td></tr>,\n",
       " <tr class=\"BdT Bdc($seperatorColor) Ta(end) Fz(s) Whs(nw)\" data-reactid=\"456\"><td class=\"Py(10px) Ta(start) Pend(10px)\" data-reactid=\"457\"><span data-reactid=\"458\">Mar 01, 2019</span></td><td class=\"Py(10px) Pstart(10px)\" data-reactid=\"459\"><span data-reactid=\"460\">362.26</span></td><td class=\"Py(10px) Pstart(10px)\" data-reactid=\"461\"><span data-reactid=\"462\">379.00</span></td><td class=\"Py(10px) Pstart(10px)\" data-reactid=\"463\"><span data-reactid=\"464\">342.47</span></td><td class=\"Py(10px) Pstart(10px)\" data-reactid=\"465\"><span data-reactid=\"466\">356.56</span></td><td class=\"Py(10px) Pstart(10px)\" data-reactid=\"467\"><span data-reactid=\"468\">356.56</span></td><td class=\"Py(10px) Pstart(10px)\" data-reactid=\"469\"><span data-reactid=\"470\">144,843,100</span></td></tr>,\n",
       " <tr class=\"BdT Bdc($seperatorColor) Ta(end) Fz(s) Whs(nw)\" data-reactid=\"471\"><td class=\"Py(10px) Ta(start) Pend(10px)\" data-reactid=\"472\"><span data-reactid=\"473\">Feb 01, 2019</span></td><td class=\"Py(10px) Pstart(10px)\" data-reactid=\"474\"><span data-reactid=\"475\">337.18</span></td><td class=\"Py(10px) Pstart(10px)\" data-reactid=\"476\"><span data-reactid=\"477\">371.49</span></td><td class=\"Py(10px) Pstart(10px)\" data-reactid=\"478\"><span data-reactid=\"479\">336.50</span></td><td class=\"Py(10px) Pstart(10px)\" data-reactid=\"480\"><span data-reactid=\"481\">358.10</span></td><td class=\"Py(10px) Pstart(10px)\" data-reactid=\"482\"><span data-reactid=\"483\">358.10</span></td><td class=\"Py(10px) Pstart(10px)\" data-reactid=\"484\"><span data-reactid=\"485\">148,192,100</span></td></tr>,\n",
       " <tr class=\"BdT Bdc($seperatorColor) Ta(end) Fz(s) Whs(nw)\" data-reactid=\"486\"><td class=\"Py(10px) Ta(start) Pend(10px)\" data-reactid=\"487\"><span data-reactid=\"488\">Jan 01, 2019</span></td><td class=\"Py(10px) Pstart(10px)\" data-reactid=\"489\"><span data-reactid=\"490\">259.28</span></td><td class=\"Py(10px) Pstart(10px)\" data-reactid=\"491\"><span data-reactid=\"492\">358.85</span></td><td class=\"Py(10px) Pstart(10px)\" data-reactid=\"493\"><span data-reactid=\"494\">256.58</span></td><td class=\"Py(10px) Pstart(10px)\" data-reactid=\"495\"><span data-reactid=\"496\">339.50</span></td><td class=\"Py(10px) Pstart(10px)\" data-reactid=\"497\"><span data-reactid=\"498\">339.50</span></td><td class=\"Py(10px) Pstart(10px)\" data-reactid=\"499\"><span data-reactid=\"500\">306,616,400</span></td></tr>,\n",
       " <tr class=\"BdT Bdc($seperatorColor) Ta(end) Fz(s) Whs(nw)\" data-reactid=\"501\"><td class=\"Py(10px) Ta(start) Pend(10px)\" data-reactid=\"502\"><span data-reactid=\"503\">Dec 01, 2018</span></td><td class=\"Py(10px) Pstart(10px)\" data-reactid=\"504\"><span data-reactid=\"505\">293.19</span></td><td class=\"Py(10px) Pstart(10px)\" data-reactid=\"506\"><span data-reactid=\"507\">298.72</span></td><td class=\"Py(10px) Pstart(10px)\" data-reactid=\"508\"><span data-reactid=\"509\">231.23</span></td><td class=\"Py(10px) Pstart(10px)\" data-reactid=\"510\"><span data-reactid=\"511\">267.66</span></td><td class=\"Py(10px) Pstart(10px)\" data-reactid=\"512\"><span data-reactid=\"513\">267.66</span></td><td class=\"Py(10px) Pstart(10px)\" data-reactid=\"514\"><span data-reactid=\"515\">234,310,000</span></td></tr>,\n",
       " <tr class=\"BdT Bdc($seperatorColor) Ta(end) Fz(s) Whs(nw)\" data-reactid=\"516\"><td class=\"Py(10px) Ta(start) Pend(10px)\" data-reactid=\"517\"><span data-reactid=\"518\">Nov 01, 2018</span></td><td class=\"Py(10px) Pstart(10px)\" data-reactid=\"519\"><span data-reactid=\"520\">304.59</span></td><td class=\"Py(10px) Pstart(10px)\" data-reactid=\"521\"><span data-reactid=\"522\">332.05</span></td><td class=\"Py(10px) Pstart(10px)\" data-reactid=\"523\"><span data-reactid=\"524\">250.00</span></td><td class=\"Py(10px) Pstart(10px)\" data-reactid=\"525\"><span data-reactid=\"526\">286.13</span></td><td class=\"Py(10px) Pstart(10px)\" data-reactid=\"527\"><span data-reactid=\"528\">286.13</span></td><td class=\"Py(10px) Pstart(10px)\" data-reactid=\"529\"><span data-reactid=\"530\">257,126,400</span></td></tr>,\n",
       " <tr class=\"BdT Bdc($seperatorColor) Ta(end) Fz(s) Whs(nw)\" data-reactid=\"531\"><td class=\"Py(10px) Ta(start) Pend(10px)\" data-reactid=\"532\"><span data-reactid=\"533\">Oct 01, 2018</span></td><td class=\"Py(10px) Pstart(10px)\" data-reactid=\"534\"><span data-reactid=\"535\">375.85</span></td><td class=\"Py(10px) Pstart(10px)\" data-reactid=\"536\"><span data-reactid=\"537\">386.80</span></td><td class=\"Py(10px) Pstart(10px)\" data-reactid=\"538\"><span data-reactid=\"539\">271.21</span></td><td class=\"Py(10px) Pstart(10px)\" data-reactid=\"540\"><span data-reactid=\"541\">301.78</span></td><td class=\"Py(10px) Pstart(10px)\" data-reactid=\"542\"><span data-reactid=\"543\">301.78</span></td><td class=\"Py(10px) Pstart(10px)\" data-reactid=\"544\"><span data-reactid=\"545\">363,589,800</span></td></tr>,\n",
       " <tr class=\"BdT Bdc($seperatorColor) Ta(end) Fz(s) Whs(nw)\" data-reactid=\"546\"><td class=\"Py(10px) Ta(start) Pend(10px)\" data-reactid=\"547\"><span data-reactid=\"548\">Sep 01, 2018</span></td><td class=\"Py(10px) Pstart(10px)\" data-reactid=\"549\"><span data-reactid=\"550\">366.47</span></td><td class=\"Py(10px) Pstart(10px)\" data-reactid=\"551\"><span data-reactid=\"552\">383.20</span></td><td class=\"Py(10px) Pstart(10px)\" data-reactid=\"553\"><span data-reactid=\"554\">335.83</span></td><td class=\"Py(10px) Pstart(10px)\" data-reactid=\"555\"><span data-reactid=\"556\">374.13</span></td><td class=\"Py(10px) Pstart(10px)\" data-reactid=\"557\"><span data-reactid=\"558\">374.13</span></td><td class=\"Py(10px) Pstart(10px)\" data-reactid=\"559\"><span data-reactid=\"560\">170,832,100</span></td></tr>,\n",
       " <tr class=\"BdT Bdc($seperatorColor) Ta(end) Fz(s) Whs(nw)\" data-reactid=\"561\"><td class=\"Py(10px) Ta(start) Pend(10px)\" data-reactid=\"562\"><span data-reactid=\"563\">Aug 01, 2018</span></td><td class=\"Py(10px) Pstart(10px)\" data-reactid=\"564\"><span data-reactid=\"565\">335.87</span></td><td class=\"Py(10px) Pstart(10px)\" data-reactid=\"566\"><span data-reactid=\"567\">376.81</span></td><td class=\"Py(10px) Pstart(10px)\" data-reactid=\"568\"><span data-reactid=\"569\">310.93</span></td><td class=\"Py(10px) Pstart(10px)\" data-reactid=\"570\"><span data-reactid=\"571\">367.68</span></td><td class=\"Py(10px) Pstart(10px)\" data-reactid=\"572\"><span data-reactid=\"573\">367.68</span></td><td class=\"Py(10px) Pstart(10px)\" data-reactid=\"574\"><span data-reactid=\"575\">213,122,300</span></td></tr>,\n",
       " <tr class=\"BdT Bdc($seperatorColor) Ta(end) Fz(s) Whs(nw)\" data-reactid=\"576\"><td class=\"Py(10px) Ta(start) Pend(10px)\" data-reactid=\"577\"><span data-reactid=\"578\">Jul 01, 2018</span></td><td class=\"Py(10px) Pstart(10px)\" data-reactid=\"579\"><span data-reactid=\"580\">385.45</span></td><td class=\"Py(10px) Pstart(10px)\" data-reactid=\"581\"><span data-reactid=\"582\">419.77</span></td><td class=\"Py(10px) Pstart(10px)\" data-reactid=\"583\"><span data-reactid=\"584\">328.00</span></td><td class=\"Py(10px) Pstart(10px)\" data-reactid=\"585\"><span data-reactid=\"586\">337.45</span></td><td class=\"Py(10px) Pstart(10px)\" data-reactid=\"587\"><span data-reactid=\"588\">337.45</span></td><td class=\"Py(10px) Pstart(10px)\" data-reactid=\"589\"><span data-reactid=\"590\">305,393,800</span></td></tr>,\n",
       " <tr class=\"BdT Bdc($seperatorColor) Ta(end) Fz(s) Whs(nw)\" data-reactid=\"591\"><td class=\"Py(10px) Ta(start) Pend(10px)\" data-reactid=\"592\"><span data-reactid=\"593\">Jun 01, 2018</span></td><td class=\"Py(10px) Pstart(10px)\" data-reactid=\"594\"><span data-reactid=\"595\">353.88</span></td><td class=\"Py(10px) Pstart(10px)\" data-reactid=\"596\"><span data-reactid=\"597\">423.21</span></td><td class=\"Py(10px) Pstart(10px)\" data-reactid=\"598\"><span data-reactid=\"599\">352.82</span></td><td class=\"Py(10px) Pstart(10px)\" data-reactid=\"600\"><span data-reactid=\"601\">391.43</span></td><td class=\"Py(10px) Pstart(10px)\" data-reactid=\"602\"><span data-reactid=\"603\">391.43</span></td><td class=\"Py(10px) Pstart(10px)\" data-reactid=\"604\"><span data-reactid=\"605\">244,031,800</span></td></tr>,\n",
       " <tr class=\"BdT Bdc($seperatorColor) Ta(end) Fz(s) Whs(nw)\" data-reactid=\"606\"><td class=\"Py(10px) Ta(start) Pend(10px)\" data-reactid=\"607\"><span data-reactid=\"608\">May 01, 2018</span></td><td class=\"Py(10px) Pstart(10px)\" data-reactid=\"609\"><span data-reactid=\"610\">310.36</span></td><td class=\"Py(10px) Pstart(10px)\" data-reactid=\"611\"><span data-reactid=\"612\">356.10</span></td><td class=\"Py(10px) Pstart(10px)\" data-reactid=\"613\"><span data-reactid=\"614\">305.73</span></td><td class=\"Py(10px) Pstart(10px)\" data-reactid=\"615\"><span data-reactid=\"616\">351.60</span></td><td class=\"Py(10px) Pstart(10px)\" data-reactid=\"617\"><span data-reactid=\"618\">351.60</span></td><td class=\"Py(10px) Pstart(10px)\" data-reactid=\"619\"><span data-reactid=\"620\">142,050,800</span></td></tr>,\n",
       " <tr class=\"BdT Bdc($seperatorColor) Ta(end) Fz(s) Whs(nw)\" data-reactid=\"621\"><td class=\"Py(10px) Ta(start) Pend(10px)\" data-reactid=\"622\"><span data-reactid=\"623\">Apr 01, 2018</span></td><td class=\"Py(10px) Pstart(10px)\" data-reactid=\"624\"><span data-reactid=\"625\">291.94</span></td><td class=\"Py(10px) Pstart(10px)\" data-reactid=\"626\"><span data-reactid=\"627\">338.82</span></td><td class=\"Py(10px) Pstart(10px)\" data-reactid=\"628\"><span data-reactid=\"629\">271.22</span></td><td class=\"Py(10px) Pstart(10px)\" data-reactid=\"630\"><span data-reactid=\"631\">312.46</span></td><td class=\"Py(10px) Pstart(10px)\" data-reactid=\"632\"><span data-reactid=\"633\">312.46</span></td><td class=\"Py(10px) Pstart(10px)\" data-reactid=\"634\"><span data-reactid=\"635\">262,006,000</span></td></tr>,\n",
       " <tr class=\"BdT Bdc($seperatorColor) Ta(end) Fz(s) Whs(nw)\" data-reactid=\"636\"><td class=\"Py(10px) Ta(start) Pend(10px)\" data-reactid=\"637\"><span data-reactid=\"638\">Mar 01, 2018</span></td><td class=\"Py(10px) Pstart(10px)\" data-reactid=\"639\"><span data-reactid=\"640\">292.75</span></td><td class=\"Py(10px) Pstart(10px)\" data-reactid=\"641\"><span data-reactid=\"642\">333.98</span></td><td class=\"Py(10px) Pstart(10px)\" data-reactid=\"643\"><span data-reactid=\"644\">275.90</span></td><td class=\"Py(10px) Pstart(10px)\" data-reactid=\"645\"><span data-reactid=\"646\">295.35</span></td><td class=\"Py(10px) Pstart(10px)\" data-reactid=\"647\"><span data-reactid=\"648\">295.35</span></td><td class=\"Py(10px) Pstart(10px)\" data-reactid=\"649\"><span data-reactid=\"650\">263,449,400</span></td></tr>,\n",
       " <tr class=\"BdT Bdc($seperatorColor) Ta(end) Fz(s) Whs(nw)\" data-reactid=\"651\"><td class=\"Py(10px) Ta(start) Pend(10px)\" data-reactid=\"652\"><span data-reactid=\"653\">Feb 01, 2018</span></td><td class=\"Py(10px) Pstart(10px)\" data-reactid=\"654\"><span data-reactid=\"655\">266.41</span></td><td class=\"Py(10px) Pstart(10px)\" data-reactid=\"656\"><span data-reactid=\"657\">297.36</span></td><td class=\"Py(10px) Pstart(10px)\" data-reactid=\"658\"><span data-reactid=\"659\">236.11</span></td><td class=\"Py(10px) Pstart(10px)\" data-reactid=\"660\"><span data-reactid=\"661\">291.38</span></td><td class=\"Py(10px) Pstart(10px)\" data-reactid=\"662\"><span data-reactid=\"663\">291.38</span></td><td class=\"Py(10px) Pstart(10px)\" data-reactid=\"664\"><span data-reactid=\"665\">184,585,800</span></td></tr>,\n",
       " <tr class=\"BdT Bdc($seperatorColor) Ta(end) Fz(s) Whs(nw)\" data-reactid=\"666\"><td class=\"Py(10px) Ta(start) Pend(10px)\" data-reactid=\"667\"><span data-reactid=\"668\">Jan 01, 2018</span></td><td class=\"Py(10px) Pstart(10px)\" data-reactid=\"669\"><span data-reactid=\"670\">196.10</span></td><td class=\"Py(10px) Pstart(10px)\" data-reactid=\"671\"><span data-reactid=\"672\">286.81</span></td><td class=\"Py(10px) Pstart(10px)\" data-reactid=\"673\"><span data-reactid=\"674\">195.42</span></td><td class=\"Py(10px) Pstart(10px)\" data-reactid=\"675\"><span data-reactid=\"676\">270.30</span></td><td class=\"Py(10px) Pstart(10px)\" data-reactid=\"677\"><span data-reactid=\"678\">270.30</span></td><td class=\"Py(10px) Pstart(10px)\" data-reactid=\"679\"><span data-reactid=\"680\">238,377,600</span></td></tr>,\n",
       " <tr class=\"BdT Bdc($seperatorColor) Ta(end) Fz(s) Whs(nw)\" data-reactid=\"681\"><td class=\"Py(10px) Ta(start) Pend(10px)\" data-reactid=\"682\"><span data-reactid=\"683\">Dec 01, 2017</span></td><td class=\"Py(10px) Pstart(10px)\" data-reactid=\"684\"><span data-reactid=\"685\">186.99</span></td><td class=\"Py(10px) Pstart(10px)\" data-reactid=\"686\"><span data-reactid=\"687\">194.49</span></td><td class=\"Py(10px) Pstart(10px)\" data-reactid=\"688\"><span data-reactid=\"689\">178.38</span></td><td class=\"Py(10px) Pstart(10px)\" data-reactid=\"690\"><span data-reactid=\"691\">191.96</span></td><td class=\"Py(10px) Pstart(10px)\" data-reactid=\"692\"><span data-reactid=\"693\">191.96</span></td><td class=\"Py(10px) Pstart(10px)\" data-reactid=\"694\"><span data-reactid=\"695\">115,103,700</span></td></tr>,\n",
       " <tr class=\"BdT Bdc($seperatorColor) Ta(end) Fz(s) Whs(nw)\" data-reactid=\"696\"><td class=\"Py(10px) Ta(start) Pend(10px)\" data-reactid=\"697\"><span data-reactid=\"698\">Nov 01, 2017</span></td><td class=\"Py(10px) Pstart(10px)\" data-reactid=\"699\"><span data-reactid=\"700\">197.24</span></td><td class=\"Py(10px) Pstart(10px)\" data-reactid=\"701\"><span data-reactid=\"702\">202.48</span></td><td class=\"Py(10px) Pstart(10px)\" data-reactid=\"703\"><span data-reactid=\"704\">184.32</span></td><td class=\"Py(10px) Pstart(10px)\" data-reactid=\"705\"><span data-reactid=\"706\">187.58</span></td><td class=\"Py(10px) Pstart(10px)\" data-reactid=\"707\"><span data-reactid=\"708\">187.58</span></td><td class=\"Py(10px) Pstart(10px)\" data-reactid=\"709\"><span data-reactid=\"710\">110,996,600</span></td></tr>,\n",
       " <tr class=\"BdT Bdc($seperatorColor) Ta(end) Fz(s) Whs(nw)\" data-reactid=\"711\"><td class=\"Py(10px) Ta(start) Pend(10px)\" data-reactid=\"712\"><span data-reactid=\"713\">Oct 01, 2017</span></td><td class=\"Py(10px) Pstart(10px)\" data-reactid=\"714\"><span data-reactid=\"715\">182.11</span></td><td class=\"Py(10px) Pstart(10px)\" data-reactid=\"716\"><span data-reactid=\"717\">204.38</span></td><td class=\"Py(10px) Pstart(10px)\" data-reactid=\"718\"><span data-reactid=\"719\">176.58</span></td><td class=\"Py(10px) Pstart(10px)\" data-reactid=\"720\"><span data-reactid=\"721\">196.43</span></td><td class=\"Py(10px) Pstart(10px)\" data-reactid=\"722\"><span data-reactid=\"723\">196.43</span></td><td class=\"Py(10px) Pstart(10px)\" data-reactid=\"724\"><span data-reactid=\"725\">208,657,800</span></td></tr>,\n",
       " <tr class=\"BdT Bdc($seperatorColor) Ta(end) Fz(s) Whs(nw)\" data-reactid=\"726\"><td class=\"Py(10px) Ta(start) Pend(10px)\" data-reactid=\"727\"><span data-reactid=\"728\">Sep 01, 2017</span></td><td class=\"Py(10px) Pstart(10px)\" data-reactid=\"729\"><span data-reactid=\"730\">175.55</span></td><td class=\"Py(10px) Pstart(10px)\" data-reactid=\"731\"><span data-reactid=\"732\">189.95</span></td><td class=\"Py(10px) Pstart(10px)\" data-reactid=\"733\"><span data-reactid=\"734\">172.44</span></td><td class=\"Py(10px) Pstart(10px)\" data-reactid=\"735\"><span data-reactid=\"736\">181.35</span></td><td class=\"Py(10px) Pstart(10px)\" data-reactid=\"737\"><span data-reactid=\"738\">181.35</span></td><td class=\"Py(10px) Pstart(10px)\" data-reactid=\"739\"><span data-reactid=\"740\">111,427,900</span></td></tr>,\n",
       " <tr class=\"BdT Bdc($seperatorColor) Ta(end) Fz(s) Whs(nw)\" data-reactid=\"741\"><td class=\"Py(10px) Ta(start) Pend(10px)\" data-reactid=\"742\"><span data-reactid=\"743\">Aug 01, 2017</span></td><td class=\"Py(10px) Pstart(10px)\" data-reactid=\"744\"><span data-reactid=\"745\">182.49</span></td><td class=\"Py(10px) Pstart(10px)\" data-reactid=\"746\"><span data-reactid=\"747\">184.62</span></td><td class=\"Py(10px) Pstart(10px)\" data-reactid=\"748\"><span data-reactid=\"749\">164.23</span></td><td class=\"Py(10px) Pstart(10px)\" data-reactid=\"750\"><span data-reactid=\"751\">174.71</span></td><td class=\"Py(10px) Pstart(10px)\" data-reactid=\"752\"><span data-reactid=\"753\">174.71</span></td><td class=\"Py(10px) Pstart(10px)\" data-reactid=\"754\"><span data-reactid=\"755\">136,534,400</span></td></tr>,\n",
       " <tr class=\"BdT Bdc($seperatorColor) Ta(end) Fz(s) Whs(nw)\" data-reactid=\"756\"><td class=\"Py(10px) Ta(start) Pend(10px)\" data-reactid=\"757\"><span data-reactid=\"758\">Jul 01, 2017</span></td><td class=\"Py(10px) Pstart(10px)\" data-reactid=\"759\"><span data-reactid=\"760\">149.80</span></td><td class=\"Py(10px) Pstart(10px)\" data-reactid=\"761\"><span data-reactid=\"762\">191.50</span></td><td class=\"Py(10px) Pstart(10px)\" data-reactid=\"763\"><span data-reactid=\"764\">144.25</span></td><td class=\"Py(10px) Pstart(10px)\" data-reactid=\"765\"><span data-reactid=\"766\">181.66</span></td><td class=\"Py(10px) Pstart(10px)\" data-reactid=\"767\"><span data-reactid=\"768\">181.66</span></td><td class=\"Py(10px) Pstart(10px)\" data-reactid=\"769\"><span data-reactid=\"770\">185,144,700</span></td></tr>,\n",
       " <tr class=\"BdT Bdc($seperatorColor) Ta(end) Fz(s) Whs(nw)\" data-reactid=\"771\"><td class=\"Py(10px) Ta(start) Pend(10px)\" data-reactid=\"772\"><span data-reactid=\"773\">Jun 01, 2017</span></td><td class=\"Py(10px) Pstart(10px)\" data-reactid=\"774\"><span data-reactid=\"775\">163.52</span></td><td class=\"Py(10px) Pstart(10px)\" data-reactid=\"776\"><span data-reactid=\"777\">166.87</span></td><td class=\"Py(10px) Pstart(10px)\" data-reactid=\"778\"><span data-reactid=\"779\">147.30</span></td><td class=\"Py(10px) Pstart(10px)\" data-reactid=\"780\"><span data-reactid=\"781\">149.41</span></td><td class=\"Py(10px) Pstart(10px)\" data-reactid=\"782\"><span data-reactid=\"783\">149.41</span></td><td class=\"Py(10px) Pstart(10px)\" data-reactid=\"784\"><span data-reactid=\"785\">135,699,700</span></td></tr>,\n",
       " <tr class=\"BdT Bdc($seperatorColor) Ta(end) Fz(s) Whs(nw)\" data-reactid=\"786\"><td class=\"Py(10px) Ta(start) Pend(10px)\" data-reactid=\"787\"><span data-reactid=\"788\">May 01, 2017</span></td><td class=\"Py(10px) Pstart(10px)\" data-reactid=\"789\"><span data-reactid=\"790\">151.91</span></td><td class=\"Py(10px) Pstart(10px)\" data-reactid=\"791\"><span data-reactid=\"792\">164.75</span></td><td class=\"Py(10px) Pstart(10px)\" data-reactid=\"793\"><span data-reactid=\"794\">151.61</span></td><td class=\"Py(10px) Pstart(10px)\" data-reactid=\"795\"><span data-reactid=\"796\">163.07</span></td><td class=\"Py(10px) Pstart(10px)\" data-reactid=\"797\"><span data-reactid=\"798\">163.07</span></td><td class=\"Py(10px) Pstart(10px)\" data-reactid=\"799\"><span data-reactid=\"800\">116,795,800</span></td></tr>,\n",
       " <tr class=\"BdT Bdc($seperatorColor) Ta(end) Fz(s) Whs(nw)\" data-reactid=\"801\"><td class=\"Py(10px) Ta(start) Pend(10px)\" data-reactid=\"802\"><span data-reactid=\"803\">Apr 01, 2017</span></td><td class=\"Py(10px) Pstart(10px)\" data-reactid=\"804\"><span data-reactid=\"805\">146.70</span></td><td class=\"Py(10px) Pstart(10px)\" data-reactid=\"806\"><span data-reactid=\"807\">153.52</span></td><td class=\"Py(10px) Pstart(10px)\" data-reactid=\"808\"><span data-reactid=\"809\">138.66</span></td><td class=\"Py(10px) Pstart(10px)\" data-reactid=\"810\"><span data-reactid=\"811\">152.20</span></td><td class=\"Py(10px) Pstart(10px)\" data-reactid=\"812\"><span data-reactid=\"813\">152.20</span></td><td class=\"Py(10px) Pstart(10px)\" data-reactid=\"814\"><span data-reactid=\"815\">149,779,000</span></td></tr>,\n",
       " <tr class=\"BdT Bdc($seperatorColor) Ta(end) Fz(s) Whs(nw)\" data-reactid=\"816\"><td class=\"Py(10px) Ta(start) Pend(10px)\" data-reactid=\"817\"><span data-reactid=\"818\">Mar 01, 2017</span></td><td class=\"Py(10px) Pstart(10px)\" data-reactid=\"819\"><span data-reactid=\"820\">142.84</span></td><td class=\"Py(10px) Pstart(10px)\" data-reactid=\"821\"><span data-reactid=\"822\">148.29</span></td><td class=\"Py(10px) Pstart(10px)\" data-reactid=\"823\"><span data-reactid=\"824\">138.26</span></td><td class=\"Py(10px) Pstart(10px)\" data-reactid=\"825\"><span data-reactid=\"826\">147.81</span></td><td class=\"Py(10px) Pstart(10px)\" data-reactid=\"827\"><span data-reactid=\"828\">147.81</span></td><td class=\"Py(10px) Pstart(10px)\" data-reactid=\"829\"><span data-reactid=\"830\">110,692,700</span></td></tr>,\n",
       " <tr class=\"BdT Bdc($seperatorColor) Ta(end) Fz(s) Whs(nw)\" data-reactid=\"831\"><td class=\"Py(10px) Ta(start) Pend(10px)\" data-reactid=\"832\"><span data-reactid=\"833\">Feb 01, 2017</span></td><td class=\"Py(10px) Pstart(10px)\" data-reactid=\"834\"><span data-reactid=\"835\">141.20</span></td><td class=\"Py(10px) Pstart(10px)\" data-reactid=\"836\"><span data-reactid=\"837\">145.95</span></td><td class=\"Py(10px) Pstart(10px)\" data-reactid=\"838\"><span data-reactid=\"839\">139.05</span></td><td class=\"Py(10px) Pstart(10px)\" data-reactid=\"840\"><span data-reactid=\"841\">142.13</span></td><td class=\"Py(10px) Pstart(10px)\" data-reactid=\"842\"><span data-reactid=\"843\">142.13</span></td><td class=\"Py(10px) Pstart(10px)\" data-reactid=\"844\"><span data-reactid=\"845\">91,444,800</span></td></tr>,\n",
       " <tr class=\"BdT Bdc($seperatorColor) Ta(end) Fz(s) Whs(nw)\" data-reactid=\"846\"><td class=\"Py(10px) Ta(start) Pend(10px)\" data-reactid=\"847\"><span data-reactid=\"848\">Jan 01, 2017</span></td><td class=\"Py(10px) Pstart(10px)\" data-reactid=\"849\"><span data-reactid=\"850\">124.96</span></td><td class=\"Py(10px) Pstart(10px)\" data-reactid=\"851\"><span data-reactid=\"852\">143.46</span></td><td class=\"Py(10px) Pstart(10px)\" data-reactid=\"853\"><span data-reactid=\"854\">124.31</span></td><td class=\"Py(10px) Pstart(10px)\" data-reactid=\"855\"><span data-reactid=\"856\">140.71</span></td><td class=\"Py(10px) Pstart(10px)\" data-reactid=\"857\"><span data-reactid=\"858\">140.71</span></td><td class=\"Py(10px) Pstart(10px)\" data-reactid=\"859\"><span data-reactid=\"860\">181,814,100</span></td></tr>,\n",
       " <tr class=\"BdT Bdc($seperatorColor) Ta(end) Fz(s) Whs(nw)\" data-reactid=\"861\"><td class=\"Py(10px) Ta(start) Pend(10px)\" data-reactid=\"862\"><span data-reactid=\"863\">Dec 01, 2016</span></td><td class=\"Py(10px) Pstart(10px)\" data-reactid=\"864\"><span data-reactid=\"865\">117.52</span></td><td class=\"Py(10px) Pstart(10px)\" data-reactid=\"866\"><span data-reactid=\"867\">129.07</span></td><td class=\"Py(10px) Pstart(10px)\" data-reactid=\"868\"><span data-reactid=\"869\">113.95</span></td><td class=\"Py(10px) Pstart(10px)\" data-reactid=\"870\"><span data-reactid=\"871\">123.80</span></td><td class=\"Py(10px) Pstart(10px)\" data-reactid=\"872\"><span data-reactid=\"873\">123.80</span></td><td class=\"Py(10px) Pstart(10px)\" data-reactid=\"874\"><span data-reactid=\"875\">128,528,700</span></td></tr>,\n",
       " <tr class=\"BdT Bdc($seperatorColor) Ta(end) Fz(s) Whs(nw)\" data-reactid=\"876\"><td class=\"Py(10px) Ta(start) Pend(10px)\" data-reactid=\"877\"><span data-reactid=\"878\">Nov 01, 2016</span></td><td class=\"Py(10px) Pstart(10px)\" data-reactid=\"879\"><span data-reactid=\"880\">124.98</span></td><td class=\"Py(10px) Pstart(10px)\" data-reactid=\"881\"><span data-reactid=\"882\">125.83</span></td><td class=\"Py(10px) Pstart(10px)\" data-reactid=\"883\"><span data-reactid=\"884\">110.68</span></td><td class=\"Py(10px) Pstart(10px)\" data-reactid=\"885\"><span data-reactid=\"886\">117.00</span></td><td class=\"Py(10px) Pstart(10px)\" data-reactid=\"887\"><span data-reactid=\"888\">117.00</span></td><td class=\"Py(10px) Pstart(10px)\" data-reactid=\"889\"><span data-reactid=\"890\">147,513,000</span></td></tr>,\n",
       " <tr class=\"BdT Bdc($seperatorColor) Ta(end) Fz(s) Whs(nw)\" data-reactid=\"891\"><td class=\"Py(10px) Ta(start) Pend(10px)\" data-reactid=\"892\"><span data-reactid=\"893\">Oct 01, 2016</span></td><td class=\"Py(10px) Pstart(10px)\" data-reactid=\"894\"><span data-reactid=\"895\">98.00</span></td><td class=\"Py(10px) Pstart(10px)\" data-reactid=\"896\"><span data-reactid=\"897\">129.29</span></td><td class=\"Py(10px) Pstart(10px)\" data-reactid=\"898\"><span data-reactid=\"899\">97.63</span></td><td class=\"Py(10px) Pstart(10px)\" data-reactid=\"900\"><span data-reactid=\"901\">124.87</span></td><td class=\"Py(10px) Pstart(10px)\" data-reactid=\"902\"><span data-reactid=\"903\">124.87</span></td><td class=\"Py(10px) Pstart(10px)\" data-reactid=\"904\"><span data-reactid=\"905\">274,097,800</span></td></tr>,\n",
       " <tr class=\"BdT Bdc($seperatorColor) Ta(end) Fz(s) Whs(nw)\" data-reactid=\"906\"><td class=\"Py(10px) Ta(start) Pend(10px)\" data-reactid=\"907\"><span data-reactid=\"908\">Sep 01, 2016</span></td><td class=\"Py(10px) Pstart(10px)\" data-reactid=\"909\"><span data-reactid=\"910\">97.81</span></td><td class=\"Py(10px) Pstart(10px)\" data-reactid=\"911\"><span data-reactid=\"912\">100.35</span></td><td class=\"Py(10px) Pstart(10px)\" data-reactid=\"913\"><span data-reactid=\"914\">93.26</span></td><td class=\"Py(10px) Pstart(10px)\" data-reactid=\"915\"><span data-reactid=\"916\">98.55</span></td><td class=\"Py(10px) Pstart(10px)\" data-reactid=\"917\"><span data-reactid=\"918\">98.55</span></td><td class=\"Py(10px) Pstart(10px)\" data-reactid=\"919\"><span data-reactid=\"920\">169,670,600</span></td></tr>,\n",
       " <tr class=\"BdT Bdc($seperatorColor) Ta(end) Fz(s) Whs(nw)\" data-reactid=\"921\"><td class=\"Py(10px) Ta(start) Pend(10px)\" data-reactid=\"922\"><span data-reactid=\"923\">Aug 01, 2016</span></td><td class=\"Py(10px) Pstart(10px)\" data-reactid=\"924\"><span data-reactid=\"925\">91.23</span></td><td class=\"Py(10px) Pstart(10px)\" data-reactid=\"926\"><span data-reactid=\"927\">98.85</span></td><td class=\"Py(10px) Pstart(10px)\" data-reactid=\"928\"><span data-reactid=\"929\">90.50</span></td><td class=\"Py(10px) Pstart(10px)\" data-reactid=\"930\"><span data-reactid=\"931\">97.45</span></td><td class=\"Py(10px) Pstart(10px)\" data-reactid=\"932\"><span data-reactid=\"933\">97.45</span></td><td class=\"Py(10px) Pstart(10px)\" data-reactid=\"934\"><span data-reactid=\"935\">182,611,000</span></td></tr>,\n",
       " <tr class=\"BdT Bdc($seperatorColor) Ta(end) Fz(s) Whs(nw)\" data-reactid=\"936\"><td class=\"Py(10px) Ta(start) Pend(10px)\" data-reactid=\"937\"><span data-reactid=\"938\">Jul 01, 2016</span></td><td class=\"Py(10px) Pstart(10px)\" data-reactid=\"939\"><span data-reactid=\"940\">95.00</span></td><td class=\"Py(10px) Pstart(10px)\" data-reactid=\"941\"><span data-reactid=\"942\">101.27</span></td><td class=\"Py(10px) Pstart(10px)\" data-reactid=\"943\"><span data-reactid=\"944\">84.50</span></td><td class=\"Py(10px) Pstart(10px)\" data-reactid=\"945\"><span data-reactid=\"946\">91.25</span></td><td class=\"Py(10px) Pstart(10px)\" data-reactid=\"947\"><span data-reactid=\"948\">91.25</span></td><td class=\"Py(10px) Pstart(10px)\" data-reactid=\"949\"><span data-reactid=\"950\">320,138,000</span></td></tr>,\n",
       " <tr class=\"BdT Bdc($seperatorColor) Ta(end) Fz(s) Whs(nw)\" data-reactid=\"951\"><td class=\"Py(10px) Ta(start) Pend(10px)\" data-reactid=\"952\"><span data-reactid=\"953\">Jun 01, 2016</span></td><td class=\"Py(10px) Pstart(10px)\" data-reactid=\"954\"><span data-reactid=\"955\">101.50</span></td><td class=\"Py(10px) Pstart(10px)\" data-reactid=\"956\"><span data-reactid=\"957\">102.15</span></td><td class=\"Py(10px) Pstart(10px)\" data-reactid=\"958\"><span data-reactid=\"959\">84.81</span></td><td class=\"Py(10px) Pstart(10px)\" data-reactid=\"960\"><span data-reactid=\"961\">91.48</span></td><td class=\"Py(10px) Pstart(10px)\" data-reactid=\"962\"><span data-reactid=\"963\">91.48</span></td><td class=\"Py(10px) Pstart(10px)\" data-reactid=\"964\"><span data-reactid=\"965\">218,216,500</span></td></tr>,\n",
       " <tr class=\"BdT Bdc($seperatorColor) Ta(end) Fz(s) Whs(nw)\" data-reactid=\"966\"><td class=\"Py(10px) Ta(start) Pend(10px)\" data-reactid=\"967\"><span data-reactid=\"968\">May 01, 2016</span></td><td class=\"Py(10px) Pstart(10px)\" data-reactid=\"969\"><span data-reactid=\"970\">90.41</span></td><td class=\"Py(10px) Pstart(10px)\" data-reactid=\"971\"><span data-reactid=\"972\">104.00</span></td><td class=\"Py(10px) Pstart(10px)\" data-reactid=\"973\"><span data-reactid=\"974\">85.74</span></td><td class=\"Py(10px) Pstart(10px)\" data-reactid=\"975\"><span data-reactid=\"976\">102.57</span></td><td class=\"Py(10px) Pstart(10px)\" data-reactid=\"977\"><span data-reactid=\"978\">102.57</span></td><td class=\"Py(10px) Pstart(10px)\" data-reactid=\"979\"><span data-reactid=\"980\">264,997,900</span></td></tr>,\n",
       " <tr class=\"BdT Bdc($seperatorColor) Ta(end) Fz(s) Whs(nw)\" data-reactid=\"981\"><td class=\"Py(10px) Ta(start) Pend(10px)\" data-reactid=\"982\"><span data-reactid=\"983\">Apr 01, 2016</span></td><td class=\"Py(10px) Pstart(10px)\" data-reactid=\"984\"><span data-reactid=\"985\">102.93</span></td><td class=\"Py(10px) Pstart(10px)\" data-reactid=\"986\"><span data-reactid=\"987\">111.85</span></td><td class=\"Py(10px) Pstart(10px)\" data-reactid=\"988\"><span data-reactid=\"989\">88.21</span></td><td class=\"Py(10px) Pstart(10px)\" data-reactid=\"990\"><span data-reactid=\"991\">90.03</span></td><td class=\"Py(10px) Pstart(10px)\" data-reactid=\"992\"><span data-reactid=\"993\">90.03</span></td><td class=\"Py(10px) Pstart(10px)\" data-reactid=\"994\"><span data-reactid=\"995\">340,174,300</span></td></tr>,\n",
       " <tr class=\"BdT Bdc($seperatorColor) Ta(end) Fz(s) Whs(nw)\" data-reactid=\"996\"><td class=\"Py(10px) Ta(start) Pend(10px)\" data-reactid=\"997\"><span data-reactid=\"998\">Mar 01, 2016</span></td><td class=\"Py(10px) Pstart(10px)\" data-reactid=\"999\"><span data-reactid=\"1000\">94.58</span></td><td class=\"Py(10px) Pstart(10px)\" data-reactid=\"1001\"><span data-reactid=\"1002\">104.91</span></td><td class=\"Py(10px) Pstart(10px)\" data-reactid=\"1003\"><span data-reactid=\"1004\">93.61</span></td><td class=\"Py(10px) Pstart(10px)\" data-reactid=\"1005\"><span data-reactid=\"1006\">102.23</span></td><td class=\"Py(10px) Pstart(10px)\" data-reactid=\"1007\"><span data-reactid=\"1008\">102.23</span></td><td class=\"Py(10px) Pstart(10px)\" data-reactid=\"1009\"><span data-reactid=\"1010\">311,333,700</span></td></tr>,\n",
       " <tr class=\"BdT Bdc($seperatorColor) Ta(end) Fz(s) Whs(nw)\" data-reactid=\"1011\"><td class=\"Py(10px) Ta(start) Pend(10px)\" data-reactid=\"1012\"><span data-reactid=\"1013\">Feb 01, 2016</span></td><td class=\"Py(10px) Pstart(10px)\" data-reactid=\"1014\"><span data-reactid=\"1015\">91.79</span></td><td class=\"Py(10px) Pstart(10px)\" data-reactid=\"1016\"><span data-reactid=\"1017\">97.48</span></td><td class=\"Py(10px) Pstart(10px)\" data-reactid=\"1018\"><span data-reactid=\"1019\">79.95</span></td><td class=\"Py(10px) Pstart(10px)\" data-reactid=\"1020\"><span data-reactid=\"1021\">93.41</span></td><td class=\"Py(10px) Pstart(10px)\" data-reactid=\"1022\"><span data-reactid=\"1023\">93.41</span></td><td class=\"Py(10px) Pstart(10px)\" data-reactid=\"1024\"><span data-reactid=\"1025\">389,268,900</span></td></tr>,\n",
       " <tr class=\"BdT Bdc($seperatorColor) Ta(end) Fz(s) Whs(nw)\" data-reactid=\"1026\"><td class=\"Py(10px) Ta(start) Pend(10px)\" data-reactid=\"1027\"><span data-reactid=\"1028\">Jan 01, 2016</span></td><td class=\"Py(10px) Pstart(10px)\" data-reactid=\"1029\"><span data-reactid=\"1030\">109.00</span></td><td class=\"Py(10px) Pstart(10px)\" data-reactid=\"1031\"><span data-reactid=\"1032\">122.18</span></td><td class=\"Py(10px) Pstart(10px)\" data-reactid=\"1033\"><span data-reactid=\"1034\">90.11</span></td><td class=\"Py(10px) Pstart(10px)\" data-reactid=\"1035\"><span data-reactid=\"1036\">91.84</span></td><td class=\"Py(10px) Pstart(10px)\" data-reactid=\"1037\"><span data-reactid=\"1038\">91.84</span></td><td class=\"Py(10px) Pstart(10px)\" data-reactid=\"1039\"><span data-reactid=\"1040\">488,193,200</span></td></tr>,\n",
       " <tr class=\"BdT Bdc($seperatorColor) Ta(end) Fz(s) Whs(nw)\" data-reactid=\"1041\"><td class=\"Py(10px) Ta(start) Pend(10px)\" data-reactid=\"1042\"><span data-reactid=\"1043\">Dec 01, 2015</span></td><td class=\"Py(10px) Pstart(10px)\" data-reactid=\"1044\"><span data-reactid=\"1045\">124.47</span></td><td class=\"Py(10px) Pstart(10px)\" data-reactid=\"1046\"><span data-reactid=\"1047\">133.27</span></td><td class=\"Py(10px) Pstart(10px)\" data-reactid=\"1048\"><span data-reactid=\"1049\">113.85</span></td><td class=\"Py(10px) Pstart(10px)\" data-reactid=\"1050\"><span data-reactid=\"1051\">114.38</span></td><td class=\"Py(10px) Pstart(10px)\" data-reactid=\"1052\"><span data-reactid=\"1053\">114.38</span></td><td class=\"Py(10px) Pstart(10px)\" data-reactid=\"1054\"><span data-reactid=\"1055\">319,939,200</span></td></tr>,\n",
       " <tr class=\"BdT Bdc($seperatorColor) Ta(end) Fz(s) Whs(nw)\" data-reactid=\"1056\"><td class=\"Py(10px) Ta(start) Pend(10px)\" data-reactid=\"1057\"><span data-reactid=\"1058\">Nov 01, 2015</span></td><td class=\"Py(10px) Pstart(10px)\" data-reactid=\"1059\"><span data-reactid=\"1060\">109.20</span></td><td class=\"Py(10px) Pstart(10px)\" data-reactid=\"1061\"><span data-reactid=\"1062\">126.60</span></td><td class=\"Py(10px) Pstart(10px)\" data-reactid=\"1063\"><span data-reactid=\"1064\">101.86</span></td><td class=\"Py(10px) Pstart(10px)\" data-reactid=\"1065\"><span data-reactid=\"1066\">123.33</span></td><td class=\"Py(10px) Pstart(10px)\" data-reactid=\"1067\"><span data-reactid=\"1068\">123.33</span></td><td class=\"Py(10px) Pstart(10px)\" data-reactid=\"1069\"><span data-reactid=\"1070\">320,321,800</span></td></tr>,\n",
       " <tr class=\"BdT Bdc($seperatorColor) Ta(end) Fz(s) Whs(nw)\" data-reactid=\"1071\"><td class=\"Py(10px) Ta(start) Pend(10px)\" data-reactid=\"1072\"><span data-reactid=\"1073\">Oct 01, 2015</span></td><td class=\"Py(10px) Pstart(10px)\" data-reactid=\"1074\"><span data-reactid=\"1075\">102.91</span></td><td class=\"Py(10px) Pstart(10px)\" data-reactid=\"1076\"><span data-reactid=\"1077\">115.83</span></td><td class=\"Py(10px) Pstart(10px)\" data-reactid=\"1078\"><span data-reactid=\"1079\">96.26</span></td><td class=\"Py(10px) Pstart(10px)\" data-reactid=\"1080\"><span data-reactid=\"1081\">108.38</span></td><td class=\"Py(10px) Pstart(10px)\" data-reactid=\"1082\"><span data-reactid=\"1083\">108.38</span></td><td class=\"Py(10px) Pstart(10px)\" data-reactid=\"1084\"><span data-reactid=\"1085\">446,204,400</span></td></tr>,\n",
       " <tr class=\"BdT Bdc($seperatorColor) Ta(end) Fz(s) Whs(nw)\" data-reactid=\"1086\"><td class=\"Py(10px) Ta(start) Pend(10px)\" data-reactid=\"1087\"><span data-reactid=\"1088\">Sep 01, 2015</span></td><td class=\"Py(10px) Pstart(10px)\" data-reactid=\"1089\"><span data-reactid=\"1090\">109.35</span></td><td class=\"Py(10px) Pstart(10px)\" data-reactid=\"1091\"><span data-reactid=\"1092\">111.24</span></td><td class=\"Py(10px) Pstart(10px)\" data-reactid=\"1093\"><span data-reactid=\"1094\">93.55</span></td><td class=\"Py(10px) Pstart(10px)\" data-reactid=\"1095\"><span data-reactid=\"1096\">103.26</span></td><td class=\"Py(10px) Pstart(10px)\" data-reactid=\"1097\"><span data-reactid=\"1098\">103.26</span></td><td class=\"Py(10px) Pstart(10px)\" data-reactid=\"1099\"><span data-reactid=\"1100\">497,401,200</span></td></tr>]"
      ]
     },
     "execution_count": 252,
     "metadata": {},
     "output_type": "execute_result"
    }
   ],
   "source": [
    "soup.find('tbody').find_all('tr')"
   ]
  },
  {
   "cell_type": "code",
   "execution_count": 253,
   "metadata": {},
   "outputs": [],
   "source": [
    "netflix_data = pd.DataFrame(columns=[\"Date\", \"Open\", \"High\", \"Low\", \"Close\", \"Volume\"])\n",
    "\n",
    "# First we isolate the body of the table which contains all the information\n",
    "# Then we loop through each row and find all the column values for each row\n",
    "for row in soup.find('tbody').find_all('tr'):\n",
    "    col = row.find_all('td')\n",
    "    col = row.find_all(\"td\")\n",
    "    date = col[0].text\n",
    "    Open = col[1].text\n",
    "    high = col[2].text\n",
    "    low = col[3].text\n",
    "    close = col[4].text\n",
    "    adj_close = col[5].text\n",
    "    volume = col[6].text\n",
    "    netflix_data = netflix_data.append({\"Date\":date, \"Open\":Open, \"High\":high, \"Low\":low, \"Close\":close, \"Adj Close\":adj_close, \"Volume\":volume}, ignore_index=True)"
   ]
  },
  {
   "cell_type": "code",
   "execution_count": 254,
   "metadata": {},
   "outputs": [
    {
     "data": {
      "text/html": [
       "<div>\n",
       "<style scoped>\n",
       "    .dataframe tbody tr th:only-of-type {\n",
       "        vertical-align: middle;\n",
       "    }\n",
       "\n",
       "    .dataframe tbody tr th {\n",
       "        vertical-align: top;\n",
       "    }\n",
       "\n",
       "    .dataframe thead th {\n",
       "        text-align: right;\n",
       "    }\n",
       "</style>\n",
       "<table border=\"1\" class=\"dataframe\">\n",
       "  <thead>\n",
       "    <tr style=\"text-align: right;\">\n",
       "      <th></th>\n",
       "      <th>Date</th>\n",
       "      <th>Open</th>\n",
       "      <th>High</th>\n",
       "      <th>Low</th>\n",
       "      <th>Close</th>\n",
       "      <th>Volume</th>\n",
       "      <th>Adj Close</th>\n",
       "    </tr>\n",
       "  </thead>\n",
       "  <tbody>\n",
       "    <tr>\n",
       "      <th>0</th>\n",
       "      <td>Jun 01, 2021</td>\n",
       "      <td>504.01</td>\n",
       "      <td>536.13</td>\n",
       "      <td>482.14</td>\n",
       "      <td>528.21</td>\n",
       "      <td>78,560,600</td>\n",
       "      <td>528.21</td>\n",
       "    </tr>\n",
       "    <tr>\n",
       "      <th>1</th>\n",
       "      <td>May 01, 2021</td>\n",
       "      <td>512.65</td>\n",
       "      <td>518.95</td>\n",
       "      <td>478.54</td>\n",
       "      <td>502.81</td>\n",
       "      <td>66,927,600</td>\n",
       "      <td>502.81</td>\n",
       "    </tr>\n",
       "    <tr>\n",
       "      <th>2</th>\n",
       "      <td>Apr 01, 2021</td>\n",
       "      <td>529.93</td>\n",
       "      <td>563.56</td>\n",
       "      <td>499.00</td>\n",
       "      <td>513.47</td>\n",
       "      <td>111,573,300</td>\n",
       "      <td>513.47</td>\n",
       "    </tr>\n",
       "    <tr>\n",
       "      <th>3</th>\n",
       "      <td>Mar 01, 2021</td>\n",
       "      <td>545.57</td>\n",
       "      <td>556.99</td>\n",
       "      <td>492.85</td>\n",
       "      <td>521.66</td>\n",
       "      <td>90,183,900</td>\n",
       "      <td>521.66</td>\n",
       "    </tr>\n",
       "    <tr>\n",
       "      <th>4</th>\n",
       "      <td>Feb 01, 2021</td>\n",
       "      <td>536.79</td>\n",
       "      <td>566.65</td>\n",
       "      <td>518.28</td>\n",
       "      <td>538.85</td>\n",
       "      <td>61,902,300</td>\n",
       "      <td>538.85</td>\n",
       "    </tr>\n",
       "  </tbody>\n",
       "</table>\n",
       "</div>"
      ],
      "text/plain": [
       "           Date    Open    High     Low   Close       Volume Adj Close\n",
       "0  Jun 01, 2021  504.01  536.13  482.14  528.21   78,560,600    528.21\n",
       "1  May 01, 2021  512.65  518.95  478.54  502.81   66,927,600    502.81\n",
       "2  Apr 01, 2021  529.93  563.56  499.00  513.47  111,573,300    513.47\n",
       "3  Mar 01, 2021  545.57  556.99  492.85  521.66   90,183,900    521.66\n",
       "4  Feb 01, 2021  536.79  566.65  518.28  538.85   61,902,300    538.85"
      ]
     },
     "execution_count": 254,
     "metadata": {},
     "output_type": "execute_result"
    }
   ],
   "source": [
    "netflix_data.head()"
   ]
  },
  {
   "cell_type": "markdown",
   "metadata": {},
   "source": [
    "we can also use the pandas **read_html** function"
   ]
  },
  {
   "cell_type": "code",
   "execution_count": 255,
   "metadata": {},
   "outputs": [],
   "source": [
    "read_html_pandas_data=pd.read_html(url)"
   ]
  },
  {
   "cell_type": "code",
   "execution_count": 257,
   "metadata": {},
   "outputs": [],
   "source": [
    "netflix_df = read_html_pandas_data[0]"
   ]
  },
  {
   "cell_type": "code",
   "execution_count": 260,
   "metadata": {},
   "outputs": [],
   "source": [
    "netflix_df.drop(index=70, axis=0, inplace=True)"
   ]
  },
  {
   "cell_type": "code",
   "execution_count": 261,
   "metadata": {},
   "outputs": [
    {
     "data": {
      "text/html": [
       "<div>\n",
       "<style scoped>\n",
       "    .dataframe tbody tr th:only-of-type {\n",
       "        vertical-align: middle;\n",
       "    }\n",
       "\n",
       "    .dataframe tbody tr th {\n",
       "        vertical-align: top;\n",
       "    }\n",
       "\n",
       "    .dataframe thead th {\n",
       "        text-align: right;\n",
       "    }\n",
       "</style>\n",
       "<table border=\"1\" class=\"dataframe\">\n",
       "  <thead>\n",
       "    <tr style=\"text-align: right;\">\n",
       "      <th></th>\n",
       "      <th>Date</th>\n",
       "      <th>Open</th>\n",
       "      <th>High</th>\n",
       "      <th>Low</th>\n",
       "      <th>Close*</th>\n",
       "      <th>Adj Close**</th>\n",
       "      <th>Volume</th>\n",
       "    </tr>\n",
       "  </thead>\n",
       "  <tbody>\n",
       "    <tr>\n",
       "      <th>0</th>\n",
       "      <td>Jun 01, 2021</td>\n",
       "      <td>504.01</td>\n",
       "      <td>536.13</td>\n",
       "      <td>482.14</td>\n",
       "      <td>528.21</td>\n",
       "      <td>528.21</td>\n",
       "      <td>78560600</td>\n",
       "    </tr>\n",
       "    <tr>\n",
       "      <th>1</th>\n",
       "      <td>May 01, 2021</td>\n",
       "      <td>512.65</td>\n",
       "      <td>518.95</td>\n",
       "      <td>478.54</td>\n",
       "      <td>502.81</td>\n",
       "      <td>502.81</td>\n",
       "      <td>66927600</td>\n",
       "    </tr>\n",
       "    <tr>\n",
       "      <th>2</th>\n",
       "      <td>Apr 01, 2021</td>\n",
       "      <td>529.93</td>\n",
       "      <td>563.56</td>\n",
       "      <td>499.00</td>\n",
       "      <td>513.47</td>\n",
       "      <td>513.47</td>\n",
       "      <td>111573300</td>\n",
       "    </tr>\n",
       "    <tr>\n",
       "      <th>3</th>\n",
       "      <td>Mar 01, 2021</td>\n",
       "      <td>545.57</td>\n",
       "      <td>556.99</td>\n",
       "      <td>492.85</td>\n",
       "      <td>521.66</td>\n",
       "      <td>521.66</td>\n",
       "      <td>90183900</td>\n",
       "    </tr>\n",
       "    <tr>\n",
       "      <th>4</th>\n",
       "      <td>Feb 01, 2021</td>\n",
       "      <td>536.79</td>\n",
       "      <td>566.65</td>\n",
       "      <td>518.28</td>\n",
       "      <td>538.85</td>\n",
       "      <td>538.85</td>\n",
       "      <td>61902300</td>\n",
       "    </tr>\n",
       "    <tr>\n",
       "      <th>...</th>\n",
       "      <td>...</td>\n",
       "      <td>...</td>\n",
       "      <td>...</td>\n",
       "      <td>...</td>\n",
       "      <td>...</td>\n",
       "      <td>...</td>\n",
       "      <td>...</td>\n",
       "    </tr>\n",
       "    <tr>\n",
       "      <th>65</th>\n",
       "      <td>Jan 01, 2016</td>\n",
       "      <td>109.00</td>\n",
       "      <td>122.18</td>\n",
       "      <td>90.11</td>\n",
       "      <td>91.84</td>\n",
       "      <td>91.84</td>\n",
       "      <td>488193200</td>\n",
       "    </tr>\n",
       "    <tr>\n",
       "      <th>66</th>\n",
       "      <td>Dec 01, 2015</td>\n",
       "      <td>124.47</td>\n",
       "      <td>133.27</td>\n",
       "      <td>113.85</td>\n",
       "      <td>114.38</td>\n",
       "      <td>114.38</td>\n",
       "      <td>319939200</td>\n",
       "    </tr>\n",
       "    <tr>\n",
       "      <th>67</th>\n",
       "      <td>Nov 01, 2015</td>\n",
       "      <td>109.20</td>\n",
       "      <td>126.60</td>\n",
       "      <td>101.86</td>\n",
       "      <td>123.33</td>\n",
       "      <td>123.33</td>\n",
       "      <td>320321800</td>\n",
       "    </tr>\n",
       "    <tr>\n",
       "      <th>68</th>\n",
       "      <td>Oct 01, 2015</td>\n",
       "      <td>102.91</td>\n",
       "      <td>115.83</td>\n",
       "      <td>96.26</td>\n",
       "      <td>108.38</td>\n",
       "      <td>108.38</td>\n",
       "      <td>446204400</td>\n",
       "    </tr>\n",
       "    <tr>\n",
       "      <th>69</th>\n",
       "      <td>Sep 01, 2015</td>\n",
       "      <td>109.35</td>\n",
       "      <td>111.24</td>\n",
       "      <td>93.55</td>\n",
       "      <td>103.26</td>\n",
       "      <td>103.26</td>\n",
       "      <td>497401200</td>\n",
       "    </tr>\n",
       "  </tbody>\n",
       "</table>\n",
       "<p>70 rows × 7 columns</p>\n",
       "</div>"
      ],
      "text/plain": [
       "            Date    Open    High     Low  Close* Adj Close**     Volume\n",
       "0   Jun 01, 2021  504.01  536.13  482.14  528.21      528.21   78560600\n",
       "1   May 01, 2021  512.65  518.95  478.54  502.81      502.81   66927600\n",
       "2   Apr 01, 2021  529.93  563.56  499.00  513.47      513.47  111573300\n",
       "3   Mar 01, 2021  545.57  556.99  492.85  521.66      521.66   90183900\n",
       "4   Feb 01, 2021  536.79  566.65  518.28  538.85      538.85   61902300\n",
       "..           ...     ...     ...     ...     ...         ...        ...\n",
       "65  Jan 01, 2016  109.00  122.18   90.11   91.84       91.84  488193200\n",
       "66  Dec 01, 2015  124.47  133.27  113.85  114.38      114.38  319939200\n",
       "67  Nov 01, 2015  109.20  126.60  101.86  123.33      123.33  320321800\n",
       "68  Oct 01, 2015  102.91  115.83   96.26  108.38      108.38  446204400\n",
       "69  Sep 01, 2015  109.35  111.24   93.55  103.26      103.26  497401200\n",
       "\n",
       "[70 rows x 7 columns]"
      ]
     },
     "execution_count": 261,
     "metadata": {},
     "output_type": "execute_result"
    }
   ],
   "source": [
    "netflix_df"
   ]
  },
  {
   "cell_type": "code",
   "execution_count": 262,
   "metadata": {},
   "outputs": [],
   "source": [
    "url ='https://cf-courses-data.s3.us.cloud-object-storage.appdomain.cloud/IBMDeveloperSkillsNetwork-PY0220EN-SkillsNetwork/labs/project/amazon_data_webpage.html'"
   ]
  },
  {
   "cell_type": "code",
   "execution_count": 264,
   "metadata": {},
   "outputs": [],
   "source": [
    "html_data = requests.get(url).text\n",
    "soup = BeautifulSoup(html_data, 'html5lib')"
   ]
  },
  {
   "cell_type": "code",
   "execution_count": 307,
   "metadata": {},
   "outputs": [],
   "source": [
    "amazon_data = pd.DataFrame(columns=[\"Date\", \"Open\", \"High\", \"Low\", \"Close\", \"Volume\"])\n",
    "\n",
    "for row in soup.find(\"tbody\").find_all(\"tr\"):\n",
    "    col = row.find_all(\"td\")\n",
    "    date = col[0].text\n",
    "    Open = col[1].text\n",
    "    high = col[2].text\n",
    "    low = col[3].text\n",
    "    close = col[4].text\n",
    "    adj_close = col[5].text\n",
    "    volume = col[6].text\n",
    "    \n",
    "    amazon_data = amazon_data.append({\"Date\":date, \"Open\":Open, \"High\":high, \"Low\":low, \"Close\":close, \"Adj Close\":adj_close, \"Volume\":volume}, ignore_index=True)"
   ]
  },
  {
   "cell_type": "code",
   "execution_count": 309,
   "metadata": {},
   "outputs": [
    {
     "data": {
      "text/html": [
       "<div>\n",
       "<style scoped>\n",
       "    .dataframe tbody tr th:only-of-type {\n",
       "        vertical-align: middle;\n",
       "    }\n",
       "\n",
       "    .dataframe tbody tr th {\n",
       "        vertical-align: top;\n",
       "    }\n",
       "\n",
       "    .dataframe thead th {\n",
       "        text-align: right;\n",
       "    }\n",
       "</style>\n",
       "<table border=\"1\" class=\"dataframe\">\n",
       "  <thead>\n",
       "    <tr style=\"text-align: right;\">\n",
       "      <th></th>\n",
       "      <th>Date</th>\n",
       "      <th>Open</th>\n",
       "      <th>High</th>\n",
       "      <th>Low</th>\n",
       "      <th>Close</th>\n",
       "      <th>Volume</th>\n",
       "      <th>Adj Close</th>\n",
       "    </tr>\n",
       "  </thead>\n",
       "  <tbody>\n",
       "    <tr>\n",
       "      <th>0</th>\n",
       "      <td>Jan 01, 2021</td>\n",
       "      <td>3,270.00</td>\n",
       "      <td>3,363.89</td>\n",
       "      <td>3,086.00</td>\n",
       "      <td>3,206.20</td>\n",
       "      <td>71,528,900</td>\n",
       "      <td>3,206.20</td>\n",
       "    </tr>\n",
       "    <tr>\n",
       "      <th>1</th>\n",
       "      <td>Dec 01, 2020</td>\n",
       "      <td>3,188.50</td>\n",
       "      <td>3,350.65</td>\n",
       "      <td>3,072.82</td>\n",
       "      <td>3,256.93</td>\n",
       "      <td>77,556,200</td>\n",
       "      <td>3,256.93</td>\n",
       "    </tr>\n",
       "    <tr>\n",
       "      <th>2</th>\n",
       "      <td>Nov 01, 2020</td>\n",
       "      <td>3,061.74</td>\n",
       "      <td>3,366.80</td>\n",
       "      <td>2,950.12</td>\n",
       "      <td>3,168.04</td>\n",
       "      <td>90,810,500</td>\n",
       "      <td>3,168.04</td>\n",
       "    </tr>\n",
       "    <tr>\n",
       "      <th>3</th>\n",
       "      <td>Oct 01, 2020</td>\n",
       "      <td>3,208.00</td>\n",
       "      <td>3,496.24</td>\n",
       "      <td>3,019.00</td>\n",
       "      <td>3,036.15</td>\n",
       "      <td>116,226,100</td>\n",
       "      <td>3,036.15</td>\n",
       "    </tr>\n",
       "    <tr>\n",
       "      <th>4</th>\n",
       "      <td>Sep 01, 2020</td>\n",
       "      <td>3,489.58</td>\n",
       "      <td>3,552.25</td>\n",
       "      <td>2,871.00</td>\n",
       "      <td>3,148.73</td>\n",
       "      <td>115,899,300</td>\n",
       "      <td>3,148.73</td>\n",
       "    </tr>\n",
       "  </tbody>\n",
       "</table>\n",
       "</div>"
      ],
      "text/plain": [
       "           Date      Open      High       Low     Close       Volume Adj Close\n",
       "0  Jan 01, 2021  3,270.00  3,363.89  3,086.00  3,206.20   71,528,900  3,206.20\n",
       "1  Dec 01, 2020  3,188.50  3,350.65  3,072.82  3,256.93   77,556,200  3,256.93\n",
       "2  Nov 01, 2020  3,061.74  3,366.80  2,950.12  3,168.04   90,810,500  3,168.04\n",
       "3  Oct 01, 2020  3,208.00  3,496.24  3,019.00  3,036.15  116,226,100  3,036.15\n",
       "4  Sep 01, 2020  3,489.58  3,552.25  2,871.00  3,148.73  115,899,300  3,148.73"
      ]
     },
     "execution_count": 309,
     "metadata": {},
     "output_type": "execute_result"
    }
   ],
   "source": [
    "amazon_data.head()"
   ]
  },
  {
   "cell_type": "code",
   "execution_count": 313,
   "metadata": {},
   "outputs": [],
   "source": [
    "amzon_html_data=pd.read_html(url)[0]"
   ]
  },
  {
   "cell_type": "code",
   "execution_count": 315,
   "metadata": {},
   "outputs": [],
   "source": [
    "amzon_html_data.drop(index=61, axis=0, inplace=True)"
   ]
  },
  {
   "cell_type": "code",
   "execution_count": 317,
   "metadata": {},
   "outputs": [
    {
     "data": {
      "text/html": [
       "<div>\n",
       "<style scoped>\n",
       "    .dataframe tbody tr th:only-of-type {\n",
       "        vertical-align: middle;\n",
       "    }\n",
       "\n",
       "    .dataframe tbody tr th {\n",
       "        vertical-align: top;\n",
       "    }\n",
       "\n",
       "    .dataframe thead th {\n",
       "        text-align: right;\n",
       "    }\n",
       "</style>\n",
       "<table border=\"1\" class=\"dataframe\">\n",
       "  <thead>\n",
       "    <tr style=\"text-align: right;\">\n",
       "      <th></th>\n",
       "      <th>Date</th>\n",
       "      <th>Open</th>\n",
       "      <th>High</th>\n",
       "      <th>Low</th>\n",
       "      <th>Close*</th>\n",
       "      <th>Adj Close**</th>\n",
       "      <th>Volume</th>\n",
       "    </tr>\n",
       "  </thead>\n",
       "  <tbody>\n",
       "    <tr>\n",
       "      <th>0</th>\n",
       "      <td>Jan 01, 2021</td>\n",
       "      <td>3270.00</td>\n",
       "      <td>3363.89</td>\n",
       "      <td>3086.00</td>\n",
       "      <td>3206.20</td>\n",
       "      <td>3206.20</td>\n",
       "      <td>71528900</td>\n",
       "    </tr>\n",
       "    <tr>\n",
       "      <th>1</th>\n",
       "      <td>Dec 01, 2020</td>\n",
       "      <td>3188.50</td>\n",
       "      <td>3350.65</td>\n",
       "      <td>3072.82</td>\n",
       "      <td>3256.93</td>\n",
       "      <td>3256.93</td>\n",
       "      <td>77556200</td>\n",
       "    </tr>\n",
       "    <tr>\n",
       "      <th>2</th>\n",
       "      <td>Nov 01, 2020</td>\n",
       "      <td>3061.74</td>\n",
       "      <td>3366.80</td>\n",
       "      <td>2950.12</td>\n",
       "      <td>3168.04</td>\n",
       "      <td>3168.04</td>\n",
       "      <td>90810500</td>\n",
       "    </tr>\n",
       "    <tr>\n",
       "      <th>3</th>\n",
       "      <td>Oct 01, 2020</td>\n",
       "      <td>3208.00</td>\n",
       "      <td>3496.24</td>\n",
       "      <td>3019.00</td>\n",
       "      <td>3036.15</td>\n",
       "      <td>3036.15</td>\n",
       "      <td>116226100</td>\n",
       "    </tr>\n",
       "    <tr>\n",
       "      <th>4</th>\n",
       "      <td>Sep 01, 2020</td>\n",
       "      <td>3489.58</td>\n",
       "      <td>3552.25</td>\n",
       "      <td>2871.00</td>\n",
       "      <td>3148.73</td>\n",
       "      <td>3148.73</td>\n",
       "      <td>115899300</td>\n",
       "    </tr>\n",
       "  </tbody>\n",
       "</table>\n",
       "</div>"
      ],
      "text/plain": [
       "           Date     Open     High      Low   Close* Adj Close**     Volume\n",
       "0  Jan 01, 2021  3270.00  3363.89  3086.00  3206.20     3206.20   71528900\n",
       "1  Dec 01, 2020  3188.50  3350.65  3072.82  3256.93     3256.93   77556200\n",
       "2  Nov 01, 2020  3061.74  3366.80  2950.12  3168.04     3168.04   90810500\n",
       "3  Oct 01, 2020  3208.00  3496.24  3019.00  3036.15     3036.15  116226100\n",
       "4  Sep 01, 2020  3489.58  3552.25  2871.00  3148.73     3148.73  115899300"
      ]
     },
     "execution_count": 317,
     "metadata": {},
     "output_type": "execute_result"
    }
   ],
   "source": [
    "amzon_html_data.head()"
   ]
  },
  {
   "cell_type": "code",
   "execution_count": 318,
   "metadata": {},
   "outputs": [
    {
     "data": {
      "text/html": [
       "<div>\n",
       "<style scoped>\n",
       "    .dataframe tbody tr th:only-of-type {\n",
       "        vertical-align: middle;\n",
       "    }\n",
       "\n",
       "    .dataframe tbody tr th {\n",
       "        vertical-align: top;\n",
       "    }\n",
       "\n",
       "    .dataframe thead th {\n",
       "        text-align: right;\n",
       "    }\n",
       "</style>\n",
       "<table border=\"1\" class=\"dataframe\">\n",
       "  <thead>\n",
       "    <tr style=\"text-align: right;\">\n",
       "      <th></th>\n",
       "      <th>Date</th>\n",
       "      <th>Open</th>\n",
       "      <th>High</th>\n",
       "      <th>Low</th>\n",
       "      <th>Close</th>\n",
       "      <th>Volume</th>\n",
       "      <th>Adj Close</th>\n",
       "    </tr>\n",
       "  </thead>\n",
       "  <tbody>\n",
       "    <tr>\n",
       "      <th>56</th>\n",
       "      <td>May 01, 2016</td>\n",
       "      <td>663.92</td>\n",
       "      <td>724.23</td>\n",
       "      <td>656.00</td>\n",
       "      <td>722.79</td>\n",
       "      <td>90,614,500</td>\n",
       "      <td>722.79</td>\n",
       "    </tr>\n",
       "    <tr>\n",
       "      <th>57</th>\n",
       "      <td>Apr 01, 2016</td>\n",
       "      <td>590.49</td>\n",
       "      <td>669.98</td>\n",
       "      <td>585.25</td>\n",
       "      <td>659.59</td>\n",
       "      <td>78,464,200</td>\n",
       "      <td>659.59</td>\n",
       "    </tr>\n",
       "    <tr>\n",
       "      <th>58</th>\n",
       "      <td>Mar 01, 2016</td>\n",
       "      <td>556.29</td>\n",
       "      <td>603.24</td>\n",
       "      <td>538.58</td>\n",
       "      <td>593.64</td>\n",
       "      <td>94,009,500</td>\n",
       "      <td>593.64</td>\n",
       "    </tr>\n",
       "    <tr>\n",
       "      <th>59</th>\n",
       "      <td>Feb 01, 2016</td>\n",
       "      <td>578.15</td>\n",
       "      <td>581.80</td>\n",
       "      <td>474.00</td>\n",
       "      <td>552.52</td>\n",
       "      <td>124,144,800</td>\n",
       "      <td>552.52</td>\n",
       "    </tr>\n",
       "    <tr>\n",
       "      <th>60</th>\n",
       "      <td>Jan 01, 2016</td>\n",
       "      <td>656.29</td>\n",
       "      <td>657.72</td>\n",
       "      <td>547.18</td>\n",
       "      <td>587.00</td>\n",
       "      <td>130,200,900</td>\n",
       "      <td>587.00</td>\n",
       "    </tr>\n",
       "  </tbody>\n",
       "</table>\n",
       "</div>"
      ],
      "text/plain": [
       "            Date    Open    High     Low   Close       Volume Adj Close\n",
       "56  May 01, 2016  663.92  724.23  656.00  722.79   90,614,500    722.79\n",
       "57  Apr 01, 2016  590.49  669.98  585.25  659.59   78,464,200    659.59\n",
       "58  Mar 01, 2016  556.29  603.24  538.58  593.64   94,009,500    593.64\n",
       "59  Feb 01, 2016  578.15  581.80  474.00  552.52  124,144,800    552.52\n",
       "60  Jan 01, 2016  656.29  657.72  547.18  587.00  130,200,900    587.00"
      ]
     },
     "execution_count": 318,
     "metadata": {},
     "output_type": "execute_result"
    }
   ],
   "source": [
    "amazon_data.tail()"
   ]
  },
  {
   "cell_type": "code",
   "execution_count": 320,
   "metadata": {},
   "outputs": [
    {
     "data": {
      "text/html": [
       "<div>\n",
       "<style scoped>\n",
       "    .dataframe tbody tr th:only-of-type {\n",
       "        vertical-align: middle;\n",
       "    }\n",
       "\n",
       "    .dataframe tbody tr th {\n",
       "        vertical-align: top;\n",
       "    }\n",
       "\n",
       "    .dataframe thead th {\n",
       "        text-align: right;\n",
       "    }\n",
       "</style>\n",
       "<table border=\"1\" class=\"dataframe\">\n",
       "  <thead>\n",
       "    <tr style=\"text-align: right;\">\n",
       "      <th></th>\n",
       "      <th>Date</th>\n",
       "      <th>Open</th>\n",
       "      <th>High</th>\n",
       "      <th>Low</th>\n",
       "      <th>Close*</th>\n",
       "      <th>Adj Close**</th>\n",
       "      <th>Volume</th>\n",
       "    </tr>\n",
       "  </thead>\n",
       "  <tbody>\n",
       "    <tr>\n",
       "      <th>56</th>\n",
       "      <td>May 01, 2016</td>\n",
       "      <td>663.92</td>\n",
       "      <td>724.23</td>\n",
       "      <td>656.00</td>\n",
       "      <td>722.79</td>\n",
       "      <td>722.79</td>\n",
       "      <td>90614500</td>\n",
       "    </tr>\n",
       "    <tr>\n",
       "      <th>57</th>\n",
       "      <td>Apr 01, 2016</td>\n",
       "      <td>590.49</td>\n",
       "      <td>669.98</td>\n",
       "      <td>585.25</td>\n",
       "      <td>659.59</td>\n",
       "      <td>659.59</td>\n",
       "      <td>78464200</td>\n",
       "    </tr>\n",
       "    <tr>\n",
       "      <th>58</th>\n",
       "      <td>Mar 01, 2016</td>\n",
       "      <td>556.29</td>\n",
       "      <td>603.24</td>\n",
       "      <td>538.58</td>\n",
       "      <td>593.64</td>\n",
       "      <td>593.64</td>\n",
       "      <td>94009500</td>\n",
       "    </tr>\n",
       "    <tr>\n",
       "      <th>59</th>\n",
       "      <td>Feb 01, 2016</td>\n",
       "      <td>578.15</td>\n",
       "      <td>581.80</td>\n",
       "      <td>474.00</td>\n",
       "      <td>552.52</td>\n",
       "      <td>552.52</td>\n",
       "      <td>124144800</td>\n",
       "    </tr>\n",
       "    <tr>\n",
       "      <th>60</th>\n",
       "      <td>Jan 01, 2016</td>\n",
       "      <td>656.29</td>\n",
       "      <td>657.72</td>\n",
       "      <td>547.18</td>\n",
       "      <td>587.00</td>\n",
       "      <td>587.00</td>\n",
       "      <td>130200900</td>\n",
       "    </tr>\n",
       "  </tbody>\n",
       "</table>\n",
       "</div>"
      ],
      "text/plain": [
       "            Date    Open    High     Low  Close* Adj Close**     Volume\n",
       "56  May 01, 2016  663.92  724.23  656.00  722.79      722.79   90614500\n",
       "57  Apr 01, 2016  590.49  669.98  585.25  659.59      659.59   78464200\n",
       "58  Mar 01, 2016  556.29  603.24  538.58  593.64      593.64   94009500\n",
       "59  Feb 01, 2016  578.15  581.80  474.00  552.52      552.52  124144800\n",
       "60  Jan 01, 2016  656.29  657.72  547.18  587.00      587.00  130200900"
      ]
     },
     "execution_count": 320,
     "metadata": {},
     "output_type": "execute_result"
    }
   ],
   "source": [
    "amzon_html_data.tail()"
   ]
  },
  {
   "cell_type": "code",
   "execution_count": 321,
   "metadata": {},
   "outputs": [
    {
     "data": {
      "text/plain": [
       "Index(['Date', 'Open', 'High', 'Low', 'Close*', 'Adj Close**', 'Volume'], dtype='object')"
      ]
     },
     "execution_count": 321,
     "metadata": {},
     "output_type": "execute_result"
    }
   ],
   "source": [
    "amzon_html_data.columns"
   ]
  },
  {
   "cell_type": "code",
   "execution_count": 322,
   "metadata": {},
   "outputs": [
    {
     "data": {
      "text/plain": [
       "Index(['Date', 'Open', 'High', 'Low', 'Close', 'Volume', 'Adj Close'], dtype='object')"
      ]
     },
     "execution_count": 322,
     "metadata": {},
     "output_type": "execute_result"
    }
   ],
   "source": [
    "amazon_data.columns"
   ]
  }
 ],
 "metadata": {
  "kernelspec": {
   "display_name": "Python 3 (ipykernel)",
   "language": "python",
   "name": "python3"
  },
  "language_info": {
   "codemirror_mode": {
    "name": "ipython",
    "version": 3
   },
   "file_extension": ".py",
   "mimetype": "text/x-python",
   "name": "python",
   "nbconvert_exporter": "python",
   "pygments_lexer": "ipython3",
   "version": "3.9.12"
  }
 },
 "nbformat": 4,
 "nbformat_minor": 4
}
