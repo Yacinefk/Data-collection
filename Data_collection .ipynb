{
 "cells": [
  {
   "cell_type": "markdown",
   "metadata": {},
   "source": [
    "# Data collection (json)"
   ]
  },
  {
   "cell_type": "code",
   "execution_count": 3,
   "metadata": {},
   "outputs": [],
   "source": [
    "import requests\n",
    "import json\n",
    "import pandas as pd"
   ]
  },
  {
   "cell_type": "code",
   "execution_count": null,
   "metadata": {},
   "outputs": [],
   "source": [
    "url = 'https://itunes.apple.com/search'\n",
    "parameters = {'terms': , 'country':'ISO 3166-2:US'}"
   ]
  },
  {
   "cell_type": "markdown",
   "metadata": {},
   "source": [
    "## itunes data"
   ]
  },
  {
   "cell_type": "code",
   "execution_count": 6,
   "metadata": {},
   "outputs": [
    {
     "name": "stdout",
     "output_type": "stream",
     "text": [
      "https://itunes.apple.com/search?term=jack+johnson&entity=movie\n",
      "\n",
      "\n",
      "\n",
      "{\n",
      " \"resultCount\":3,\n",
      " \"results\": [\n",
      "{\"wrapperType\":\"track\", \"kind\":\"feature-movie\", \"artistId\":909253, \"trackId\":1467927519, \"artistName\":\"Jack Johnson\", \"trackName\":\"En Concert\", \"trackCensoredName\":\"En Concert\", \"artistViewUrl\":\"https://music.apple.com/us/artist/jack-johnson/909253?uo=4\", \"trackViewUrl\":\"https://itunes.apple.com/us/movie/en-concert/id1467927519?uo=4\", \n",
      "\"previewUrl\":\"https://video-ssl.itunes.apple.com/itunes-assets/Video128/v4/be/ef/af/beefaffe-6278-4336-07a1-de180ddaeaf8/mzvf_1177979557611386379.640x468.h264lc.U.p.m4v\", \"artworkUrl30\":\"https://is2-ssl.mzstatic.com/image/thumb/Video/v4/b7/f6/89/b7f6899e-354c-c502-5d6f-9c4a12f9dffb/source/30x30bb.jpg\", \"artworkUrl60\":\"https://is2-ssl.mzstatic.com/image/thumb/Video/v4/b7/f6/89/b7f6899e-354c-c502-5d6f-9c4a12f9dffb/source/60x60bb.jpg\", \"artworkUrl100\":\"https://is2-ssl.mzstatic.com/image/thumb/Video/v4/b7/f6/89/b7f6899e-354c-c502-5d6f-9c4a12f9dffb/source/100x100bb.jpg\", \"collectionPrice\":12.99, \"trackPrice\":12.99, \"releaseDate\":\"2009-01-01T08:00:00Z\", \"collectionExplicitness\":\"notExplicit\", \"trackExplicitness\":\"notExplicit\", \"trackTimeMillis\":4773648, \"country\":\"USA\", \"currency\":\"USD\", \"primaryGenreName\":\"Concert Films\", \"contentAdvisoryRating\":\"NR\", \"shortDescription\":\"Jack Johnson:: En Concert A Live Film and Album. Words by Emmett Malloy (filmmaker)   I began making\", \n",
      "\"longDescription\":\"Jack Johnson:: En Concert A Live Film and Album. Words by Emmett Malloy (filmmaker)   I began making films about 10 years ago with Jack. We became good friends right away, and seemed to be into the same sort of films, but both of us did not know a whole lot about the process. So we started with what we knew best…making surf films. We made a couple of films together, and it wasn’t long before Jack figured out making music was his real calling. So I lost my favorite cinematographer in Jack, but gained a new favorite musician. Now several years later, I have been lucky enough to be able to document the last decade of Jack’s music career. This past summer, a couple of friends and I went to Europe with Jack and his band for a tour supporting his last record, Sleep Through the Static. We brought a couple of cameras and microphones because it seemed like a great tour to capture. Jack Johnson::En Concert was the result of that decision. There was a point in the middle of the European tour where I was on stage behind Jack as he sang one of his most intimate love songs, “Better Together”. Looking through my lens I focused in on Jack standing alone in front of 20,000 fans. Lighters and cell phones lit up the crowd, illuminating most all of the audience that was singing along. It was the biggest backup vocal section I had ever witnessed, and it looked and sounded beautiful. As I focused my camera on the crowd, I began to see all the details of the fans. What went through my head was that we were in Paris, France, and suddenly the language barrier had no restrictions. Everyone knew the translation for Jack’s simple message, that “it’s so much better when we’re together.” This connection with the fans continued to happen in every country we traveled to around the world. These simple messages and testaments of love and family are what make Jack’s music so popular around the globe. As the filmmaker I really enjoyed being able to document the honest relationship between an artist and his fans. No matter where we were in the world that year, it was clear that everyone understood and believed in what Jack was singing about. Jack Johnson:: En Concert is a documentation of Jack and his band playing some of the most historic venues throughout Europe, and everything interesting they did in between shows. Jack really does not like to be on the other side of the lens. Getting a shot of him is kind of similar to getting a shot of the Loch Ness Monster; it’s a rare occurrence. Surprisingly, he let our cameras really join him on this tour. I just knew that I better keep a guitar or surfboard in his hands, because with either of those weapons he seemed to never know we were there.  Enjoy the film.  Emmett Malloy JACK JOHNSON EN CONCERT\"}, \n",
      "{\"wrapperType\":\"track\", \"kind\":\"feature-movie\", \"trackId\":1020340181, \"artistName\":\"Justin Krumb\", \"trackName\":\"Minds In the Water\", \"trackCensoredName\":\"Minds In the Water\", \"trackViewUrl\":\"https://itunes.apple.com/us/movie/minds-in-the-water/id1020340181?uo=4\", \n",
      "\"previewUrl\":\"https://video-ssl.itunes.apple.com/itunes-assets/Video122/v4/56/ec/5e/56ec5e69-d3a2-1724-efbc-ba2f4ce41397/mzvf_7061884105406007548.640x478.h264lc.U.p.m4v\", \"artworkUrl30\":\"https://is3-ssl.mzstatic.com/image/thumb/Video1/v4/47/58/ce/4758cedb-1812-d56e-4256-d362a41b3b5d/source/30x30bb.jpg\", \"artworkUrl60\":\"https://is3-ssl.mzstatic.com/image/thumb/Video1/v4/47/58/ce/4758cedb-1812-d56e-4256-d362a41b3b5d/source/60x60bb.jpg\", \"artworkUrl100\":\"https://is3-ssl.mzstatic.com/image/thumb/Video1/v4/47/58/ce/4758cedb-1812-d56e-4256-d362a41b3b5d/source/100x100bb.jpg\", \"collectionPrice\":9.99, \"trackPrice\":9.99, \"trackRentalPrice\":3.99, \"collectionHdPrice\":12.99, \"trackHdPrice\":12.99, \"trackHdRentalPrice\":3.99, \"releaseDate\":\"2012-11-13T08:00:00Z\", \"collectionExplicitness\":\"notExplicit\", \"trackExplicitness\":\"notExplicit\", \"trackTimeMillis\":5106472, \"country\":\"USA\", \"currency\":\"USD\", \"primaryGenreName\":\"Action & Adventure\", \"contentAdvisoryRating\":\"NR\", \"shortDescription\":\"Pro soul surfer Dave \\\"Rasta\\\" Rastovich went from observer to activist when he embarked on a personal\", \n",
      "\"longDescription\":\"Pro soul surfer Dave \\\"Rasta\\\" Rastovich went from observer to activist when he embarked on a personal mission to help dolphins, whales and the oceans they all share. While unsure at first, Rasta quickly found his activist sea legs and helped build a core team of filmmakers, journalists, musicians, eco-pirates and celebrity surfers to help spread the message, in an international quest to inspire change.\"}, \n",
      "{\"wrapperType\":\"track\", \"kind\":\"feature-movie\", \"artistId\":909253, \"trackId\":1487135503, \"artistName\":\"Jack Johnson\", \"trackName\":\"All At Once: On the Road Tour Documentary\", \"trackCensoredName\":\"All At Once: On the Road Tour Documentary\", \"artistViewUrl\":\"https://music.apple.com/us/artist/jack-johnson/909253?uo=4\", \"trackViewUrl\":\"https://itunes.apple.com/us/movie/all-at-once-on-the-road-tour-documentary/id1487135503?uo=4\", \n",
      "\"previewUrl\":\"https://video-ssl.itunes.apple.com/itunes-assets/Video111/v4/a8/e5/19/a8e5199c-df7e-7ff1-6c87-0bc4db95a201/mzvf_2579342668513896153.640x476.h264lc.U.p.m4v\", \"artworkUrl30\":\"https://is4-ssl.mzstatic.com/image/thumb/Video5/v4/94/0f/0c/940f0cfb-3368-1e16-f94f-f89c27ae8496/source/30x30bb.jpg\", \"artworkUrl60\":\"https://is4-ssl.mzstatic.com/image/thumb/Video5/v4/94/0f/0c/940f0cfb-3368-1e16-f94f-f89c27ae8496/source/60x60bb.jpg\", \"artworkUrl100\":\"https://is4-ssl.mzstatic.com/image/thumb/Video5/v4/94/0f/0c/940f0cfb-3368-1e16-f94f-f89c27ae8496/source/100x100bb.jpg\", \"collectionPrice\":7.99, \"trackPrice\":7.99, \"trackRentalPrice\":3.99, \"collectionHdPrice\":9.99, \"trackHdPrice\":9.99, \"trackHdRentalPrice\":4.99, \"releaseDate\":\"2016-04-08T07:00:00Z\", \"collectionExplicitness\":\"notExplicit\", \"trackExplicitness\":\"notExplicit\", \"trackTimeMillis\":2472388, \"country\":\"USA\", \"currency\":\"USD\", \"primaryGenreName\":\"Concert Films\", \"contentAdvisoryRating\":\"NR\", \"shortDescription\":\"This film takes an intimate look at Jack Johnson’s music and tour greening initiatives. When Jack\", \n",
      "\"longDescription\":\"This film takes an intimate look at Jack Johnson’s music and tour greening initiatives. When Jack goes on the road, he doesn’t just show up and play music. The tour partners with local non-profits, local food vendors and strives to leave a lasting positive impact. The entire tour is an extension of the environmentally conscious and socially engaged life he leads along with his wife, Kim. After years on the road, playing venues around the globe, the Johnson’s have established an inspiring way of touring with a focus on creating as little impact on the earth as possible. Along the way, the tour gives a platform to dozens of local non-profits working to educate and inspire others to make choices that benefit our communities and the greater global environment. While following Jack’s 2014 west coast tour, this film highlights the Johnson‘s Kokua Hawaii Foundation, the All At Once campaign, and several non-profit partners and businesses focusing on plastic free initiatives and sustainable local food systems. Additionally, the film highlights the unique way in which tour is run. From traveling on biodiesel-powered buses, to sourcing organic and locally grown meals to carefully disposing of waste created along the way. The goal of the tour and this documentary is to inspire people to get involved, make the right choices, and enjoy the music along the way.\"}]\n",
      "}\n",
      "\n",
      "\n",
      "\n",
      "{'resultCount': 3, 'results': [{'wrapperType': 'track', 'kind': 'feature-movie', 'artistId': 909253, 'trackId': 1467927519, 'artistName': 'Jack Johnson', 'trackName': 'En Concert', 'trackCensoredName': 'En Concert', 'artistViewUrl': 'https://music.apple.com/us/artist/jack-johnson/909253?uo=4', 'trackViewUrl': 'https://itunes.apple.com/us/movie/en-concert/id1467927519?uo=4', 'previewUrl': 'https://video-ssl.itunes.apple.com/itunes-assets/Video128/v4/be/ef/af/beefaffe-6278-4336-07a1-de180ddaeaf8/mzvf_1177979557611386379.640x468.h264lc.U.p.m4v', 'artworkUrl30': 'https://is2-ssl.mzstatic.com/image/thumb/Video/v4/b7/f6/89/b7f6899e-354c-c502-5d6f-9c4a12f9dffb/source/30x30bb.jpg', 'artworkUrl60': 'https://is2-ssl.mzstatic.com/image/thumb/Video/v4/b7/f6/89/b7f6899e-354c-c502-5d6f-9c4a12f9dffb/source/60x60bb.jpg', 'artworkUrl100': 'https://is2-ssl.mzstatic.com/image/thumb/Video/v4/b7/f6/89/b7f6899e-354c-c502-5d6f-9c4a12f9dffb/source/100x100bb.jpg', 'collectionPrice': 12.99, 'trackPrice': 12.99, 'releaseDate': '2009-01-01T08:00:00Z', 'collectionExplicitness': 'notExplicit', 'trackExplicitness': 'notExplicit', 'trackTimeMillis': 4773648, 'country': 'USA', 'currency': 'USD', 'primaryGenreName': 'Concert Films', 'contentAdvisoryRating': 'NR', 'shortDescription': 'Jack Johnson:: En Concert A Live Film and Album. Words by Emmett Malloy (filmmaker)   I began making', 'longDescription': 'Jack Johnson:: En Concert A Live Film and Album. Words by Emmett Malloy (filmmaker)   I began making films about 10 years ago with Jack. We became good friends right away, and seemed to be into the same sort of films, but both of us did not know a whole lot about the process. So we started with what we knew best…making surf films. We made a couple of films together, and it wasn’t long before Jack figured out making music was his real calling. So I lost my favorite cinematographer in Jack, but gained a new favorite musician. Now several years later, I have been lucky enough to be able to document the last decade of Jack’s music career. This past summer, a couple of friends and I went to Europe with Jack and his band for a tour supporting his last record, Sleep Through the Static. We brought a couple of cameras and microphones because it seemed like a great tour to capture. Jack Johnson::En Concert was the result of that decision. There was a point in the middle of the European tour where I was on stage behind Jack as he sang one of his most intimate love songs, “Better Together”. Looking through my lens I focused in on Jack standing alone in front of 20,000 fans. Lighters and cell phones lit up the crowd, illuminating most all of the audience that was singing along. It was the biggest backup vocal section I had ever witnessed, and it looked and sounded beautiful. As I focused my camera on the crowd, I began to see all the details of the fans. What went through my head was that we were in Paris, France, and suddenly the language barrier had no restrictions. Everyone knew the translation for Jack’s simple message, that “it’s so much better when we’re together.” This connection with the fans continued to happen in every country we traveled to around the world. These simple messages and testaments of love and family are what make Jack’s music so popular around the globe. As the filmmaker I really enjoyed being able to document the honest relationship between an artist and his fans. No matter where we were in the world that year, it was clear that everyone understood and believed in what Jack was singing about. Jack Johnson:: En Concert is a documentation of Jack and his band playing some of the most historic venues throughout Europe, and everything interesting they did in between shows. Jack really does not like to be on the other side of the lens. Getting a shot of him is kind of similar to getting a shot of the Loch Ness Monster; it’s a rare occurrence. Surprisingly, he let our cameras really join him on this tour. I just knew that I better keep a guitar or surfboard in his hands, because with either of those weapons he seemed to never know we were there.  Enjoy the film.  Emmett Malloy JACK JOHNSON EN CONCERT'}, {'wrapperType': 'track', 'kind': 'feature-movie', 'trackId': 1020340181, 'artistName': 'Justin Krumb', 'trackName': 'Minds In the Water', 'trackCensoredName': 'Minds In the Water', 'trackViewUrl': 'https://itunes.apple.com/us/movie/minds-in-the-water/id1020340181?uo=4', 'previewUrl': 'https://video-ssl.itunes.apple.com/itunes-assets/Video122/v4/56/ec/5e/56ec5e69-d3a2-1724-efbc-ba2f4ce41397/mzvf_7061884105406007548.640x478.h264lc.U.p.m4v', 'artworkUrl30': 'https://is3-ssl.mzstatic.com/image/thumb/Video1/v4/47/58/ce/4758cedb-1812-d56e-4256-d362a41b3b5d/source/30x30bb.jpg', 'artworkUrl60': 'https://is3-ssl.mzstatic.com/image/thumb/Video1/v4/47/58/ce/4758cedb-1812-d56e-4256-d362a41b3b5d/source/60x60bb.jpg', 'artworkUrl100': 'https://is3-ssl.mzstatic.com/image/thumb/Video1/v4/47/58/ce/4758cedb-1812-d56e-4256-d362a41b3b5d/source/100x100bb.jpg', 'collectionPrice': 9.99, 'trackPrice': 9.99, 'trackRentalPrice': 3.99, 'collectionHdPrice': 12.99, 'trackHdPrice': 12.99, 'trackHdRentalPrice': 3.99, 'releaseDate': '2012-11-13T08:00:00Z', 'collectionExplicitness': 'notExplicit', 'trackExplicitness': 'notExplicit', 'trackTimeMillis': 5106472, 'country': 'USA', 'currency': 'USD', 'primaryGenreName': 'Action & Adventure', 'contentAdvisoryRating': 'NR', 'shortDescription': 'Pro soul surfer Dave \"Rasta\" Rastovich went from observer to activist when he embarked on a personal', 'longDescription': 'Pro soul surfer Dave \"Rasta\" Rastovich went from observer to activist when he embarked on a personal mission to help dolphins, whales and the oceans they all share. While unsure at first, Rasta quickly found his activist sea legs and helped build a core team of filmmakers, journalists, musicians, eco-pirates and celebrity surfers to help spread the message, in an international quest to inspire change.'}, {'wrapperType': 'track', 'kind': 'feature-movie', 'artistId': 909253, 'trackId': 1487135503, 'artistName': 'Jack Johnson', 'trackName': 'All At Once: On the Road Tour Documentary', 'trackCensoredName': 'All At Once: On the Road Tour Documentary', 'artistViewUrl': 'https://music.apple.com/us/artist/jack-johnson/909253?uo=4', 'trackViewUrl': 'https://itunes.apple.com/us/movie/all-at-once-on-the-road-tour-documentary/id1487135503?uo=4', 'previewUrl': 'https://video-ssl.itunes.apple.com/itunes-assets/Video111/v4/a8/e5/19/a8e5199c-df7e-7ff1-6c87-0bc4db95a201/mzvf_2579342668513896153.640x476.h264lc.U.p.m4v', 'artworkUrl30': 'https://is4-ssl.mzstatic.com/image/thumb/Video5/v4/94/0f/0c/940f0cfb-3368-1e16-f94f-f89c27ae8496/source/30x30bb.jpg', 'artworkUrl60': 'https://is4-ssl.mzstatic.com/image/thumb/Video5/v4/94/0f/0c/940f0cfb-3368-1e16-f94f-f89c27ae8496/source/60x60bb.jpg', 'artworkUrl100': 'https://is4-ssl.mzstatic.com/image/thumb/Video5/v4/94/0f/0c/940f0cfb-3368-1e16-f94f-f89c27ae8496/source/100x100bb.jpg', 'collectionPrice': 7.99, 'trackPrice': 7.99, 'trackRentalPrice': 3.99, 'collectionHdPrice': 9.99, 'trackHdPrice': 9.99, 'trackHdRentalPrice': 4.99, 'releaseDate': '2016-04-08T07:00:00Z', 'collectionExplicitness': 'notExplicit', 'trackExplicitness': 'notExplicit', 'trackTimeMillis': 2472388, 'country': 'USA', 'currency': 'USD', 'primaryGenreName': 'Concert Films', 'contentAdvisoryRating': 'NR', 'shortDescription': 'This film takes an intimate look at Jack Johnson’s music and tour greening initiatives. When Jack', 'longDescription': 'This film takes an intimate look at Jack Johnson’s music and tour greening initiatives. When Jack goes on the road, he doesn’t just show up and play music. The tour partners with local non-profits, local food vendors and strives to leave a lasting positive impact. The entire tour is an extension of the environmentally conscious and socially engaged life he leads along with his wife, Kim. After years on the road, playing venues around the globe, the Johnson’s have established an inspiring way of touring with a focus on creating as little impact on the earth as possible. Along the way, the tour gives a platform to dozens of local non-profits working to educate and inspire others to make choices that benefit our communities and the greater global environment. While following Jack’s 2014 west coast tour, this film highlights the Johnson‘s Kokua Hawaii Foundation, the All At Once campaign, and several non-profit partners and businesses focusing on plastic free initiatives and sustainable local food systems. Additionally, the film highlights the unique way in which tour is run. From traveling on biodiesel-powered buses, to sourcing organic and locally grown meals to carefully disposing of waste created along the way. The goal of the tour and this documentary is to inspire people to get involved, make the right choices, and enjoy the music along the way.'}]}\n"
     ]
    }
   ],
   "source": [
    "import requests\n",
    "import json\n",
    "\n",
    "parameters = {'term':'jack johnson', 'entity':'movie'}\n",
    "url = 'https://itunes.apple.com/search'\n",
    "res = requests.get(url, params = parameters)\n",
    "print(res.url)\n",
    "print(res.text)\n",
    "py_data= res.json()\n",
    "print(py_data)"
   ]
  },
  {
   "cell_type": "code",
   "execution_count": 10,
   "metadata": {
    "scrolled": true
   },
   "outputs": [
    {
     "name": "stdout",
     "output_type": "stream",
     "text": [
      "{\n",
      "    \"resultCount\": 3,\n",
      "    \"results\": [\n",
      "        {\n",
      "            \"wrapperType\": \"track\",\n",
      "            \"kind\": \"feature-movie\",\n",
      "            \"artistId\": 909253,\n",
      "            \"trackId\": 1467927519,\n",
      "            \"artistName\": \"Jack Johnson\",\n",
      "            \"trackName\": \"En Concert\",\n",
      "            \"trackCensoredName\": \"En Concert\",\n",
      "            \"artistViewUrl\": \"https://music.apple.com/us/artist/jack-johnson/909253?uo=4\",\n",
      "            \"trackViewUrl\": \"https://itunes.apple.com/us/movie/en-concert/id1467927519?uo=4\",\n",
      "            \"previewUrl\": \"https://video-ssl.itunes.apple.com/itunes-assets/Video128/v4/be/ef/af/beefaffe-6278-4336-07a1-de180ddaeaf8/mzvf_1177979557611386379.640x468.h264lc.U.p.m4v\",\n",
      "            \"artworkUrl30\": \"https://is2-ssl.mzstatic.com/image/thumb/Video/v4/b7/f6/89/b7f6899e-354c-c502-5d6f-9c4a12f9dffb/source/30x30bb.jpg\",\n",
      "            \"artworkUrl60\": \"https://is2-ssl.mzstatic.com/image/thumb/Video/v4/b7/f6/89/b7f6899e-354c-c502-5d6f-9c4a12f9dffb/source/60x60bb.jpg\",\n",
      "            \"artworkUrl100\": \"https://is2-ssl.mzstatic.com/image/thumb/Video/v4/b7/f6/89/b7f6899e-354c-c502-5d6f-9c4a12f9dffb/source/100x100bb.jpg\",\n",
      "            \"collectionPrice\": 12.99,\n",
      "            \"trackPrice\": 12.99,\n",
      "            \"releaseDate\": \"2009-01-01T08:00:00Z\",\n",
      "            \"collectionExplicitness\": \"notExplicit\",\n",
      "            \"trackExplicitness\": \"notExplicit\",\n",
      "            \"trackTimeMillis\": 4773648,\n",
      "            \"country\": \"USA\",\n",
      "            \"currency\": \"USD\",\n",
      "            \"primaryGenreName\": \"Concert Films\",\n",
      "            \"contentAdvisoryRating\": \"NR\",\n",
      "            \"shortDescription\": \"Jack Johnson:: En Concert A Live Film and Album. Words by Emmett Malloy (filmmaker)   I began making\",\n",
      "            \"longDescription\": \"Jack Johnson:: En Concert A Live Film and Album. Words by Emmett Malloy (filmmaker)   I began making films about 10 years ago with Jack. We became good friends right away, and seemed to be into the same sort of films, but both of us did not know a whole lot about the process. So we started with what we knew best\\u2026making surf films. We made a couple of films together, and it wasn\\u2019t long before Jack figured out making music was his real calling. So I lost my favorite cinematographer in Jack, but gained a new favorite musician. Now several years later, I have been lucky enough to be able to document the last decade of Jack\\u2019s music career. This past summer, a couple of friends and I went to Europe with Jack and his band for a tour supporting his last record, Sleep Through the Static. We brought a couple of cameras and microphones because it seemed like a great tour to capture. Jack Johnson::En Concert was the result of that decision. There was a point in the middle of the European tour where I was on stage behind Jack as he sang one of his most intimate love songs, \\u201cBetter Together\\u201d. Looking through my lens I focused in on Jack standing alone in front of 20,000 fans. Lighters and cell phones lit up the crowd, illuminating most all of the audience that was singing along. It was the biggest backup vocal section I had ever witnessed, and it looked and sounded beautiful. As I focused my camera on the crowd, I began to see all the details of the fans. What went through my head was that we were in Paris, France, and suddenly the language barrier had no restrictions. Everyone knew the translation for Jack\\u2019s simple message, that \\u201cit\\u2019s so much better when we\\u2019re together.\\u201d This connection with the fans continued to happen in every country we traveled to around the world. These simple messages and testaments of love and family are what make Jack\\u2019s music so popular around the globe. As the filmmaker I really enjoyed being able to document the honest relationship between an artist and his fans. No matter where we were in the world that year, it was clear that everyone understood and believed in what Jack was singing about. Jack Johnson:: En Concert is a documentation of Jack and his band playing some of the most historic venues throughout Europe, and everything interesting they did in between shows. Jack really does not like to be on the other side of the lens. Getting a shot of him is kind of similar to getting a shot of the Loch Ness Monster; it\\u2019s a rare occurrence. Surprisingly, he let our cameras really join him on this tour. I just knew that I better keep a guitar or surfboard in his hands, because with either of those weapons he seemed to never know we were there.  Enjoy the film.  Emmett Malloy JACK JOHNSON EN CONCERT\"\n",
      "        },\n",
      "        {\n",
      "            \"wrapperType\": \"track\",\n",
      "            \"kind\": \"feature-movie\",\n",
      "            \"trackId\": 1020340181,\n",
      "            \"artistName\": \"Justin Krumb\",\n",
      "            \"trackName\": \"Minds In the Water\",\n",
      "            \"trackCensoredName\": \"Minds In the Water\",\n",
      "            \"trackViewUrl\": \"https://itunes.apple.com/us/movie/minds-in-the-water/id1020340181?uo=4\",\n",
      "            \"previewUrl\": \"https://video-ssl.itunes.apple.com/itunes-assets/Video122/v4/56/ec/5e/56ec5e69-d3a2-1724-efbc-ba2f4ce41397/mzvf_7061884105406007548.640x478.h264lc.U.p.m4v\",\n",
      "            \"artworkUrl30\": \"https://is3-ssl.mzstatic.com/image/thumb/Video1/v4/47/58/ce/4758cedb-1812-d56e-4256-d362a41b3b5d/source/30x30bb.jpg\",\n",
      "            \"artworkUrl60\": \"https://is3-ssl.mzstatic.com/image/thumb/Video1/v4/47/58/ce/4758cedb-1812-d56e-4256-d362a41b3b5d/source/60x60bb.jpg\",\n",
      "            \"artworkUrl100\": \"https://is3-ssl.mzstatic.com/image/thumb/Video1/v4/47/58/ce/4758cedb-1812-d56e-4256-d362a41b3b5d/source/100x100bb.jpg\",\n",
      "            \"collectionPrice\": 9.99,\n",
      "            \"trackPrice\": 9.99,\n",
      "            \"trackRentalPrice\": 3.99,\n",
      "            \"collectionHdPrice\": 12.99,\n",
      "            \"trackHdPrice\": 12.99,\n",
      "            \"trackHdRentalPrice\": 3.99,\n",
      "            \"releaseDate\": \"2012-11-13T08:00:00Z\",\n",
      "            \"collectionExplicitness\": \"notExplicit\",\n",
      "            \"trackExplicitness\": \"notExplicit\",\n",
      "            \"trackTimeMillis\": 5106472,\n",
      "            \"country\": \"USA\",\n",
      "            \"currency\": \"USD\",\n",
      "            \"primaryGenreName\": \"Action & Adventure\",\n",
      "            \"contentAdvisoryRating\": \"NR\",\n",
      "            \"shortDescription\": \"Pro soul surfer Dave \\\"Rasta\\\" Rastovich went from observer to activist when he embarked on a personal\",\n",
      "            \"longDescription\": \"Pro soul surfer Dave \\\"Rasta\\\" Rastovich went from observer to activist when he embarked on a personal mission to help dolphins, whales and the oceans they all share. While unsure at first, Rasta quickly found his activist sea legs and helped build a core team of filmmakers, journalists, musicians, eco-pirates and celebrity surfers to help spread the message, in an international quest to inspire change.\"\n",
      "        },\n",
      "        {\n",
      "            \"wrapperType\": \"track\",\n",
      "            \"kind\": \"feature-movie\",\n",
      "            \"artistId\": 909253,\n",
      "            \"trackId\": 1487135503,\n",
      "            \"artistName\": \"Jack Johnson\",\n",
      "            \"trackName\": \"All At Once: On the Road Tour Documentary\",\n",
      "            \"trackCensoredName\": \"All At Once: On the Road Tour Documentary\",\n",
      "            \"artistViewUrl\": \"https://music.apple.com/us/artist/jack-johnson/909253?uo=4\",\n",
      "            \"trackViewUrl\": \"https://itunes.apple.com/us/movie/all-at-once-on-the-road-tour-documentary/id1487135503?uo=4\",\n",
      "            \"previewUrl\": \"https://video-ssl.itunes.apple.com/itunes-assets/Video111/v4/a8/e5/19/a8e5199c-df7e-7ff1-6c87-0bc4db95a201/mzvf_2579342668513896153.640x476.h264lc.U.p.m4v\",\n",
      "            \"artworkUrl30\": \"https://is4-ssl.mzstatic.com/image/thumb/Video5/v4/94/0f/0c/940f0cfb-3368-1e16-f94f-f89c27ae8496/source/30x30bb.jpg\",\n",
      "            \"artworkUrl60\": \"https://is4-ssl.mzstatic.com/image/thumb/Video5/v4/94/0f/0c/940f0cfb-3368-1e16-f94f-f89c27ae8496/source/60x60bb.jpg\",\n",
      "            \"artworkUrl100\": \"https://is4-ssl.mzstatic.com/image/thumb/Video5/v4/94/0f/0c/940f0cfb-3368-1e16-f94f-f89c27ae8496/source/100x100bb.jpg\",\n",
      "            \"collectionPrice\": 7.99,\n",
      "            \"trackPrice\": 7.99,\n",
      "            \"trackRentalPrice\": 3.99,\n",
      "            \"collectionHdPrice\": 9.99,\n",
      "            \"trackHdPrice\": 9.99,\n",
      "            \"trackHdRentalPrice\": 4.99,\n",
      "            \"releaseDate\": \"2016-04-08T07:00:00Z\",\n",
      "            \"collectionExplicitness\": \"notExplicit\",\n",
      "            \"trackExplicitness\": \"notExplicit\",\n",
      "            \"trackTimeMillis\": 2472388,\n",
      "            \"country\": \"USA\",\n",
      "            \"currency\": \"USD\",\n",
      "            \"primaryGenreName\": \"Concert Films\",\n",
      "            \"contentAdvisoryRating\": \"NR\",\n",
      "            \"shortDescription\": \"This film takes an intimate look at Jack Johnson\\u2019s music and tour greening initiatives. When Jack\",\n",
      "            \"longDescription\": \"This film takes an intimate look at Jack Johnson\\u2019s music and tour greening initiatives. When Jack goes on the road, he doesn\\u2019t just show up and play music. The tour partners with local non-profits, local food vendors and strives to leave a lasting positive impact. The entire tour is an extension of the environmentally conscious and socially engaged life he leads along with his wife, Kim. After years on the road, playing venues around the globe, the Johnson\\u2019s have established an inspiring way of touring with a focus on creating as little impact on the earth as possible. Along the way, the tour gives a platform to dozens of local non-profits working to educate and inspire others to make choices that benefit our communities and the greater global environment. While following Jack\\u2019s 2014 west coast tour, this film highlights the Johnson\\u2018s Kokua Hawaii Foundation, the All At Once campaign, and several non-profit partners and businesses focusing on plastic free initiatives and sustainable local food systems. Additionally, the film highlights the unique way in which tour is run. From traveling on biodiesel-powered buses, to sourcing organic and locally grown meals to carefully disposing of waste created along the way. The goal of the tour and this documentary is to inspire people to get involved, make the right choices, and enjoy the music along the way.\"\n",
      "        }\n",
      "    ]\n",
      "}\n"
     ]
    }
   ],
   "source": [
    "py = json.dumps(py_data, indent=4)\n",
    "print(py)"
   ]
  },
  {
   "cell_type": "code",
   "execution_count": 18,
   "metadata": {},
   "outputs": [
    {
     "data": {
      "text/plain": [
       "[{'wrapperType': 'track',\n",
       "  'kind': 'feature-movie',\n",
       "  'artistId': 909253,\n",
       "  'trackId': 1467927519,\n",
       "  'artistName': 'Jack Johnson',\n",
       "  'trackName': 'En Concert',\n",
       "  'trackCensoredName': 'En Concert',\n",
       "  'artistViewUrl': 'https://music.apple.com/us/artist/jack-johnson/909253?uo=4',\n",
       "  'trackViewUrl': 'https://itunes.apple.com/us/movie/en-concert/id1467927519?uo=4',\n",
       "  'previewUrl': 'https://video-ssl.itunes.apple.com/itunes-assets/Video128/v4/be/ef/af/beefaffe-6278-4336-07a1-de180ddaeaf8/mzvf_1177979557611386379.640x468.h264lc.U.p.m4v',\n",
       "  'artworkUrl30': 'https://is2-ssl.mzstatic.com/image/thumb/Video/v4/b7/f6/89/b7f6899e-354c-c502-5d6f-9c4a12f9dffb/source/30x30bb.jpg',\n",
       "  'artworkUrl60': 'https://is2-ssl.mzstatic.com/image/thumb/Video/v4/b7/f6/89/b7f6899e-354c-c502-5d6f-9c4a12f9dffb/source/60x60bb.jpg',\n",
       "  'artworkUrl100': 'https://is2-ssl.mzstatic.com/image/thumb/Video/v4/b7/f6/89/b7f6899e-354c-c502-5d6f-9c4a12f9dffb/source/100x100bb.jpg',\n",
       "  'collectionPrice': 12.99,\n",
       "  'trackPrice': 12.99,\n",
       "  'releaseDate': '2009-01-01T08:00:00Z',\n",
       "  'collectionExplicitness': 'notExplicit',\n",
       "  'trackExplicitness': 'notExplicit',\n",
       "  'trackTimeMillis': 4773648,\n",
       "  'country': 'USA',\n",
       "  'currency': 'USD',\n",
       "  'primaryGenreName': 'Concert Films',\n",
       "  'contentAdvisoryRating': 'NR',\n",
       "  'shortDescription': 'Jack Johnson:: En Concert A Live Film and Album. Words by Emmett Malloy (filmmaker)   I began making',\n",
       "  'longDescription': 'Jack Johnson:: En Concert A Live Film and Album. Words by Emmett Malloy (filmmaker)   I began making films about 10 years ago with Jack. We became good friends right away, and seemed to be into the same sort of films, but both of us did not know a whole lot about the process. So we started with what we knew best…making surf films. We made a couple of films together, and it wasn’t long before Jack figured out making music was his real calling. So I lost my favorite cinematographer in Jack, but gained a new favorite musician. Now several years later, I have been lucky enough to be able to document the last decade of Jack’s music career. This past summer, a couple of friends and I went to Europe with Jack and his band for a tour supporting his last record, Sleep Through the Static. We brought a couple of cameras and microphones because it seemed like a great tour to capture. Jack Johnson::En Concert was the result of that decision. There was a point in the middle of the European tour where I was on stage behind Jack as he sang one of his most intimate love songs, “Better Together”. Looking through my lens I focused in on Jack standing alone in front of 20,000 fans. Lighters and cell phones lit up the crowd, illuminating most all of the audience that was singing along. It was the biggest backup vocal section I had ever witnessed, and it looked and sounded beautiful. As I focused my camera on the crowd, I began to see all the details of the fans. What went through my head was that we were in Paris, France, and suddenly the language barrier had no restrictions. Everyone knew the translation for Jack’s simple message, that “it’s so much better when we’re together.” This connection with the fans continued to happen in every country we traveled to around the world. These simple messages and testaments of love and family are what make Jack’s music so popular around the globe. As the filmmaker I really enjoyed being able to document the honest relationship between an artist and his fans. No matter where we were in the world that year, it was clear that everyone understood and believed in what Jack was singing about. Jack Johnson:: En Concert is a documentation of Jack and his band playing some of the most historic venues throughout Europe, and everything interesting they did in between shows. Jack really does not like to be on the other side of the lens. Getting a shot of him is kind of similar to getting a shot of the Loch Ness Monster; it’s a rare occurrence. Surprisingly, he let our cameras really join him on this tour. I just knew that I better keep a guitar or surfboard in his hands, because with either of those weapons he seemed to never know we were there.  Enjoy the film.  Emmett Malloy JACK JOHNSON EN CONCERT'},\n",
       " {'wrapperType': 'track',\n",
       "  'kind': 'feature-movie',\n",
       "  'trackId': 1020340181,\n",
       "  'artistName': 'Justin Krumb',\n",
       "  'trackName': 'Minds In the Water',\n",
       "  'trackCensoredName': 'Minds In the Water',\n",
       "  'trackViewUrl': 'https://itunes.apple.com/us/movie/minds-in-the-water/id1020340181?uo=4',\n",
       "  'previewUrl': 'https://video-ssl.itunes.apple.com/itunes-assets/Video122/v4/56/ec/5e/56ec5e69-d3a2-1724-efbc-ba2f4ce41397/mzvf_7061884105406007548.640x478.h264lc.U.p.m4v',\n",
       "  'artworkUrl30': 'https://is3-ssl.mzstatic.com/image/thumb/Video1/v4/47/58/ce/4758cedb-1812-d56e-4256-d362a41b3b5d/source/30x30bb.jpg',\n",
       "  'artworkUrl60': 'https://is3-ssl.mzstatic.com/image/thumb/Video1/v4/47/58/ce/4758cedb-1812-d56e-4256-d362a41b3b5d/source/60x60bb.jpg',\n",
       "  'artworkUrl100': 'https://is3-ssl.mzstatic.com/image/thumb/Video1/v4/47/58/ce/4758cedb-1812-d56e-4256-d362a41b3b5d/source/100x100bb.jpg',\n",
       "  'collectionPrice': 9.99,\n",
       "  'trackPrice': 9.99,\n",
       "  'trackRentalPrice': 3.99,\n",
       "  'collectionHdPrice': 12.99,\n",
       "  'trackHdPrice': 12.99,\n",
       "  'trackHdRentalPrice': 3.99,\n",
       "  'releaseDate': '2012-11-13T08:00:00Z',\n",
       "  'collectionExplicitness': 'notExplicit',\n",
       "  'trackExplicitness': 'notExplicit',\n",
       "  'trackTimeMillis': 5106472,\n",
       "  'country': 'USA',\n",
       "  'currency': 'USD',\n",
       "  'primaryGenreName': 'Action & Adventure',\n",
       "  'contentAdvisoryRating': 'NR',\n",
       "  'shortDescription': 'Pro soul surfer Dave \"Rasta\" Rastovich went from observer to activist when he embarked on a personal',\n",
       "  'longDescription': 'Pro soul surfer Dave \"Rasta\" Rastovich went from observer to activist when he embarked on a personal mission to help dolphins, whales and the oceans they all share. While unsure at first, Rasta quickly found his activist sea legs and helped build a core team of filmmakers, journalists, musicians, eco-pirates and celebrity surfers to help spread the message, in an international quest to inspire change.'},\n",
       " {'wrapperType': 'track',\n",
       "  'kind': 'feature-movie',\n",
       "  'artistId': 909253,\n",
       "  'trackId': 1487135503,\n",
       "  'artistName': 'Jack Johnson',\n",
       "  'trackName': 'All At Once: On the Road Tour Documentary',\n",
       "  'trackCensoredName': 'All At Once: On the Road Tour Documentary',\n",
       "  'artistViewUrl': 'https://music.apple.com/us/artist/jack-johnson/909253?uo=4',\n",
       "  'trackViewUrl': 'https://itunes.apple.com/us/movie/all-at-once-on-the-road-tour-documentary/id1487135503?uo=4',\n",
       "  'previewUrl': 'https://video-ssl.itunes.apple.com/itunes-assets/Video111/v4/a8/e5/19/a8e5199c-df7e-7ff1-6c87-0bc4db95a201/mzvf_2579342668513896153.640x476.h264lc.U.p.m4v',\n",
       "  'artworkUrl30': 'https://is4-ssl.mzstatic.com/image/thumb/Video5/v4/94/0f/0c/940f0cfb-3368-1e16-f94f-f89c27ae8496/source/30x30bb.jpg',\n",
       "  'artworkUrl60': 'https://is4-ssl.mzstatic.com/image/thumb/Video5/v4/94/0f/0c/940f0cfb-3368-1e16-f94f-f89c27ae8496/source/60x60bb.jpg',\n",
       "  'artworkUrl100': 'https://is4-ssl.mzstatic.com/image/thumb/Video5/v4/94/0f/0c/940f0cfb-3368-1e16-f94f-f89c27ae8496/source/100x100bb.jpg',\n",
       "  'collectionPrice': 7.99,\n",
       "  'trackPrice': 7.99,\n",
       "  'trackRentalPrice': 3.99,\n",
       "  'collectionHdPrice': 9.99,\n",
       "  'trackHdPrice': 9.99,\n",
       "  'trackHdRentalPrice': 4.99,\n",
       "  'releaseDate': '2016-04-08T07:00:00Z',\n",
       "  'collectionExplicitness': 'notExplicit',\n",
       "  'trackExplicitness': 'notExplicit',\n",
       "  'trackTimeMillis': 2472388,\n",
       "  'country': 'USA',\n",
       "  'currency': 'USD',\n",
       "  'primaryGenreName': 'Concert Films',\n",
       "  'contentAdvisoryRating': 'NR',\n",
       "  'shortDescription': 'This film takes an intimate look at Jack Johnson’s music and tour greening initiatives. When Jack',\n",
       "  'longDescription': 'This film takes an intimate look at Jack Johnson’s music and tour greening initiatives. When Jack goes on the road, he doesn’t just show up and play music. The tour partners with local non-profits, local food vendors and strives to leave a lasting positive impact. The entire tour is an extension of the environmentally conscious and socially engaged life he leads along with his wife, Kim. After years on the road, playing venues around the globe, the Johnson’s have established an inspiring way of touring with a focus on creating as little impact on the earth as possible. Along the way, the tour gives a platform to dozens of local non-profits working to educate and inspire others to make choices that benefit our communities and the greater global environment. While following Jack’s 2014 west coast tour, this film highlights the Johnson‘s Kokua Hawaii Foundation, the All At Once campaign, and several non-profit partners and businesses focusing on plastic free initiatives and sustainable local food systems. Additionally, the film highlights the unique way in which tour is run. From traveling on biodiesel-powered buses, to sourcing organic and locally grown meals to carefully disposing of waste created along the way. The goal of the tour and this documentary is to inspire people to get involved, make the right choices, and enjoy the music along the way.'}]"
      ]
     },
     "execution_count": 18,
     "metadata": {},
     "output_type": "execute_result"
    }
   ],
   "source": [
    "py_data['results']"
   ]
  },
  {
   "cell_type": "markdown",
   "metadata": {},
   "source": [
    "## flickr API"
   ]
  },
  {
   "cell_type": "code",
   "execution_count": 27,
   "metadata": {},
   "outputs": [
    {
     "name": "stdout",
     "output_type": "stream",
     "text": [
      "https://api.flickr.com/services/rest?api_key=f2ba3cc2fc00e8e500cf6259dff60e6d&format=json&method=flickr.photos.search&nojsoncallback=1&tags=river%2C+mountains&tag_mode=all&per_page=5&media=photos\n",
      "{\"photos\":{\"page\":1,\"pages\":42878,\"perpage\":5,\"total\":214388,\"photo\":[{\"id\":\"51372877696\",\"owner\":\"110154554@N04\",\"secret\":\"e4f5864f3c\",\"server\":\"65535\",\"farm\":66,\"title\":\"NSK River Scene\",\"ispublic\":1,\"isfriend\":0,\"isfamily\":0},{\"id\":\"51373727490\",\"owner\":\"110154554@N04\",\"secret\":\"a7355f27c2\",\"server\":\"65535\",\"farm\":66,\"title\":\"Alberta summer morning\",\"ispublic\":1,\"isfriend\":0,\"isfamily\":0},{\"id\":\"51372058436\",\"owner\":\"59509464@N00\",\"secret\":\"7cc790ca3c\",\"server\":\"65535\",\"farm\":66,\"title\":\"Austurfjall\",\"ispublic\":1,\"isfriend\":0,\"isfamily\":0},{\"id\":\"51371800631\",\"owner\":\"51035785936@N01\",\"secret\":\"bdcd831d50\",\"server\":\"65535\",\"farm\":66,\"title\":\"Utladalen\",\"ispublic\":1,\"isfriend\":0,\"isfamily\":0},{\"id\":\"51371785621\",\"owner\":\"45523282@N07\",\"secret\":\"1820d9ee2d\",\"server\":\"65535\",\"farm\":66,\"title\":\"Morning mist in Novar\",\"ispublic\":1,\"isfriend\":0,\"isfamily\":0}]},\"stat\":\"ok\"}\n",
      "----------\n",
      "{'photos': {'page': 1, 'pages': 42878, 'perpage': 5, 'total': 214388, 'photo': [{'id': '51372877696', 'owner': '110154554@N04', 'secret': 'e4f5864f3c', 'server': '65535', 'farm': 66, 'title': 'NSK River Scene', 'ispublic': 1, 'isfriend': 0, 'isfamily': 0}, {'id': '51373727490', 'owner': '110154554@N04', 'secret': 'a7355f27c2', 'server': '65535', 'farm': 66, 'title': 'Alberta summer morning', 'ispublic': 1, 'isfriend': 0, 'isfamily': 0}, {'id': '51372058436', 'owner': '59509464@N00', 'secret': '7cc790ca3c', 'server': '65535', 'farm': 66, 'title': 'Austurfjall', 'ispublic': 1, 'isfriend': 0, 'isfamily': 0}, {'id': '51371800631', 'owner': '51035785936@N01', 'secret': 'bdcd831d50', 'server': '65535', 'farm': 66, 'title': 'Utladalen', 'ispublic': 1, 'isfriend': 0, 'isfamily': 0}, {'id': '51371785621', 'owner': '45523282@N07', 'secret': '1820d9ee2d', 'server': '65535', 'farm': 66, 'title': 'Morning mist in Novar', 'ispublic': 1, 'isfriend': 0, 'isfamily': 0}]}, 'stat': 'ok'}\n",
      "---------\n",
      "{\n",
      "    \"photos\": {\n",
      "        \"page\": 1,\n",
      "        \"pages\": 42878,\n",
      "        \"perpage\": 5,\n",
      "        \"total\": 214388,\n",
      "        \"photo\": [\n",
      "            {\n",
      "                \"id\": \"51372877696\",\n",
      "                \"owner\": \"110154554@N04\",\n",
      "                \"secret\": \"e4f5864f3c\",\n",
      "                \"server\": \"65535\",\n",
      "                \"farm\": 66,\n",
      "                \"title\": \"NSK River Scene\",\n",
      "                \"ispublic\": 1,\n",
      "                \"isfriend\": 0,\n",
      "                \"isfamily\": 0\n",
      "            },\n",
      "            {\n",
      "                \"id\": \"51373727490\",\n",
      "                \"owner\": \"110154554@N04\",\n",
      "                \"secret\": \"a7355f27c2\",\n",
      "                \"server\": \"65535\",\n",
      "                \"farm\": 66,\n",
      "                \"title\": \"Alberta summer morning\",\n",
      "                \"ispublic\": 1,\n",
      "                \"isfriend\": 0,\n",
      "                \"isfamily\": 0\n",
      "            },\n",
      "            {\n",
      "                \"id\": \"51372058436\",\n",
      "                \"owner\": \"59509464@N00\",\n",
      "                \"secret\": \"7cc790ca3c\",\n",
      "                \"server\": \"65535\",\n",
      "                \"farm\": 66,\n",
      "                \"title\": \"Austurfjall\",\n",
      "                \"ispublic\": 1,\n",
      "                \"isfriend\": 0,\n",
      "                \"isfamily\": 0\n",
      "            },\n",
      "            {\n",
      "                \"id\": \"51371800631\",\n",
      "                \"owner\": \"51035785936@N01\",\n",
      "                \"secret\": \"bdcd831d50\",\n",
      "                \"server\": \"65535\",\n",
      "                \"farm\": 66,\n",
      "                \"title\": \"Utladalen\",\n",
      "                \"ispublic\": 1,\n",
      "                \"isfriend\": 0,\n",
      "                \"isfamily\": 0\n",
      "            },\n",
      "            {\n",
      "                \"id\": \"51371785621\",\n",
      "                \"owner\": \"45523282@N07\",\n",
      "                \"secret\": \"1820d9ee2d\",\n",
      "                \"server\": \"65535\",\n",
      "                \"farm\": 66,\n",
      "                \"title\": \"Morning mist in Novar\",\n",
      "                \"ispublic\": 1,\n",
      "                \"isfriend\": 0,\n",
      "                \"isfamily\": 0\n",
      "            }\n",
      "        ]\n",
      "    },\n",
      "    \"stat\": \"ok\"\n",
      "}\n"
     ]
    }
   ],
   "source": [
    "# Import data from flickr \n",
    "\n",
    "import requests\n",
    "import json\n",
    "import creds\n",
    "\n",
    "base_url = 'https://api.flickr.com/services/rest'\n",
    "parameters = {'api_key':creds.api_key,\n",
    "              'format':'json', \n",
    "              'method':'flickr.photos.search',\n",
    "              'nojsoncallback':1,\n",
    "              'tags': 'river, mountains',\n",
    "              'tag_mode':'all',\n",
    "             'per_page':5,\n",
    "             'media':'photos'}\n",
    "flickr_response = requests.get(base_url, params=parameters)\n",
    "print(flickr_response.url)\n",
    "print(flickr_response.text)\n",
    "print('----------')\n",
    "x = json.loads(flickr_response.text)\n",
    "print(x)\n",
    "print('---------')\n",
    "y = json.dumps(x, indent=4)\n",
    "print(y)"
   ]
  },
  {
   "cell_type": "code",
   "execution_count": 54,
   "metadata": {},
   "outputs": [
    {
     "data": {
      "text/plain": [
       "'ok'"
      ]
     },
     "execution_count": 54,
     "metadata": {},
     "output_type": "execute_result"
    }
   ],
   "source": [
    "x['stat']"
   ]
  },
  {
   "cell_type": "code",
   "execution_count": 43,
   "metadata": {},
   "outputs": [
    {
     "name": "stdout",
     "output_type": "stream",
     "text": [
      "https://api.flickr.com/services/rest?api_key=f2ba3cc2fc00e8e500cf6259dff60e6d&tags=river%2C+mountains&tag_mode=all&nojsoncallback=1&method=flickr.photos.search&media=photos&per_page=5&format=json\n"
     ]
    }
   ],
   "source": [
    "api_key = creds.api_key\n",
    "tags_strings = 'river, mountains'\n",
    "def get_flickr_data(tags_string):\n",
    "    base_url = 'https://api.flickr.com/services/rest'\n",
    "    params_diction={}\n",
    "    params_diction['api_key'] = api_key\n",
    "    params_diction['tags'] = tags_strings\n",
    "    params_diction['tag_mode'] = 'all'\n",
    "    params_diction['nojsoncallback'] = 1\n",
    "    params_diction['method'] = 'flickr.photos.search'\n",
    "    params_diction['media'] = 'photos'\n",
    "    params_diction['per_page'] = 5\n",
    "    params_diction['format'] = 'json'\n",
    "    flickr_resp = requests.get(base_url, params=params_diction)\n",
    "    print(flickr_resp.url)\n",
    "    return flickr_resp.json()\n",
    "result_river_mnts = get_flickr_data('river, mountains')"
   ]
  },
  {
   "cell_type": "code",
   "execution_count": 44,
   "metadata": {},
   "outputs": [
    {
     "name": "stdout",
     "output_type": "stream",
     "text": [
      "{'photos': {'page': 1, 'pages': 41529, 'perpage': 5, 'total': 207642, 'photo': [{'id': '51368289146', 'owner': '192752746@N08', 'secret': '6cac2d5c0e', 'server': '65535', 'farm': 66, 'title': 'Colorado rivers', 'ispublic': 1, 'isfriend': 0, 'isfamily': 0}, {'id': '51369296015', 'owner': '192752746@N08', 'secret': '6444fc2542', 'server': '65535', 'farm': 66, 'title': 'Colorado rivers', 'ispublic': 1, 'isfriend': 0, 'isfamily': 0}, {'id': '51368509778', 'owner': '192752746@N08', 'secret': '5326082dd0', 'server': '65535', 'farm': 66, 'title': 'Colorado rivers', 'ispublic': 1, 'isfriend': 0, 'isfamily': 0}, {'id': '51369295790', 'owner': '192752746@N08', 'secret': 'c0da1e9315', 'server': '65535', 'farm': 66, 'title': 'Colorado rivers', 'ispublic': 1, 'isfriend': 0, 'isfamily': 0}, {'id': '51369025404', 'owner': '192752746@N08', 'secret': '8c4c323413', 'server': '65535', 'farm': 66, 'title': 'Colorado rivers', 'ispublic': 1, 'isfriend': 0, 'isfamily': 0}]}, 'stat': 'ok'}\n"
     ]
    }
   ],
   "source": [
    "print(result_river_mnts)"
   ]
  },
  {
   "cell_type": "code",
   "execution_count": 50,
   "metadata": {},
   "outputs": [
    {
     "data": {
      "text/plain": [
       "[{'id': '51368289146',\n",
       "  'owner': '192752746@N08',\n",
       "  'secret': '6cac2d5c0e',\n",
       "  'server': '65535',\n",
       "  'farm': 66,\n",
       "  'title': 'Colorado rivers',\n",
       "  'ispublic': 1,\n",
       "  'isfriend': 0,\n",
       "  'isfamily': 0},\n",
       " {'id': '51369296015',\n",
       "  'owner': '192752746@N08',\n",
       "  'secret': '6444fc2542',\n",
       "  'server': '65535',\n",
       "  'farm': 66,\n",
       "  'title': 'Colorado rivers',\n",
       "  'ispublic': 1,\n",
       "  'isfriend': 0,\n",
       "  'isfamily': 0},\n",
       " {'id': '51368509778',\n",
       "  'owner': '192752746@N08',\n",
       "  'secret': '5326082dd0',\n",
       "  'server': '65535',\n",
       "  'farm': 66,\n",
       "  'title': 'Colorado rivers',\n",
       "  'ispublic': 1,\n",
       "  'isfriend': 0,\n",
       "  'isfamily': 0},\n",
       " {'id': '51369295790',\n",
       "  'owner': '192752746@N08',\n",
       "  'secret': 'c0da1e9315',\n",
       "  'server': '65535',\n",
       "  'farm': 66,\n",
       "  'title': 'Colorado rivers',\n",
       "  'ispublic': 1,\n",
       "  'isfriend': 0,\n",
       "  'isfamily': 0},\n",
       " {'id': '51369025404',\n",
       "  'owner': '192752746@N08',\n",
       "  'secret': '8c4c323413',\n",
       "  'server': '65535',\n",
       "  'farm': 66,\n",
       "  'title': 'Colorado rivers',\n",
       "  'ispublic': 1,\n",
       "  'isfriend': 0,\n",
       "  'isfamily': 0}]"
      ]
     },
     "execution_count": 50,
     "metadata": {},
     "output_type": "execute_result"
    }
   ],
   "source": [
    "result_river_mnts['photos']['photo']"
   ]
  }
 ],
 "metadata": {
  "kernelspec": {
   "display_name": "Python 3 (ipykernel)",
   "language": "python",
   "name": "python3"
  },
  "language_info": {
   "codemirror_mode": {
    "name": "ipython",
    "version": 3
   },
   "file_extension": ".py",
   "mimetype": "text/x-python",
   "name": "python",
   "nbconvert_exporter": "python",
   "pygments_lexer": "ipython3",
   "version": "3.9.12"
  }
 },
 "nbformat": 4,
 "nbformat_minor": 4
}
